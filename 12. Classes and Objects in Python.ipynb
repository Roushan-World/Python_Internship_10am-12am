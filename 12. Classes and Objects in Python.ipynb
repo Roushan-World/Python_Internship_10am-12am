{
 "cells": [
  {
   "cell_type": "markdown",
   "id": "583cc4b9",
   "metadata": {},
   "source": [
    "# 12. Classes and Objects in Python\n",
    "\n",
    "\n",
    " * Python is an object-oriented programming language.\n",
    " * Unlike procedure-oriented programming, where the amin emphasis is on functions, object-oriented programming stresses on objects.\n",
    " * An __object__ is simply a collection of data (variables) and methods (functions) that act on those data.\n",
    " * Similarly, a __class__ is a blueprint for that object.\n",
    " * Like function definitions begins with the __def__ keyword in Python, class definitions begin with a class keyword.\n",
    " * The first string inside the class is called __docstring__ and has a bried fescription of the class.\n",
    " * Although not mandatrory, this is highly recommended."
   ]
  },
  {
   "cell_type": "code",
   "execution_count": 2,
   "id": "804d43e3",
   "metadata": {},
   "outputs": [
    {
     "name": "stdout",
     "output_type": "stream",
     "text": [
      "3.14\n"
     ]
    }
   ],
   "source": [
    "class Data:\n",
    "    num =3.14\n",
    "var=Data()\n",
    "print(var.num)\n"
   ]
  },
  {
   "cell_type": "code",
   "execution_count": 7,
   "id": "2b0c9294",
   "metadata": {},
   "outputs": [
    {
     "name": "stdout",
     "output_type": "stream",
     "text": [
      "Vivek\n",
      "20\n",
      "123456789\n",
      "vivek@123gmail.com\n"
     ]
    }
   ],
   "source": [
    "class details:\n",
    "    def __init__(self,name,age,contact,email):\n",
    "        self.name= name\n",
    "        self.age= age\n",
    "        self.contact= contact\n",
    "        self.email=email\n",
    "value=details('Vivek',20,'123456789','vivek@123gmail.com')\n",
    "print(value.name)\n",
    "print(value.age)\n",
    "print(value.contact)\n",
    "print(value.email)"
   ]
  },
  {
   "cell_type": "code",
   "execution_count": 9,
   "id": "9c2db659",
   "metadata": {},
   "outputs": [
    {
     "name": "stdout",
     "output_type": "stream",
     "text": [
      "My name is: Vivek.\n",
      "I am 20 old.\n",
      "You can contact me on this 123456789.\n",
      "You can mail me on vivek@123gmail.com.\n"
     ]
    }
   ],
   "source": [
    "class details:\n",
    "    def __init__(self,name,age,contact,email):\n",
    "        self.name= name\n",
    "        self.age= age\n",
    "        self.contact= contact\n",
    "        self.email=email\n",
    "    def msg_details(self):\n",
    "        print(f'My name is: {self.name}.')\n",
    "        print(f'I am {self.age} old.')\n",
    "        print(f'You can contact me on this {self.contact}.')\n",
    "        print(f'You can mail me on {self.email}.')\n",
    "        \n",
    "        \n",
    "value=details('Vivek',20,'123456789','vivek@123gmail.com')\n",
    "value.msg_details()"
   ]
  },
  {
   "cell_type": "markdown",
   "id": "cc8b8881",
   "metadata": {},
   "source": [
    "# self parameter"
   ]
  },
  {
   "cell_type": "markdown",
   "id": "0e892c61",
   "metadata": {},
   "source": [
    " * The __self paramter__ is a reference to the current instance of the class, and is used to access variables that belongs to the class.\n",
    " * It does not have to be names __self__, you can call it whatever you like, but it has to be the __first parameter__ of any function in the class.\n",
    " "
   ]
  },
  {
   "cell_type": "code",
   "execution_count": 10,
   "id": "35fba653",
   "metadata": {},
   "outputs": [
    {
     "name": "stdout",
     "output_type": "stream",
     "text": [
      "My name is: Vivek.\n",
      "I am 20 old.\n",
      "You can contact me on this 123456789.\n",
      "You can mail me on vivek@123gmail.com.\n"
     ]
    }
   ],
   "source": [
    "'''\n",
    "The following codes are the same as the above codes under the title \"mehtods.\"\n",
    "You see that the output is the same, but this codes contain 'classFirstParameter' instead of 'self.'\n",
    "'''\n",
    "\n",
    "class details:\n",
    "    def __init__(classFirstParameter,name,age,contact,email):\n",
    "        classFirstParameter.name= name\n",
    "        classFirstParameter.age= age\n",
    "        classFirstParameter.contact= contact\n",
    "        classFirstParameter.email=email\n",
    "    def msg_details(classFirstParameter):\n",
    "        print(f'My name is: {classFirstParameter.name}.')\n",
    "        print(f'I am {classFirstParameter.age} old.')\n",
    "        print(f'You can contact me on this {classFirstParameter.contact}.')\n",
    "        print(f'You can mail me on {classFirstParameter.email}.')\n",
    "        \n",
    "        \n",
    "value=details('Vivek',20,'123456789','vivek@123gmail.com')\n",
    "value.msg_details()"
   ]
  },
  {
   "cell_type": "markdown",
   "id": "c3b28729",
   "metadata": {},
   "source": [
    "# 1. Single Inheritance\n",
    "\n",
    "# 2. Multiple Inheritance\n",
    "\n",
    "# 3. Multilevel Inheritance\n",
    "\n",
    "# 4. Hierarchical Inheritance"
   ]
  },
  {
   "cell_type": "markdown",
   "id": "e4972cd0",
   "metadata": {},
   "source": [
    " __1. Single Inheritance__"
   ]
  },
  {
   "cell_type": "code",
   "execution_count": 16,
   "id": "a1c76375",
   "metadata": {},
   "outputs": [
    {
     "name": "stdout",
     "output_type": "stream",
     "text": [
      "Amazon is an Online Commerce Store.\n",
      "Flipkart is an Online Commerce Store.\n",
      "Olx is an Online Commerce Store.\n",
      "Amazon is an Online Store\n",
      "Flipkart is an Online Store\n"
     ]
    }
   ],
   "source": [
    "# Single inheritance.\n",
    "\n",
    "class Brands:                 # Parent class\n",
    "    brand_name_1='Amazon'\n",
    "    brand_name_2='Flipkart'\n",
    "    brand_name_3='Olx'\n",
    "\n",
    "class Products(Brands):         # Child class\n",
    "    prod_1='Online Commerce Store.'\n",
    "    prod_2='Online Store'\n",
    "    prod_3='Online Buy and Sell Store'\n",
    "    \n",
    "obj_1=Products()\n",
    "\n",
    "print(obj_1.brand_name_1,'is an',obj_1.prod_1)\n",
    "print(obj_1.brand_name_2,'is an',obj_1.prod_1)\n",
    "print(obj_1.brand_name_3,'is an',obj_1.prod_1)\n",
    "print(obj_1.brand_name_1,'is an',obj_1.prod_2)\n",
    "# print(obj_1.brand_name_1,'is an',obj_1.prod_3)\n",
    "print(obj_1.brand_name_2,'is an',obj_1.prod_2)\n"
   ]
  },
  {
   "cell_type": "markdown",
   "id": "e939a5e7",
   "metadata": {},
   "source": [
    "__2.Multiple Inheritance__"
   ]
  },
  {
   "cell_type": "code",
   "execution_count": 18,
   "id": "bc2aed50",
   "metadata": {},
   "outputs": [
    {
     "name": "stdout",
     "output_type": "stream",
     "text": [
      "Amazon is an Online Commerce Store. its popularity is 100\n"
     ]
    }
   ],
   "source": [
    "class Brands:                 # Parent class\n",
    "    brand_name_1='Amazon'\n",
    "    brand_name_2='Flipkart'\n",
    "    brand_name_3='Olx'\n",
    "\n",
    "class Products:         # Parent class\n",
    "    prod_1='Online Commerce Store.'\n",
    "    prod_2='Online Store'\n",
    "    prod_3='Online Buy and Sell Store'\n",
    "    \n",
    "class popularity(Brands,Products):  # child class\n",
    "    prod_1_popularity='100'\n",
    "    prod_2_popularity='70'\n",
    "    prod_3_popularity='60'\n",
    "    \n",
    "obj_1=popularity()\n",
    "\n",
    "print(obj_1.brand_name_1+' is an '+obj_1.prod_1+' its popularity is '+ obj_1.prod_1_popularity)"
   ]
  },
  {
   "cell_type": "markdown",
   "id": "e876278a",
   "metadata": {},
   "source": [
    "#  Multilevel Inheritance"
   ]
  },
  {
   "cell_type": "code",
   "execution_count": 20,
   "id": "e691356d",
   "metadata": {},
   "outputs": [
    {
     "name": "stdout",
     "output_type": "stream",
     "text": [
      "Amazon is an Online Commerce Store. its popularity is 100\n",
      "Flipkart is an Online Store its popularity is 70\n"
     ]
    }
   ],
   "source": [
    "class Brands:                 # grand Parent class\n",
    "    brand_name_1='Amazon'\n",
    "    brand_name_2='Flipkart'\n",
    "    brand_name_3='Olx'\n",
    "\n",
    "class Products(Brands):         # Parent class\n",
    "    prod_1='Online Commerce Store.'\n",
    "    prod_2='Online Store'\n",
    "    prod_3='Online Buy and Sell Store'\n",
    "    \n",
    "class popularity(Products):  # child class\n",
    "    prod_1_popularity='100'\n",
    "    prod_2_popularity='70'\n",
    "    prod_3_popularity='60'\n",
    "    \n",
    "obj_1=popularity()\n",
    "\n",
    "print(obj_1.brand_name_1+' is an '+obj_1.prod_1+' its popularity is '+ obj_1.prod_1_popularity)\n",
    "print(obj_1.brand_name_2+' is an '+obj_1.prod_2+' its popularity is '+ obj_1.prod_2_popularity)"
   ]
  },
  {
   "cell_type": "markdown",
   "id": "258b89c9",
   "metadata": {},
   "source": [
    "# Hirerarchical Inheritance"
   ]
  },
  {
   "cell_type": "code",
   "execution_count": 22,
   "id": "11d7a752",
   "metadata": {},
   "outputs": [
    {
     "name": "stdout",
     "output_type": "stream",
     "text": [
      "Amazon is a Best Value\n"
     ]
    }
   ],
   "source": [
    "class Brands:                 # Parent class\n",
    "    brand_name_1='Amazon'\n",
    "    brand_name_2='Flipkart'\n",
    "    brand_name_3='Olx'\n",
    "\n",
    "class Products(Brands):         # Child class\n",
    "    prod_1='Online Commerce Store.'\n",
    "    prod_2='Online Store'\n",
    "    prod_3='Online Buy and Sell Store'\n",
    "    \n",
    "class popularity(Brands):  # child class\n",
    "    prod_1_popularity='100'\n",
    "    prod_2_popularity='70'\n",
    "    prod_3_popularity='60'\n",
    "    \n",
    "class value(Brands):    # Child class\n",
    "    prod_1_value='Best Value'\n",
    "    prod_2_value='Better Value'\n",
    "    prod_3_value='Good Value'\n",
    "    \n",
    "obj_1=Products()\n",
    "obj_2=popularity()\n",
    "obj_3=value()\n",
    "\n",
    "print(obj_3.brand_name_1+' is a '+obj_3.prod_1_value)\n",
    "\n"
   ]
  },
  {
   "cell_type": "markdown",
   "id": "84da4a61",
   "metadata": {},
   "source": [
    "# 4. Methods of OOPS concept :\n",
    "\n",
    "   __Inheritance__\n",
    "   \n",
    "   __Polymorphism__\n",
    "   \n",
    "   __Encapsulation__\n",
    "   \n",
    "   __Abastraction__"
   ]
  },
  {
   "cell_type": "code",
   "execution_count": null,
   "id": "e806c28f",
   "metadata": {},
   "outputs": [],
   "source": []
  }
 ],
 "metadata": {
  "kernelspec": {
   "display_name": "Python 3 (ipykernel)",
   "language": "python",
   "name": "python3"
  },
  "language_info": {
   "codemirror_mode": {
    "name": "ipython",
    "version": 3
   },
   "file_extension": ".py",
   "mimetype": "text/x-python",
   "name": "python",
   "nbconvert_exporter": "python",
   "pygments_lexer": "ipython3",
   "version": "3.9.13"
  }
 },
 "nbformat": 4,
 "nbformat_minor": 5
}
