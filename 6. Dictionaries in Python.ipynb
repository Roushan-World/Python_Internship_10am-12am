{
 "cells": [
  {
   "cell_type": "markdown",
   "id": "655d9dd0",
   "metadata": {},
   "source": [
    "# 6. Dictionaries in Python\n",
    "\n",
    " * __Dictionaries__ are used to sotre data values in key:value pairs.\n",
    " * A __dictionary__ is a collection which is ordred, changeable or mutable and do not allow duplicates.\n",
    " * __Dictionary__ items are ordred, changeable, and does not allow duplicates.\n",
    " * __Dictionaries__ items are presented in key:value pairs, and can be referred to by using the key name.\n",
    " * __Dictionaries__ are changeable, meaning that we can change, add or remove items after the dictionary has been created.\n",
    " * __Dictionaries__ cannot have two items with the same key.\n",
    " * A __dictionary__ can nested and can contain another dictionary.\n",
    " \n",
    " \n",
    "     __Keys__                  __Values__\n",
    "     \n",
    "     __'name'__ :              __'Bob'__\n",
    "     __'age'__:                __25__\n",
    "     __'city'__:               __'Pune'__\n",
    "     __'job'__:                __'Python Developer'__\n",
    "     __'email__:               __'bob@web.com'__"
   ]
  },
  {
   "cell_type": "code",
   "execution_count": 8,
   "id": "2338d305",
   "metadata": {},
   "outputs": [
    {
     "data": {
      "text/plain": [
       "{'name': 'Vivek',\n",
       " 'age': 18,\n",
       " 'city': 'Pune',\n",
       " 'job': 'jobless',\n",
       " 'email': 'vivek25@gmail.com',\n",
       " 'contact': 7894561233}"
      ]
     },
     "execution_count": 8,
     "metadata": {},
     "output_type": "execute_result"
    }
   ],
   "source": [
    "sample_dict = {'name':'Vivek','age':18,\n",
    "              'city':'Pune','job':'jobless',\n",
    "              'email':'vivek25@gmail.com','contact':7894561233}\n",
    "\n",
    "sample_dict"
   ]
  },
  {
   "cell_type": "code",
   "execution_count": 9,
   "id": "bccb209a",
   "metadata": {},
   "outputs": [
    {
     "data": {
      "text/plain": [
       "dict_keys(['name', 'age', 'city', 'job', 'email', 'contact'])"
      ]
     },
     "execution_count": 9,
     "metadata": {},
     "output_type": "execute_result"
    }
   ],
   "source": [
    "sample_dict.keys()"
   ]
  },
  {
   "cell_type": "code",
   "execution_count": 10,
   "id": "410007ed",
   "metadata": {},
   "outputs": [
    {
     "data": {
      "text/plain": [
       "dict_values(['Vivek', 18, 'Pune', 'jobless', 'vivek25@gmail.com', 7894561233])"
      ]
     },
     "execution_count": 10,
     "metadata": {},
     "output_type": "execute_result"
    }
   ],
   "source": [
    "sample_dict.values()"
   ]
  },
  {
   "cell_type": "code",
   "execution_count": 12,
   "id": "5b1ddf59",
   "metadata": {},
   "outputs": [
    {
     "name": "stdout",
     "output_type": "stream",
     "text": [
      "Vivek\n",
      "18\n",
      "Pune\n",
      "jobless\n",
      "vivek25@gmail.com\n",
      "7894561233\n"
     ]
    }
   ],
   "source": [
    "print(sample_dict['name'])\n",
    "print(sample_dict['age'])\n",
    "print(sample_dict['city'])\n",
    "print(sample_dict['job'])\n",
    "print(sample_dict['email'])\n",
    "print(sample_dict['contact'])"
   ]
  },
  {
   "cell_type": "code",
   "execution_count": 13,
   "id": "c6d60490",
   "metadata": {},
   "outputs": [
    {
     "ename": "KeyError",
     "evalue": "'Vivek'",
     "output_type": "error",
     "traceback": [
      "\u001b[1;31m---------------------------------------------------------------------------\u001b[0m",
      "\u001b[1;31mKeyError\u001b[0m                                  Traceback (most recent call last)",
      "\u001b[1;32m~\\AppData\\Local\\Temp\\ipykernel_16888\\4222297202.py\u001b[0m in \u001b[0;36m<module>\u001b[1;34m\u001b[0m\n\u001b[1;32m----> 1\u001b[1;33m \u001b[0mprint\u001b[0m\u001b[1;33m(\u001b[0m\u001b[0msample_dict\u001b[0m\u001b[1;33m[\u001b[0m\u001b[1;34m'Vivek'\u001b[0m\u001b[1;33m]\u001b[0m\u001b[1;33m)\u001b[0m\u001b[1;33m\u001b[0m\u001b[1;33m\u001b[0m\u001b[0m\n\u001b[0m",
      "\u001b[1;31mKeyError\u001b[0m: 'Vivek'"
     ]
    }
   ],
   "source": [
    "print(sample_dict['Vivek'])"
   ]
  },
  {
   "cell_type": "code",
   "execution_count": null,
   "id": "e11b1504",
   "metadata": {},
   "outputs": [],
   "source": []
  }
 ],
 "metadata": {
  "kernelspec": {
   "display_name": "Python 3 (ipykernel)",
   "language": "python",
   "name": "python3"
  },
  "language_info": {
   "codemirror_mode": {
    "name": "ipython",
    "version": 3
   },
   "file_extension": ".py",
   "mimetype": "text/x-python",
   "name": "python",
   "nbconvert_exporter": "python",
   "pygments_lexer": "ipython3",
   "version": "3.9.13"
  }
 },
 "nbformat": 4,
 "nbformat_minor": 5
}
