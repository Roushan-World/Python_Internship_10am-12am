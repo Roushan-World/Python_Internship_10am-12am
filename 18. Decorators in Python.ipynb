{
 "cells": [
  {
   "cell_type": "markdown",
   "id": "cce56242",
   "metadata": {},
   "source": [
    "# 18. Decorators in Python\n",
    " \n",
    " * __Decorators provides a simple syntax for calling higher-order functions.__\n",
    " * __By definition, a decorators is a function that takes another function and extends the behavior of the the latter function without explicitly modifying it.__\n",
    " * __A decorator in Python is a function that takes another functions as its argument, and returns yet another function.__\n",
    " * __Decorators can be extremely useful as they allow the extension of an existing function,without any modification to the original function source code.__\n",
    " * __In Fact, there are two types of decorators in Python including class decorators and function decorators.__\n",
    " * __In application, decorators are majorly used in creating middle layer in the backend, it performs task like token authentication, validation, image compression and many more.__\n",
    " \n",
    " \n",
    " \n",
    " # Syntax of Decorator\n",
    " \n",
    " '''\n",
    " @hello_decorator\n",
    " \n",
    " def hi_decorator():\n",
    " \n",
    "     print('Hello')\n",
    "     \n",
    " '''\n",
    " \n",
    " \"\"\"\n",
    " \n",
    " Above code is equal to -\n",
    " \n",
    " def hi_decorator():\n",
    " \n",
    "     print('Hello')\n",
    "     \n",
    " hi_decorator=hello_decorator(hi_decorator)\n",
    " \n",
    " \"\"\""
   ]
  },
  {
   "cell_type": "code",
   "execution_count": 2,
   "id": "3e8ae1ab",
   "metadata": {},
   "outputs": [],
   "source": [
    "import decorator\n",
    "from decorator import *\n",
    "import functools\n",
    "import math"
   ]
  },
  {
   "cell_type": "code",
   "execution_count": 3,
   "id": "a2c4a5fc",
   "metadata": {},
   "outputs": [
    {
     "name": "stdout",
     "output_type": "stream",
     "text": [
      "Help on function decorator in module decorator:\n",
      "\n",
      "decorator(caller, _func=None, kwsyntax=False)\n",
      "    decorator(caller) converts a caller function into a decorator\n",
      "\n"
     ]
    }
   ],
   "source": [
    "help(decorator)"
   ]
  },
  {
   "cell_type": "code",
   "execution_count": 6,
   "id": "92a4732b",
   "metadata": {},
   "outputs": [
    {
     "name": "stdout",
     "output_type": "stream",
     "text": [
      "Python is a programming language\n",
      "Myself Vivek. I live at Pune.\n"
     ]
    }
   ],
   "source": [
    "def mytext(text):\n",
    "    print(text)\n",
    "    \n",
    "mytext('Python is a programming language')\n",
    "new_text=mytext\n",
    "new_text('Myself Vivek. I live at Pune.')\n",
    "\n",
    "'''\n",
    "In the following function, when the code was executed, it yeilds the oututs for both functions.\n",
    "The function new_text() allowed to the function mytext() and behave as functions.\n",
    "'''\n"
   ]
  },
  {
   "cell_type": "code",
   "execution_count": 7,
   "id": "997e9140",
   "metadata": {},
   "outputs": [
    {
     "data": {
      "text/plain": [
       "25"
      ]
     },
     "execution_count": 7,
     "metadata": {},
     "output_type": "execute_result"
    }
   ],
   "source": [
    "def multiplication(num):\n",
    "    return num*num\n",
    "multi=multiplication\n",
    "multi(5)"
   ]
  },
  {
   "cell_type": "code",
   "execution_count": 8,
   "id": "edf4df2b",
   "metadata": {},
   "outputs": [
    {
     "name": "stdout",
     "output_type": "stream",
     "text": [
      "Python is a programming languages.\n",
      "Myself Vivek and I live at Pune.\n",
      "I've done my internship from WebAsha Technology in Pune.\n"
     ]
    }
   ],
   "source": [
    "# Nested function\n",
    "'''\n",
    "In the following function, it is nonsignigicant how the child function are announced.\n",
    "The implementation of the child function does influence on the output.\n",
    "These child function are topically linked with the function mytext(), therefore they can not be called\n",
    "individually.\n",
    "\n",
    "'''\n",
    "\n",
    "def mytext():\n",
    "    print('Python is a programming languages.')\n",
    "    def new_text():\n",
    "        print('Myself Vivek and I live at Pune.')\n",
    "    def message():\n",
    "        print(\"I've done my internship from WebAsha Technology in Pune.\")\n",
    "        \n",
    "    new_text()\n",
    "    message()\n",
    "mytext()"
   ]
  },
  {
   "cell_type": "code",
   "execution_count": 10,
   "id": "b091e418",
   "metadata": {},
   "outputs": [
    {
     "name": "stdout",
     "output_type": "stream",
     "text": [
      "Python is a programming language.\n"
     ]
    }
   ],
   "source": [
    "# Define a funciton\n",
    "\n",
    "'''\n",
    "In the following example, the function text() is nested into the function message().\n",
    "It will be return each time when the function text() is called.\n",
    "'''\n",
    "\n",
    "def message():\n",
    "    def text():\n",
    "        print('Python is a programming language.')\n",
    "    return text\n",
    "\n",
    "new_message=message()\n",
    "new_message()"
   ]
  },
  {
   "cell_type": "code",
   "execution_count": 11,
   "id": "c02952fc",
   "metadata": {},
   "outputs": [
    {
     "data": {
      "text/plain": [
       "100"
      ]
     },
     "execution_count": 11,
     "metadata": {},
     "output_type": "execute_result"
    }
   ],
   "source": [
    "def function(num):\n",
    "    def multi(num):\n",
    "        return num*num\n",
    "    \n",
    "    \n",
    "    output=multi(num)\n",
    "    return output\n",
    "multi(10)"
   ]
  },
  {
   "cell_type": "code",
   "execution_count": 13,
   "id": "7bb33af4",
   "metadata": {},
   "outputs": [
    {
     "name": "stdout",
     "output_type": "stream",
     "text": [
      "Python is a programming language.\n"
     ]
    }
   ],
   "source": [
    "def msg(text):\n",
    "    'Hello World'\n",
    "    def mail():\n",
    "        'Hi, Python'\n",
    "        print(text)\n",
    "    mail()\n",
    "msg('Python is a programming language.')"
   ]
  },
  {
   "cell_type": "markdown",
   "id": "3492ac65",
   "metadata": {},
   "source": [
    "# Passing functions"
   ]
  },
  {
   "cell_type": "code",
   "execution_count": 5,
   "id": "6dd49b5d",
   "metadata": {},
   "outputs": [
    {
     "name": "stdout",
     "output_type": "stream",
     "text": [
      "PYTHON IS THE MOST POPULAR PROGRAMMING LANGUAGE.\n"
     ]
    }
   ],
   "source": [
    "def decorator_text_upper_case(func):\n",
    "    def wrapper():\n",
    "        function=func()\n",
    "        text_uppercase=function.upper()\n",
    "        return text_uppercase\n",
    "    return wrapper\n",
    "\n",
    "@decorator_text_upper_case\n",
    "def text():\n",
    "    return 'python is the most popular programming language.'\n",
    "\n",
    "print(text())"
   ]
  },
  {
   "cell_type": "code",
   "execution_count": 7,
   "id": "fa8a1f72",
   "metadata": {},
   "outputs": [
    {
     "name": "stdout",
     "output_type": "stream",
     "text": [
      "DHONI WAS BORN IN RANCHI, BIHAR (NOW IN JHARKHAND) AND HAILS FROM A HINDU RAJPUT FAMILY TO PARENTS FROM UTTARAKHAND.[25][26] HE IS THE YOUNGEST OF THREE CHILDREN OF PAN SINGH AND DEVAKI DEVI.[27][28][29][10] HIS PATERNAL VILLAGE LWALI, IS IN JAINTI TEHSIL, LAMGARA BLOCK OF THE ALMORA DISTRICT OF UTTARAKHAND.[30] HIS PARENTS MOVED FROM UTTARAKHAND TO RANCHI, JHARKHAND WHERE HIS FATHER WORKED AS A PUMP OPERATOR IN JUNIOR MANAGEMENT POSITION IN MECON COLONY SITUATED IN DORANDA AREA IN RANCHI.[31] UNLIKE DHONI, HIS UNCLE AND COUSINS SPELL THEIR SURNAME 'DHAUNI'.[30]PREVIOUSLY DHONI WAS THE GOALKEEPER FOR HIS DAV JAWAHAR VIDYA MANDIR SCHOOL'S FOOTBALL TEAM,[32] BUT AFTER SEEING HIS GOALKEEPING SKILLS, COACH KESHAV RANJAN BANERJEE, ONE WHO INSPIRED DHONI TO BE A CRICKETER, PICKED HIM TO PLAY CRICKET FOR HIS SCHOOL TEAM.[33] HIS EXCEPTIONAL WICKETKEEPING SKILLS ALLOWED HIM TO BECOME THE REGULAR WICKETKEEPER AT THE COMMANDO CRICKET CLUB (1995–1998). BASED ON HIS PERFORMANCE AT CLUB CRICKET, HE WAS PICKED FOR THE 1997/98 SEASON VINOO MANKAD TROPHY UNDER-16 CHAMPIONSHIP, WHERE HE PERFORMED WELL.[10]\n"
     ]
    }
   ],
   "source": [
    "@decorator_text_upper_case\n",
    "def text():\n",
    "    return \"Dhoni was born in Ranchi, Bihar (now in Jharkhand) and hails from a Hindu Rajput family to parents from Uttarakhand.[25][26] He is the youngest of three children of Pan Singh and Devaki Devi.[27][28][29][10] His paternal village Lwali, is in Jainti Tehsil, Lamgara block of the Almora District of Uttarakhand.[30] His parents moved from Uttarakhand to Ranchi, Jharkhand where his father worked as a pump operator in junior management position in MECON Colony situated in Doranda area in Ranchi.[31] Unlike Dhoni, his uncle and cousins spell their surname 'Dhauni'.[30]Previously Dhoni was the goalkeeper for his DAV Jawahar Vidya Mandir school's football team,[32] but after seeing his goalkeeping skills, coach Keshav Ranjan Banerjee, one who inspired Dhoni to be a cricketer, picked him to play cricket for his school team.[33] His exceptional wicketkeeping skills allowed him to become the regular wicketkeeper at the Commando Cricket Club (1995–1998). Based on his performance at club cricket, he was picked for the 1997/98 season Vinoo Mankad Trophy Under-16 Championship, where he performed well.[10]\"\n",
    "print(text())\n",
    "\n"
   ]
  },
  {
   "cell_type": "code",
   "execution_count": 8,
   "id": "a225f6fa",
   "metadata": {},
   "outputs": [
    {
     "name": "stdout",
     "output_type": "stream",
     "text": [
      "MYSELF VIVEK AND I BELONG TO PUNE.\n"
     ]
    }
   ],
   "source": [
    "@decorator_text_upper_case\n",
    "def text():\n",
    "    return 'myself vivek and i belong to pune.'\n",
    "print(text())    "
   ]
  },
  {
   "cell_type": "markdown",
   "id": "034f7b1c",
   "metadata": {},
   "source": [
    "# Fancy decorators.\n",
    "\n",
    " * __1. @propertymethod.__\n",
    " * __2. @staticmethod.__\n",
    " * __3. @classmethod.__"
   ]
  },
  {
   "cell_type": "code",
   "execution_count": 18,
   "id": "cb06ae93",
   "metadata": {},
   "outputs": [
    {
     "name": "stdout",
     "output_type": "stream",
     "text": [
      "Your Name:Divya\n",
      "Your age is: 21\n",
      "Email address is: divya@123gmail.com\n",
      "Message: Divya is a most Beautiful girl and her age is 21 You can contact on this email: divya@123gmail.com\n"
     ]
    }
   ],
   "source": [
    "class person:\n",
    "    def __init__(self,name,age,contact):\n",
    "        self.name=name\n",
    "        self.age=age\n",
    "        self.contact=contact\n",
    "        \n",
    "    @property\n",
    "    def show(self):\n",
    "        return self.name+' is a most Beautiful girl and her age is '+self.age +' You can contact on this email: '+self.contact\n",
    "\n",
    "girl=person('Divya','21','divya@123gmail.com')\n",
    "print(f'Your Name:{girl.name}')\n",
    "print(f'Your age is: {girl.age}')\n",
    "print(f'Email address is: {girl.contact}')\n",
    "print(f'Message: {girl.show}')"
   ]
  },
  {
   "cell_type": "code",
   "execution_count": 24,
   "id": "5a776c89",
   "metadata": {},
   "outputs": [
    {
     "name": "stdout",
     "output_type": "stream",
     "text": [
      "Divya is a Beautiful girl and her age is 21, You can contact on this email: divya@123gmail.com\n",
      "Divya is a Beautiful girl and her age is 21, You can contact on this email: divya@123gmail.com\n"
     ]
    }
   ],
   "source": [
    "class person:\n",
    "    @staticmethod\n",
    "    def name():\n",
    "        print('Divya is a Beautiful girl and her age is 21, You can contact on this email: divya@123gmail.com')\n",
    "girl1=person()\n",
    "girl1.name()\n",
    "person.name()"
   ]
  },
  {
   "cell_type": "code",
   "execution_count": 21,
   "id": "db92ad3b",
   "metadata": {},
   "outputs": [
    {
     "name": "stdout",
     "output_type": "stream",
     "text": [
      "This is a class method\n",
      "Class: <class '__main__.Myclass'>\n",
      "Value 10\n",
      "This is a class method\n",
      "Class: <class '__main__.Myclass'>\n",
      "Value 20\n"
     ]
    }
   ],
   "source": [
    "class Myclass:\n",
    "    def __init__(self,value):\n",
    "        self.value=value\n",
    "    @classmethod\n",
    "    def class_method(cls,x):\n",
    "        print('This is a class method')\n",
    "        print('Class:',cls)\n",
    "        print('Value',x)\n",
    "        \n",
    "Myclass.class_method(10)\n",
    "\n",
    "obj=Myclass(20)\n",
    "\n",
    "obj.class_method(20)"
   ]
  },
  {
   "cell_type": "code",
   "execution_count": 22,
   "id": "7229b7b5",
   "metadata": {},
   "outputs": [
    {
     "name": "stdout",
     "output_type": "stream",
     "text": [
      "This is a class method\n",
      "Class: <class '__main__.Myclass'>\n",
      "Value 50\n"
     ]
    }
   ],
   "source": [
    "obj.class_method(50)"
   ]
  },
  {
   "cell_type": "markdown",
   "id": "ec203723",
   "metadata": {},
   "source": [
    "# Multiple decorators"
   ]
  },
  {
   "cell_type": "code",
   "execution_count": 26,
   "id": "4fecc609",
   "metadata": {},
   "outputs": [
    {
     "name": "stdout",
     "output_type": "stream",
     "text": [
      "['Python', 'is', 'the', 'most', 'popular', 'programming', 'language', 'nowaday.']\n"
     ]
    }
   ],
   "source": [
    "def splitted_text(text):\n",
    "    def wrapper():\n",
    "        function=text()\n",
    "        text_splitting=function.split()\n",
    "        return text_splitting\n",
    "    return wrapper\n",
    "\n",
    "@splitted_text\n",
    "def text():\n",
    "    return 'Python is the most popular programming language nowaday.'\n",
    "print(text())"
   ]
  },
  {
   "cell_type": "code",
   "execution_count": null,
   "id": "e4ef0db7",
   "metadata": {},
   "outputs": [],
   "source": []
  }
 ],
 "metadata": {
  "kernelspec": {
   "display_name": "Python 3 (ipykernel)",
   "language": "python",
   "name": "python3"
  },
  "language_info": {
   "codemirror_mode": {
    "name": "ipython",
    "version": 3
   },
   "file_extension": ".py",
   "mimetype": "text/x-python",
   "name": "python",
   "nbconvert_exporter": "python",
   "pygments_lexer": "ipython3",
   "version": "3.9.13"
  }
 },
 "nbformat": 4,
 "nbformat_minor": 5
}
