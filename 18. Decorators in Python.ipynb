{
 "cells": [
  {
   "cell_type": "markdown",
   "id": "cce56242",
   "metadata": {},
   "source": [
    "# 18. Decorators in Python\n",
    " \n",
    " * __Decorators provides a simple syntax for calling higher-order functions.__\n",
    " * __By definition, a decorators is a function that takes another function and extends the behavior of the the latter function without explicitly modifying it.__\n",
    " * __A decorator in Python is a function that takes another functions as its argument, and returns yet another function.__\n",
    " * __Decorators can be extremely useful as they allow the extension of an existing function,without any modification to the original function source code.__\n",
    " * __In Fact, there are two types of decorators in Python including class decorators and function decorators.__\n",
    " * __In application, decorators are majorly used in creating middle layer in the backend, it performs task like token authentication, validation, image compression and many more.__\n",
    " \n",
    " \n",
    " \n",
    " # Syntax of Decorator\n",
    " \n",
    " '''\n",
    " @hello_decorator\n",
    " \n",
    " def hi_decorator():\n",
    " \n",
    "     print('Hello')\n",
    "     \n",
    " '''\n",
    " \n",
    " \"\"\"\n",
    " \n",
    " Above code is equal to -\n",
    " \n",
    " def hi_decorator():\n",
    " \n",
    "     print('Hello')\n",
    "     \n",
    " hi_decorator=hello_decorator(hi_decorator)\n",
    " \n",
    " \"\"\""
   ]
  },
  {
   "cell_type": "code",
   "execution_count": 2,
   "id": "3e8ae1ab",
   "metadata": {},
   "outputs": [],
   "source": [
    "import decorator\n",
    "from decorator import *\n",
    "import functools\n",
    "import math"
   ]
  },
  {
   "cell_type": "code",
   "execution_count": 3,
   "id": "a2c4a5fc",
   "metadata": {},
   "outputs": [
    {
     "name": "stdout",
     "output_type": "stream",
     "text": [
      "Help on function decorator in module decorator:\n",
      "\n",
      "decorator(caller, _func=None, kwsyntax=False)\n",
      "    decorator(caller) converts a caller function into a decorator\n",
      "\n"
     ]
    }
   ],
   "source": [
    "help(decorator)"
   ]
  },
  {
   "cell_type": "code",
   "execution_count": 6,
   "id": "92a4732b",
   "metadata": {},
   "outputs": [
    {
     "name": "stdout",
     "output_type": "stream",
     "text": [
      "Python is a programming language\n",
      "Myself Vivek. I live at Pune.\n"
     ]
    }
   ],
   "source": [
    "def mytext(text):\n",
    "    print(text)\n",
    "    \n",
    "mytext('Python is a programming language')\n",
    "new_text=mytext\n",
    "new_text('Myself Vivek. I live at Pune.')\n",
    "\n",
    "'''\n",
    "In the following function, when the code was executed, it yeilds the oututs for both functions.\n",
    "The function new_text() allowed to the function mytext() and behave as functions.\n",
    "'''\n"
   ]
  },
  {
   "cell_type": "code",
   "execution_count": 7,
   "id": "997e9140",
   "metadata": {},
   "outputs": [
    {
     "data": {
      "text/plain": [
       "25"
      ]
     },
     "execution_count": 7,
     "metadata": {},
     "output_type": "execute_result"
    }
   ],
   "source": [
    "def multiplication(num):\n",
    "    return num*num\n",
    "multi=multiplication\n",
    "multi(5)"
   ]
  },
  {
   "cell_type": "code",
   "execution_count": 8,
   "id": "edf4df2b",
   "metadata": {},
   "outputs": [
    {
     "name": "stdout",
     "output_type": "stream",
     "text": [
      "Python is a programming languages.\n",
      "Myself Vivek and I live at Pune.\n",
      "I've done my internship from WebAsha Technology in Pune.\n"
     ]
    }
   ],
   "source": [
    "# Nested function\n",
    "'''\n",
    "In the following function, it is nonsignigicant how the child function are announced.\n",
    "The implementation of the child function does influence on the output.\n",
    "These child function are topically linked with the function mytext(), therefore they can not be called\n",
    "individually.\n",
    "\n",
    "'''\n",
    "\n",
    "def mytext():\n",
    "    print('Python is a programming languages.')\n",
    "    def new_text():\n",
    "        print('Myself Vivek and I live at Pune.')\n",
    "    def message():\n",
    "        print(\"I've done my internship from WebAsha Technology in Pune.\")\n",
    "        \n",
    "    new_text()\n",
    "    message()\n",
    "mytext()"
   ]
  },
  {
   "cell_type": "code",
   "execution_count": 10,
   "id": "b091e418",
   "metadata": {},
   "outputs": [
    {
     "name": "stdout",
     "output_type": "stream",
     "text": [
      "Python is a programming language.\n"
     ]
    }
   ],
   "source": [
    "# Define a funciton\n",
    "\n",
    "'''\n",
    "In the following example, the function text() is nested into the function message().\n",
    "It will be return each time when the function text() is called.\n",
    "'''\n",
    "\n",
    "def message():\n",
    "    def text():\n",
    "        print('Python is a programming language.')\n",
    "    return text\n",
    "\n",
    "new_message=message()\n",
    "new_message()"
   ]
  },
  {
   "cell_type": "code",
   "execution_count": 11,
   "id": "c02952fc",
   "metadata": {},
   "outputs": [
    {
     "data": {
      "text/plain": [
       "100"
      ]
     },
     "execution_count": 11,
     "metadata": {},
     "output_type": "execute_result"
    }
   ],
   "source": [
    "def function(num):\n",
    "    def multi(num):\n",
    "        return num*num\n",
    "    \n",
    "    \n",
    "    output=multi(num)\n",
    "    return output\n",
    "multi(10)"
   ]
  },
  {
   "cell_type": "code",
   "execution_count": 13,
   "id": "7bb33af4",
   "metadata": {},
   "outputs": [
    {
     "name": "stdout",
     "output_type": "stream",
     "text": [
      "Python is a programming language.\n"
     ]
    }
   ],
   "source": [
    "def msg(text):\n",
    "    'Hello World'\n",
    "    def mail():\n",
    "        'Hi, Python'\n",
    "        print(text)\n",
    "    mail()\n",
    "msg('Python is a programming language.')"
   ]
  },
  {
   "cell_type": "markdown",
   "id": "3492ac65",
   "metadata": {},
   "source": [
    "# Passing functions"
   ]
  },
  {
   "cell_type": "code",
   "execution_count": null,
   "id": "6dd49b5d",
   "metadata": {},
   "outputs": [],
   "source": []
  }
 ],
 "metadata": {
  "kernelspec": {
   "display_name": "Python 3 (ipykernel)",
   "language": "python",
   "name": "python3"
  },
  "language_info": {
   "codemirror_mode": {
    "name": "ipython",
    "version": 3
   },
   "file_extension": ".py",
   "mimetype": "text/x-python",
   "name": "python",
   "nbconvert_exporter": "python",
   "pygments_lexer": "ipython3",
   "version": "3.9.13"
  }
 },
 "nbformat": 4,
 "nbformat_minor": 5
}
