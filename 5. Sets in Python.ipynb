{
 "cells": [
  {
   "cell_type": "markdown",
   "id": "8d86bcc5",
   "metadata": {},
   "source": [
    "# 5. Sets in Python\n",
    "\n",
    "\n",
    " * __Set__ is one of the 4 built-in data types in Python used to store collections of data including List, Tuple and Dictionary.\n",
    " * __Set__ are unordered, but you can remove items and add new items.\n",
    " * __Set__ elements are unique. Duplicate elements are not allowed.\n",
    " * A __set__ itself may be modified, but the elements contained in the set must be of an immutable type.\n",
    " * __Sets__ are used to store multiple items in a singles variable.\n",
    " * You can denote a set with a pair of curly brackets __{}__."
   ]
  },
  {
   "cell_type": "code",
   "execution_count": 6,
   "id": "f7cbb5ae",
   "metadata": {},
   "outputs": [
    {
     "name": "stdout",
     "output_type": "stream",
     "text": [
      "{}\n",
      "<class 'dict'>\n"
     ]
    }
   ],
   "source": [
    "x = {}\n",
    "print(x)\n",
    "print(type(x))"
   ]
  },
  {
   "cell_type": "code",
   "execution_count": 8,
   "id": "4e9d26d6",
   "metadata": {},
   "outputs": [
    {
     "name": "stdout",
     "output_type": "stream",
     "text": [
      "set()\n",
      "<class 'set'>\n"
     ]
    }
   ],
   "source": [
    "y = set()\n",
    "print(y)\n",
    "print(type(y))"
   ]
  },
  {
   "cell_type": "code",
   "execution_count": 9,
   "id": "acfe674e",
   "metadata": {},
   "outputs": [
    {
     "name": "stdout",
     "output_type": "stream",
     "text": [
      "{False, 1.618, True, 3.14, 2023, 'Hello Python!', 'Hello World'}\n"
     ]
    }
   ],
   "source": [
    "# Take a set\n",
    "\n",
    "\n",
    "set1={'Hello Python!',3.14,1.618,'Hello World',3.14,1.618,True,False,2023}\n",
    "print(set1)"
   ]
  },
  {
   "cell_type": "code",
   "execution_count": 11,
   "id": "f6bba98a",
   "metadata": {},
   "outputs": [
    {
     "name": "stdout",
     "output_type": "stream",
     "text": [
      "['Hello Python!', 3.14, 1.618, 'Hello World', 3.14, 1.618, True, False, 2023]\n",
      "{False, 1.618, True, 3.14, 2023, 'Hello World', 'Hello Python!'}\n"
     ]
    }
   ],
   "source": [
    "# A list can convert to a set\n",
    "\n",
    "# Take a list\n",
    "\n",
    "list1=['Hello Python!',3.14,1.618,'Hello World',3.14,1.618,True,False,2023]\n",
    "print(list1)\n",
    "\n",
    "# Convert the list to a set\n",
    "\n",
    "set2=set(list1)\n",
    "print(set2)\n"
   ]
  },
  {
   "cell_type": "markdown",
   "id": "4e3e79a9",
   "metadata": {},
   "source": [
    "# Set Oprations\n",
    "\n",
    "\n"
   ]
  },
  {
   "cell_type": "markdown",
   "id": "92218d5f",
   "metadata": {},
   "source": [
    "__add() function__\n",
    "\n",
    " * To __add__ and element into a set, we use the function __add()__. If the same element is added to the set, nothing will happen because the set accepts no duplicates."
   ]
  },
  {
   "cell_type": "code",
   "execution_count": 12,
   "id": "f9a88c6c",
   "metadata": {},
   "outputs": [
    {
     "name": "stdout",
     "output_type": "stream",
     "text": [
      "{False, 1.618, True, 3.14, 2023, 'Hello Python!', 'Hello World'}\n"
     ]
    }
   ],
   "source": [
    "set3={'Hello Python!', 3.14, 1.618, 'Hello World', 3.14, 1.618, True, False, 2023}\n",
    "print(set3)"
   ]
  },
  {
   "cell_type": "code",
   "execution_count": 13,
   "id": "e06c764e",
   "metadata": {},
   "outputs": [
    {
     "data": {
      "text/plain": [
       "{1.618, 2023, 3.14, False, 'Hello Python!', 'Hello World', 'Hi, Python', True}"
      ]
     },
     "execution_count": 13,
     "metadata": {},
     "output_type": "execute_result"
    }
   ],
   "source": [
    "set3.add('Hi, Python')\n",
    "set3"
   ]
  },
  {
   "cell_type": "code",
   "execution_count": 14,
   "id": "0557ec5c",
   "metadata": {},
   "outputs": [
    {
     "data": {
      "text/plain": [
       "{1.618,\n",
       " 2023,\n",
       " 3.14,\n",
       " False,\n",
       " 'Hello Python!',\n",
       " 'Hello World',\n",
       " 'Hi, Python',\n",
       " True,\n",
       " 'Vivek'}"
      ]
     },
     "execution_count": 14,
     "metadata": {},
     "output_type": "execute_result"
    }
   ],
   "source": [
    "set3.add('Vivek')\n",
    "set3"
   ]
  },
  {
   "cell_type": "code",
   "execution_count": 15,
   "id": "1f9d12b6",
   "metadata": {},
   "outputs": [
    {
     "data": {
      "text/plain": [
       "{1.618,\n",
       " 2023,\n",
       " 3.14,\n",
       " False,\n",
       " 'Hello Python!',\n",
       " 'Hello World',\n",
       " 'Hi, Python',\n",
       " True,\n",
       " 'Vivek'}"
      ]
     },
     "execution_count": 15,
     "metadata": {},
     "output_type": "execute_result"
    }
   ],
   "source": [
    "set3.add('Vivek')\n",
    "set3"
   ]
  },
  {
   "cell_type": "code",
   "execution_count": 16,
   "id": "541956d9",
   "metadata": {},
   "outputs": [
    {
     "name": "stdout",
     "output_type": "stream",
     "text": [
      "{8, 9, 10, 7}\n"
     ]
    }
   ],
   "source": [
    "x_set={7,8,9,10}\n",
    "print(x_set)\n",
    "\n"
   ]
  },
  {
   "cell_type": "code",
   "execution_count": 17,
   "id": "dec0b359",
   "metadata": {},
   "outputs": [
    {
     "name": "stdout",
     "output_type": "stream",
     "text": [
      "{4, 5, 6, 7, 8, 9, 10}\n"
     ]
    }
   ],
   "source": [
    "x_set.update({4,5,6})\n",
    "print(x_set)"
   ]
  },
  {
   "cell_type": "markdown",
   "id": "596569ef",
   "metadata": {},
   "source": [
    "#  remove() function\n",
    "\n",
    "\n",
    " * To __remove__ an element from the set"
   ]
  },
  {
   "cell_type": "code",
   "execution_count": 18,
   "id": "7982c6bb",
   "metadata": {},
   "outputs": [
    {
     "data": {
      "text/plain": [
       "{1.618,\n",
       " 2023,\n",
       " 3.14,\n",
       " False,\n",
       " 'Hello Python!',\n",
       " 'Hello World',\n",
       " 'Hi, Python',\n",
       " True,\n",
       " 'Vivek'}"
      ]
     },
     "execution_count": 18,
     "metadata": {},
     "output_type": "execute_result"
    }
   ],
   "source": [
    "set3"
   ]
  },
  {
   "cell_type": "code",
   "execution_count": 19,
   "id": "625bbbbf",
   "metadata": {},
   "outputs": [
    {
     "data": {
      "text/plain": [
       "{1.618, 2023, 3.14, False, 'Hello Python!', 'Hello World', 'Hi, Python', True}"
      ]
     },
     "execution_count": 19,
     "metadata": {},
     "output_type": "execute_result"
    }
   ],
   "source": [
    "set3.remove('Vivek')\n",
    "set3"
   ]
  },
  {
   "cell_type": "code",
   "execution_count": 20,
   "id": "8624defa",
   "metadata": {},
   "outputs": [
    {
     "name": "stdout",
     "output_type": "stream",
     "text": [
      "{'Hello Python', 'Hello World'}\n",
      "{1.618, 3.14, 10, 20, 30}\n"
     ]
    }
   ],
   "source": [
    "set4=set(['Hello Python','Hello World'])\n",
    "set5=set([3.14,1.618,10,20,30])\n",
    "\n",
    "print(set4)\n",
    "print(set5)"
   ]
  },
  {
   "cell_type": "code",
   "execution_count": 21,
   "id": "851ea6ef",
   "metadata": {},
   "outputs": [
    {
     "data": {
      "text/plain": [
       "({'Hello Python', 'Hello World'}, {1.618, 3.14, 10, 20, 30})"
      ]
     },
     "execution_count": 21,
     "metadata": {},
     "output_type": "execute_result"
    }
   ],
   "source": [
    "# Other method for calling variable.\n",
    "\n",
    "set4,set5"
   ]
  },
  {
   "cell_type": "markdown",
   "id": "b53f4443",
   "metadata": {},
   "source": [
    "# To find the intersect of the two sets using &\n",
    "\n"
   ]
  },
  {
   "cell_type": "code",
   "execution_count": 22,
   "id": "73553c80",
   "metadata": {},
   "outputs": [
    {
     "data": {
      "text/plain": [
       "{1.618, 20, 3.14, 'Hello Python'}"
      ]
     },
     "execution_count": 22,
     "metadata": {},
     "output_type": "execute_result"
    }
   ],
   "source": [
    "set4=set(['Hello Python','Hello World',3.14,1.618,20])\n",
    "set5=set([3.14,1.618,10,20,30,'Hello Python'])\n",
    "\n",
    "\n",
    "z = set4&set5\n",
    "z"
   ]
  },
  {
   "cell_type": "code",
   "execution_count": 23,
   "id": "c9439c95",
   "metadata": {},
   "outputs": [
    {
     "data": {
      "text/plain": [
       "{1.618, 20, 3.14, 'Hello Python'}"
      ]
     },
     "execution_count": 23,
     "metadata": {},
     "output_type": "execute_result"
    }
   ],
   "source": [
    "# other method\n",
    "\n",
    "set4.intersection(set5)"
   ]
  },
  {
   "cell_type": "markdown",
   "id": "ceb3b5be",
   "metadata": {},
   "source": [
    "# difference() function\n",
    "\n",
    " * To find the difference between two sets."
   ]
  },
  {
   "cell_type": "code",
   "execution_count": 26,
   "id": "bd5c157c",
   "metadata": {},
   "outputs": [
    {
     "name": "stdout",
     "output_type": "stream",
     "text": [
      "{'Hello World'}\n",
      "{10, 30}\n"
     ]
    }
   ],
   "source": [
    "print(set4.difference(set5))\n",
    "print(set5.difference(set4))"
   ]
  },
  {
   "cell_type": "code",
   "execution_count": 28,
   "id": "f9414d3e",
   "metadata": {},
   "outputs": [
    {
     "name": "stdout",
     "output_type": "stream",
     "text": [
      "{'Hello World'}\n",
      "{10, 30}\n"
     ]
    }
   ],
   "source": [
    "# The same process can make using substraction operator as follows:\n",
    "\n",
    "print(set4-set5)\n",
    "print(set5-set4)"
   ]
  },
  {
   "cell_type": "markdown",
   "id": "a67d8429",
   "metadata": {},
   "source": [
    "# Union() function\n",
    "\n",
    " * It corresponds to all the elements in both sets"
   ]
  },
  {
   "cell_type": "code",
   "execution_count": 29,
   "id": "f9ab15bd",
   "metadata": {},
   "outputs": [
    {
     "data": {
      "text/plain": [
       "{1.618, 10, 20, 3.14, 30, 'Hello Python', 'Hello World'}"
      ]
     },
     "execution_count": 29,
     "metadata": {},
     "output_type": "execute_result"
    }
   ],
   "source": [
    "set4.union(set5)"
   ]
  },
  {
   "cell_type": "code",
   "execution_count": 33,
   "id": "ea174375",
   "metadata": {},
   "outputs": [
    {
     "name": "stdout",
     "output_type": "stream",
     "text": [
      "{1, 3, 5, 7, 9}\n",
      "{1, 3, 5, 7, 9}\n",
      "{1, 3, 5, 7, 9, 11}\n",
      "{1, 3, 5, 7, 9}\n"
     ]
    }
   ],
   "source": [
    "# Swallow copy\n",
    "set8={1,3,5,7,9}\n",
    "print(set8)\n",
    "\n",
    "set9=set8.copy()\n",
    "print(set9)\n",
    "\n",
    "set8.add(11)\n",
    "print(set8)\n",
    "print(set9)"
   ]
  },
  {
   "cell_type": "code",
   "execution_count": 36,
   "id": "aad0b1ac",
   "metadata": {},
   "outputs": [
    {
     "name": "stdout",
     "output_type": "stream",
     "text": [
      "{1, 3, 5, 7, 9}\n",
      "{1, 3, 5, 7, 9}\n",
      "{1, 3, 100, 5, 7, 9}\n",
      "{1, 3, 100, 5, 7, 9}\n"
     ]
    }
   ],
   "source": [
    "# Deep copy\n",
    "set8={1,3,5,7,9}\n",
    "print(set8)\n",
    "\n",
    "set9=set8\n",
    "print(set9)\n",
    "\n",
    "\n",
    "set8.add(100)\n",
    "print(set8)\n",
    "print(set9)"
   ]
  },
  {
   "cell_type": "markdown",
   "id": "a967f4d7",
   "metadata": {},
   "source": [
    "# clear() function\n",
    "\n",
    "\n",
    " * It removes all elements in the set and then do the set empty;"
   ]
  },
  {
   "cell_type": "code",
   "execution_count": 37,
   "id": "2fefcd60",
   "metadata": {},
   "outputs": [
    {
     "data": {
      "text/plain": [
       "{1, 2, 3, 4, 5, 6, 7, 8, 9}"
      ]
     },
     "execution_count": 37,
     "metadata": {},
     "output_type": "execute_result"
    }
   ],
   "source": [
    "x = {1,2,3,4,5,6,7,8,9}\n",
    "x"
   ]
  },
  {
   "cell_type": "code",
   "execution_count": 38,
   "id": "46aecf6f",
   "metadata": {},
   "outputs": [
    {
     "data": {
      "text/plain": [
       "set()"
      ]
     },
     "execution_count": 38,
     "metadata": {},
     "output_type": "execute_result"
    }
   ],
   "source": [
    "x.clear()\n",
    "x"
   ]
  },
  {
   "cell_type": "code",
   "execution_count": 45,
   "id": "bcda3676",
   "metadata": {},
   "outputs": [
    {
     "name": "stdout",
     "output_type": "stream",
     "text": [
      "set()\n",
      "<class 'set'>\n"
     ]
    }
   ],
   "source": [
    "y = {1}\n",
    "y.clear()\n",
    "print(y)\n",
    "y.clear()\n",
    "print(type(y))"
   ]
  },
  {
   "cell_type": "code",
   "execution_count": null,
   "id": "8bb8b0d8",
   "metadata": {},
   "outputs": [],
   "source": []
  }
 ],
 "metadata": {
  "kernelspec": {
   "display_name": "Python 3 (ipykernel)",
   "language": "python",
   "name": "python3"
  },
  "language_info": {
   "codemirror_mode": {
    "name": "ipython",
    "version": 3
   },
   "file_extension": ".py",
   "mimetype": "text/x-python",
   "name": "python",
   "nbconvert_exporter": "python",
   "pygments_lexer": "ipython3",
   "version": "3.9.13"
  }
 },
 "nbformat": 4,
 "nbformat_minor": 5
}
