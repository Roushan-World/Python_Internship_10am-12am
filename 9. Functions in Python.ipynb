{
 "cells": [
  {
   "cell_type": "code",
   "execution_count": 1,
   "id": "69df6585",
   "metadata": {},
   "outputs": [
    {
     "data": {
      "text/plain": [
       "(18, 2, 80, 1.25)"
      ]
     },
     "execution_count": 1,
     "metadata": {},
     "output_type": "execute_result"
    }
   ],
   "source": [
    "def process(x):\n",
    "    y1=x+8\n",
    "    y2=x-8\n",
    "    y3=x*8\n",
    "    y4=x/8\n",
    "    return y1,y2,y3,y4\n",
    "\n",
    "process(10)"
   ]
  },
  {
   "cell_type": "code",
   "execution_count": 2,
   "id": "c4f9356a",
   "metadata": {},
   "outputs": [
    {
     "data": {
      "text/plain": [
       "(28, 12, 160, 2.5)"
      ]
     },
     "execution_count": 2,
     "metadata": {},
     "output_type": "execute_result"
    }
   ],
   "source": [
    "process(20)"
   ]
  },
  {
   "cell_type": "code",
   "execution_count": 3,
   "id": "894ff4a4",
   "metadata": {},
   "outputs": [
    {
     "data": {
      "text/plain": [
       "(108, 92, 800, 12.5)"
      ]
     },
     "execution_count": 3,
     "metadata": {},
     "output_type": "execute_result"
    }
   ],
   "source": [
    "process(100)"
   ]
  },
  {
   "cell_type": "markdown",
   "id": "4ee11331",
   "metadata": {},
   "source": [
    "# Functions with multiple parameters "
   ]
  },
  {
   "cell_type": "code",
   "execution_count": 4,
   "id": "4d3427d8",
   "metadata": {},
   "outputs": [
    {
     "name": "stdout",
     "output_type": "stream",
     "text": [
      "165\n"
     ]
    }
   ],
   "source": [
    "def multi(x,y):\n",
    "    z = 2*x+5*y+45\n",
    "    return z\n",
    "\n",
    "a = multi(10,20)\n",
    "print(a)"
   ]
  },
  {
   "cell_type": "markdown",
   "id": "9a9cee28",
   "metadata": {},
   "source": [
    "# Without return statement, the function returns None"
   ]
  },
  {
   "cell_type": "code",
   "execution_count": 8,
   "id": "c36b2d5f",
   "metadata": {},
   "outputs": [
    {
     "name": "stdout",
     "output_type": "stream",
     "text": [
      "Hello Python\n",
      "Hello World\n"
     ]
    }
   ],
   "source": [
    "def msg1():\n",
    "    print('Hello Python')\n",
    "    \n",
    "def msg2():\n",
    "    print('Hello World')\n",
    "    return None\n",
    "    \n",
    "msg1()\n",
    "msg2()"
   ]
  },
  {
   "cell_type": "code",
   "execution_count": 9,
   "id": "45bd5389",
   "metadata": {},
   "outputs": [
    {
     "name": "stdout",
     "output_type": "stream",
     "text": [
      "Hello Vivek\n"
     ]
    }
   ],
   "source": [
    "def message():\n",
    "    print('Hello Vivek')\n",
    "    return None\n",
    "message()"
   ]
  },
  {
   "cell_type": "code",
   "execution_count": 11,
   "id": "8314b4cf",
   "metadata": {},
   "outputs": [
    {
     "data": {
      "text/plain": [
       "'Welcome Vivek'"
      ]
     },
     "execution_count": 11,
     "metadata": {},
     "output_type": "execute_result"
    }
   ],
   "source": [
    "def msg4(x,y):\n",
    "    return x+y\n",
    "msg4('Welcome ','Vivek')"
   ]
  },
  {
   "cell_type": "code",
   "execution_count": 12,
   "id": "9338a4da",
   "metadata": {},
   "outputs": [
    {
     "data": {
      "text/plain": [
       "30"
      ]
     },
     "execution_count": 12,
     "metadata": {},
     "output_type": "execute_result"
    }
   ],
   "source": [
    "msg4(10,20)"
   ]
  },
  {
   "cell_type": "markdown",
   "id": "c043d064",
   "metadata": {},
   "source": [
    "#  Docstring in Functions"
   ]
  },
  {
   "cell_type": "code",
   "execution_count": 16,
   "id": "de2b2355",
   "metadata": {},
   "outputs": [
    {
     "name": "stdout",
     "output_type": "stream",
     "text": [
      "The following function returns the sum of two parameters. \n",
      "30\n"
     ]
    }
   ],
   "source": [
    "def addition(x,y):\n",
    "    \"\"\"The following function returns the sum of two parameters. \"\"\"\n",
    "    z = x+y\n",
    "    return z\n",
    "\n",
    "print(addition.__doc__)\n",
    "print(addition(10,20))"
   ]
  },
  {
   "cell_type": "code",
   "execution_count": null,
   "id": "f36229e8",
   "metadata": {},
   "outputs": [],
   "source": []
  }
 ],
 "metadata": {
  "kernelspec": {
   "display_name": "Python 3 (ipykernel)",
   "language": "python",
   "name": "python3"
  },
  "language_info": {
   "codemirror_mode": {
    "name": "ipython",
    "version": 3
   },
   "file_extension": ".py",
   "mimetype": "text/x-python",
   "name": "python",
   "nbconvert_exporter": "python",
   "pygments_lexer": "ipython3",
   "version": "3.9.13"
  }
 },
 "nbformat": 4,
 "nbformat_minor": 5
}
