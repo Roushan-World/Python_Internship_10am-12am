{
 "cells": [
  {
   "cell_type": "markdown",
   "id": "97041f16",
   "metadata": {},
   "source": [
    "# 7. Conditions in Python\n",
    "\n",
    "\n",
    " * Comparison operations compare some value or operand and based on a condition, produce a Boolean. Python has six comparison operators as below:\n",
    " \n",
    "  * __Less than(<)__\n",
    "  * __Less than or equal to(<=>)__\n",
    "  * __Greater than(>)__\n",
    "  * __Greater than or equal to(>=)__\n",
    "  * __Equal to(==)__\n",
    "  * __Not equal to(!=)__"
   ]
  },
  {
   "cell_type": "code",
   "execution_count": 7,
   "id": "8e008781",
   "metadata": {},
   "outputs": [
    {
     "name": "stdout",
     "output_type": "stream",
     "text": [
      "True\n",
      "False\n",
      "False\n",
      "True\n",
      "False\n",
      "True\n",
      "False\n"
     ]
    }
   ],
   "source": [
    "# Take a variable\n",
    "\n",
    "ratio=1.618\n",
    "\n",
    "print(ratio<2)\n",
    "print(ratio>2)\n",
    "print(ratio>=2)\n",
    "print(ratio<=2)\n",
    "print(ratio==2)\n",
    "print(ratio==1.618)\n",
    "print(ratio!=1.618)"
   ]
  },
  {
   "cell_type": "markdown",
   "id": "bf33ed7c",
   "metadata": {},
   "source": [
    "# Branching (if,elif,else)\n",
    "\n",
    " * Decision making is required when we want to execute a code only if a cetain conditioin is satisfied.\n",
    " * The __if/elif/else__ statement is used in Python for decision making.\n",
    " * An __else__ statement can be combinded with an __if__ statement.\n",
    " * An __else__ statement contains the block of code that executes if the conditional expression in the __if__ statement resolves to 0 or a __False__ value.\n",
    " * The __else__ statement is an optional statement and there could be at most only one else statement following __if__.\n",
    " * The __elif__ statement allows you to to check multiple expressions for __True__ and execute a block of code as soon as one of the conditions evaluates to __True__.\n",
    " * Similar to the __else__, the __elif__ statement is optional.\n",
    " * However, unlike __else__, for which there can be at most one statement, there can be an arbitraty number of __elif__ statements following an __if__."
   ]
  },
  {
   "cell_type": "code",
   "execution_count": 10,
   "id": "64d95aa6",
   "metadata": {},
   "outputs": [
    {
     "name": "stdout",
     "output_type": "stream",
     "text": [
      "The number pi 3.147 is greater than the ratio 1.618\n"
     ]
    }
   ],
   "source": [
    "pi=3.147\n",
    "ratio= 1.618\n",
    "\n",
    "\n",
    "if pi>ratio:\n",
    "    print(f'The number pi {pi} is greater than the ratio {ratio}')\n",
    "else:\n",
    "    print(f'The number ratio {ratio} is greater than the pi {pi}')\n",
    "    "
   ]
  },
  {
   "cell_type": "code",
   "execution_count": 16,
   "id": "9deab7e2",
   "metadata": {},
   "outputs": [
    {
     "name": "stdout",
     "output_type": "stream",
     "text": [
      "Enter your name:Vivek\n",
      "Good Morning Vivek.\n"
     ]
    }
   ],
   "source": [
    "# Write a program to Greet 'Good Morning with your name' with if and else statement with user input.\n",
    "\n",
    "\n",
    "name=input('Enter your name:')\n",
    "\n",
    "if name:\n",
    "    print(f'Good Morning {name}.')\n",
    "else:\n",
    "    print('Invalid Syntax')\n",
    "\n"
   ]
  },
  {
   "cell_type": "code",
   "execution_count": 22,
   "id": "09f6a7ed",
   "metadata": {},
   "outputs": [
    {
     "name": "stdout",
     "output_type": "stream",
     "text": [
      "Enter you Baby age 1-10 \n",
      "3\n",
      "You are a Baby\n"
     ]
    }
   ],
   "source": [
    "age=int(input('Enter you Baby age 1-10 \\n'))\n",
    "\n",
    "\n",
    "if age>=6:\n",
    "    print('You can go to primary school')\n",
    "elif age==5:\n",
    "    print('You can go to kindergarten')\n",
    "else:\n",
    "    print('You are a Baby')"
   ]
  },
  {
   "cell_type": "code",
   "execution_count": null,
   "id": "8f23350b",
   "metadata": {},
   "outputs": [],
   "source": []
  }
 ],
 "metadata": {
  "kernelspec": {
   "display_name": "Python 3 (ipykernel)",
   "language": "python",
   "name": "python3"
  },
  "language_info": {
   "codemirror_mode": {
    "name": "ipython",
    "version": 3
   },
   "file_extension": ".py",
   "mimetype": "text/x-python",
   "name": "python",
   "nbconvert_exporter": "python",
   "pygments_lexer": "ipython3",
   "version": "3.9.13"
  }
 },
 "nbformat": 4,
 "nbformat_minor": 5
}
