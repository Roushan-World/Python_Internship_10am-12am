{
 "cells": [
  {
   "cell_type": "markdown",
   "id": "97041f16",
   "metadata": {},
   "source": [
    "# 7. Conditions in Python\n",
    "\n",
    "\n",
    " * Comparison operations compare some value or operand and based on a condition, produce a Boolean. Python has six comparison operators as below:\n",
    " \n",
    "  * __Less than(<)__\n",
    "  * __Less than or equal to(<=>)__\n",
    "  * __Greater than(>)__\n",
    "  * __Greater than or equal to(>=)__\n",
    "  * __Equal to(==)__\n",
    "  * __Not equal to(!=)__"
   ]
  },
  {
   "cell_type": "code",
   "execution_count": 7,
   "id": "8e008781",
   "metadata": {},
   "outputs": [
    {
     "name": "stdout",
     "output_type": "stream",
     "text": [
      "True\n",
      "False\n",
      "False\n",
      "True\n",
      "False\n",
      "True\n",
      "False\n"
     ]
    }
   ],
   "source": [
    "# Take a variable\n",
    "\n",
    "ratio=1.618\n",
    "\n",
    "print(ratio<2)\n",
    "print(ratio>2)\n",
    "print(ratio>=2)\n",
    "print(ratio<=2)\n",
    "print(ratio==2)\n",
    "print(ratio==1.618)\n",
    "print(ratio!=1.618)"
   ]
  },
  {
   "cell_type": "markdown",
   "id": "bf33ed7c",
   "metadata": {},
   "source": [
    "# Branching (if,elif,else)\n",
    "\n",
    " * Decision making is required when we want to execute a code only if a cetain conditioin is satisfied.\n",
    " * The __if/elif/else__ statement is used in Python for decision making.\n",
    " * An __else__ statement can be combinded with an __if__ statement.\n",
    " * An __else__ statement contains the block of code that executes if the conditional expression in the __if__ statement resolves to 0 or a __False__ value.\n",
    " * The __else__ statement is an optional statement and there could be at most only one else statement following __if__.\n",
    " * The __elif__ statement allows you to to check multiple expressions for __True__ and execute a block of code as soon as one of the conditions evaluates to __True__.\n",
    " * Similar to the __else__, the __elif__ statement is optional.\n",
    " * However, unlike __else__, for which there can be at most one statement, there can be an arbitraty number of __elif__ statements following an __if__."
   ]
  },
  {
   "cell_type": "code",
   "execution_count": 10,
   "id": "64d95aa6",
   "metadata": {},
   "outputs": [
    {
     "name": "stdout",
     "output_type": "stream",
     "text": [
      "The number pi 3.147 is greater than the ratio 1.618\n"
     ]
    }
   ],
   "source": [
    "pi=3.147\n",
    "ratio= 1.618\n",
    "\n",
    "\n",
    "if pi>ratio:\n",
    "    print(f'The number pi {pi} is greater than the ratio {ratio}')\n",
    "else:\n",
    "    print(f'The number ratio {ratio} is greater than the pi {pi}')\n",
    "    "
   ]
  },
  {
   "cell_type": "code",
   "execution_count": 16,
   "id": "9deab7e2",
   "metadata": {},
   "outputs": [
    {
     "name": "stdout",
     "output_type": "stream",
     "text": [
      "Enter your name:Vivek\n",
      "Good Morning Vivek.\n"
     ]
    }
   ],
   "source": [
    "# Write a program to Greet 'Good Morning with your name' with if and else statement with user input.\n",
    "\n",
    "\n",
    "name=input('Enter your name:')\n",
    "\n",
    "if name:\n",
    "    print(f'Good Morning {name}.')\n",
    "else:\n",
    "    print('Invalid Syntax')\n",
    "\n"
   ]
  },
  {
   "cell_type": "code",
   "execution_count": 22,
   "id": "09f6a7ed",
   "metadata": {},
   "outputs": [
    {
     "name": "stdout",
     "output_type": "stream",
     "text": [
      "Enter you Baby age 1-10 \n",
      "3\n",
      "You are a Baby\n"
     ]
    }
   ],
   "source": [
    "age=int(input('Enter you Baby age 1-10 \\n'))\n",
    "\n",
    "\n",
    "if age>=6:\n",
    "    print('You can go to primary school')\n",
    "elif age==5:\n",
    "    print('You can go to kindergarten')\n",
    "else:\n",
    "    print('You are a Baby')"
   ]
  },
  {
   "cell_type": "code",
   "execution_count": 2,
   "id": "8f23350b",
   "metadata": {},
   "outputs": [
    {
     "name": "stdout",
     "output_type": "stream",
     "text": [
      "enter of no.8\n",
      "invalid\n"
     ]
    }
   ],
   "source": [
    "# 1=\"Monday\",2=\"Tuesday\",3=\"Wednesday\",4=\"Thursday\",5=\"Friday\",6=\"Saturday\",7=\"Sunday\",8=\"Invalid Syntax\"\n",
    "day=int(input('enter of no.'))\n",
    "if day==1:\n",
    "    print(\"Today is Monday\")\n",
    "elif day == 2:\n",
    "     print(\"Today is Tuesday\")\n",
    "elif day == 3:\n",
    "     print(\"Today is wednesday\")\n",
    "elif day == 4:\n",
    "     print(\"Today is thursday\")\n",
    "elif day == 5:\n",
    "     print(\"Today is friday\")\n",
    "elif day == 6:\n",
    "     print(\"Today is Monday\")\n",
    "elif day == 7:\n",
    "     print(\"Today is Monday\")\n",
    "elif day==8:\n",
    "     print(\"invalid\")"
   ]
  },
  {
   "cell_type": "code",
   "execution_count": 3,
   "id": "90679e67",
   "metadata": {},
   "outputs": [
    {
     "name": "stdout",
     "output_type": "stream",
     "text": [
      "enter of no.22\n",
      "the no. is even\n"
     ]
    }
   ],
   "source": [
    "# Write a program to check whether a number is even or odd.\n",
    "num=int(input('enter of no.'))\n",
    "if num%2==0:\n",
    "    print(\"the no. is even\")\n",
    "else:\n",
    "    print(\"the no. is odd\")"
   ]
  },
  {
   "cell_type": "code",
   "execution_count": 4,
   "id": "f8d23cfa",
   "metadata": {},
   "outputs": [
    {
     "name": "stdout",
     "output_type": "stream",
     "text": [
      "enter of no. of units=150\n",
      "each unit will be charged with 5rs.\n",
      "your total electric bill will be  750 rs.\n"
     ]
    }
   ],
   "source": [
    "# Write a program to calculate a electric bill (accept a number of unit from user) according to the following criteria:\n",
    "# unit\n",
    "# first 100 units ------------> No charge\n",
    "# next 100 units -------------> 5 rs. per unit\n",
    "# After 200 units ------------> 10 rs. per unit.\n",
    "\n",
    "#output\n",
    "# First 100 units ------------> cost 0\n",
    "# Next 100 units --------------> cost 500\n",
    "# After 200 units --------------> 150 unit cost 1500\n",
    "units=int(input('enter of no. of units='))\n",
    "if units<100:\n",
    "    print(\"there is no charge\")\n",
    "elif units<200:\n",
    "    print(\"each unit will be charged with 5rs.\")\n",
    "    print(\"your total electric bill will be \",units*5,\"rs.\")\n",
    "elif units>=200:\n",
    "    print(\"each unit will be charged with 10rs.\")\n",
    "    print(\"your total electric bill will be \",units*10,\"rs.\")"
   ]
  },
  {
   "cell_type": "code",
   "execution_count": 12,
   "id": "e0b5f41b",
   "metadata": {},
   "outputs": [
    {
     "name": "stdout",
     "output_type": "stream",
     "text": [
      "Enter number of electric units: 150\n",
      "Total cost: 250\n"
     ]
    }
   ],
   "source": [
    "amt = 0\n",
    "units=int(input('Enter number of electric units: '))\n",
    "\n",
    "if units<=100:\n",
    "    print('No Charge')\n",
    "elif units>100 and units<=200:\n",
    "    cost=(units-100)*5\n",
    "    print('Total cost:',cost)\n",
    "elif units>200:\n",
    "    cost=(units-200)*10\n",
    "    print('Total cost:',cost)"
   ]
  },
  {
   "cell_type": "code",
   "execution_count": 16,
   "id": "53c12fd7",
   "metadata": {},
   "outputs": [
    {
     "name": "stdout",
     "output_type": "stream",
     "text": [
      "enter percentage=30\n",
      "grade D\n"
     ]
    }
   ],
   "source": [
    "# Write a program to accept percentage from the user and display the grade according to the following criteria:\n",
    "# marks----------------------> Grade\n",
    "# >90 -----------------------> A\n",
    "# >80 and <=90---------------> B\n",
    "# >=60 and <=80 -------------> C\n",
    "# below 60 ------------------> D\n",
    "marks=int(input('enter percentage='))\n",
    "if marks>=90:\n",
    "    print(\"grade A\")\n",
    "elif marks<90 and marks>=80:\n",
    "    print(\"grade B\")\n",
    "elif marks>=60 and marks<80:\n",
    "    print(\"grade C\")\n",
    "else:\n",
    "    print(\"grade D\")"
   ]
  },
  {
   "cell_type": "code",
   "execution_count": null,
   "id": "270cb1c2",
   "metadata": {},
   "outputs": [],
   "source": []
  }
 ],
 "metadata": {
  "kernelspec": {
   "display_name": "Python 3 (ipykernel)",
   "language": "python",
   "name": "python3"
  },
  "language_info": {
   "codemirror_mode": {
    "name": "ipython",
    "version": 3
   },
   "file_extension": ".py",
   "mimetype": "text/x-python",
   "name": "python",
   "nbconvert_exporter": "python",
   "pygments_lexer": "ipython3",
   "version": "3.9.13"
  }
 },
 "nbformat": 4,
 "nbformat_minor": 5
}
