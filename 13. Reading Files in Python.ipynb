{
 "cells": [
  {
   "cell_type": "markdown",
   "id": "e7adc761",
   "metadata": {},
   "source": [
    "# 13. Reading Files in Python\n",
    "\n",
    "\n",
    " __* To Read a text files in Python Follow These Steps:__\n",
    " \n",
    " __* First, Open a text file for reading by using the open() function.__\n",
    " \n",
    " __* Second, read text from the text file read(), readline(), or readlines() method of the file object.__\n",
    " \n",
    " __* Third, close the file using the file close() method. This frees up resources and ensures consistency across across different python version.__\n",
    " \n",
    " __* Method:---------------> Description\n",
    " \n",
    " __* writeable():-----------> Returns whether the files can be written or not.__\n",
    " \n",
    " __* readable():------------> Returns whether the files stream can be read or not.__\n",
    " \n",
    " __* read():----------------> Returns the file content.__\n",
    " \n",
    " __* readlines():-----------> Returns a list of lines from the file.__\n",
    " \n",
    " __* readline():------------> Returns one lines from the file.__\n",
    " \n",
    " __* write():---------------> writes the specified string to the file.__\n",
    " \n",
    " __* writelines():----------> writes a list of strings to the file.__\n",
    " \n",
    " __* flush() :--------------> Flushed the internal buffer.__\n",
    " \n",
    " __* close():---------------> closed the file.__\n",
    " \n",
    " __* seek():----------------> change the file position.__\n",
    " \n",
    " __* truncate():------------> Resize the file to a specified.__"
   ]
  },
  {
   "cell_type": "code",
   "execution_count": 1,
   "id": "907e5f7b",
   "metadata": {},
   "outputs": [
    {
     "data": {
      "text/plain": [
       "'Rama\\'s life story is imbued with symbolism. According to Sheldon Pollock, the life of Rama as told in the Indian texts is a masterpiece that offers a framework to represent, conceptualise and comprehend the world and the nature of life. Like major epics and religious stories around the world, it has been of vital relevance because it \"tells the culture what it is\". Rama\\'s life is more complex than the Western template for the battle between the good and the evil, where there is a clear distinction between immortal powerful gods or heroes and mortal struggling humans. In the Indian traditions, particularly Rama, the story is about a divine human, a mortal god, incorporating both into the exemplar who transcends both humans and gods.[75]\\n\\nResponding to evil\\n\\nA superior being does not render evil for evil,\\nthis is the maxim one should observe;\\nthe ornament of virtuous persons is their conduct.\\n(...)\\nA noble soul will ever exercise compassion\\neven towards those who enjoy injuring others.\\n\\nâ€”Ramayana 6.115, Valmiki\\n(Abridged, Translator: Roderick Hindery)[76]\\nAs a person, Rama personifies the characteristics of an ideal person (purushottama).[54] He had within him all the desirable virtues that any individual would seek to aspire, and he fulfils all his moral obligations. Rama is considered a maryada purushottama or the best of upholders of Dharma.[77]\\n\\nAccording to Rodrick Hindery, Book 2, 6 and 7 are notable for ethical studies.[78][60] The views of Rama combine \"reason with emotions\" to create a \"thinking hearts\" approach. Second, he emphasises through what he says and what he does a union of \"self-consciousness and action\" to create an \"ethics of character\". Third, Rama\\'s life combines the ethics with the aesthetics of living.[78] The story of Rama and people in his life raises questions such as \"is it appropriate to use evil to respond to evil?\", and then provides a spectrum of views within the framework of Indian beliefs such as on karma and dharma.[76]\\n\\nRama\\'s life and comments emphasise that one must pursue and live life fully, that all three life aims are equally important: virtue (dharma), desires (kama), and legitimate acquisition of wealth (artha). Rama also adds, such as in section 4.38 of the Ramayana, that one must also introspect and never neglect what one\\'s proper duties, appropriate responsibilities, true interests, and legitimate pleasures are.[42]\\n\\nRama is a revered Vaishanava deity, one who is worshipped privately at home or in temples. He was a part of the Bhakti movement focus, particularly because of efforts of 14th century North Indian poet-saint Ramananda who created the Ramanandi Sampradaya, a sannyasi community. This community has grown to become the largest Hindu monastic community in modern times.[168][169] This Rama-inspired movement has championed social reforms, accepting members without discriminating anyone by gender, class, caste or religion since the time of Ramananda who accepted Muslims wishing to leave Islam.[170][171] Traditional scholarship holds that his disciples included later Bhakti movement poet-saints such as Kabir, Ravidas, Bhagat Pipa and others.[171][172]'"
      ]
     },
     "execution_count": 1,
     "metadata": {},
     "output_type": "execute_result"
    }
   ],
   "source": [
    "# Reading the text file.\n",
    "file_name='ShreeRam.txt'\n",
    "file=open(file_name,'r')\n",
    "content=file.read()\n",
    "content"
   ]
  },
  {
   "cell_type": "code",
   "execution_count": 2,
   "id": "8bfe042b",
   "metadata": {},
   "outputs": [
    {
     "name": "stdout",
     "output_type": "stream",
     "text": [
      "ShreeRam.txt\n"
     ]
    }
   ],
   "source": [
    "# Printing the file name.\n",
    "print(file.name)"
   ]
  },
  {
   "cell_type": "code",
   "execution_count": 3,
   "id": "a5387680",
   "metadata": {},
   "outputs": [
    {
     "name": "stdout",
     "output_type": "stream",
     "text": [
      "r\n"
     ]
    }
   ],
   "source": [
    "# Printing the mode of the file.\n",
    "print(file.mode)"
   ]
  },
  {
   "cell_type": "code",
   "execution_count": 4,
   "id": "38b0374e",
   "metadata": {},
   "outputs": [
    {
     "name": "stdout",
     "output_type": "stream",
     "text": [
      "<class 'str'>\n"
     ]
    }
   ],
   "source": [
    "# Printing the type of file\n",
    "print(type(content))"
   ]
  },
  {
   "cell_type": "code",
   "execution_count": 6,
   "id": "3e5c2a1c",
   "metadata": {},
   "outputs": [],
   "source": [
    "# Verification of file close.\n",
    "file.close()"
   ]
  },
  {
   "cell_type": "code",
   "execution_count": 7,
   "id": "5cf72ccb",
   "metadata": {},
   "outputs": [
    {
     "data": {
      "text/plain": [
       "True"
      ]
     },
     "execution_count": 7,
     "metadata": {},
     "output_type": "execute_result"
    }
   ],
   "source": [
    "file.closed"
   ]
  },
  {
   "cell_type": "code",
   "execution_count": 8,
   "id": "33557e0d",
   "metadata": {},
   "outputs": [
    {
     "name": "stdout",
     "output_type": "stream",
     "text": [
      "Rama's life story is imbued with symbolism. According to Sheldon Pollock, the life of Rama as told in the Indian texts is a masterpiece that offers a framework to represent, conceptualise and comprehend the world and the nature of life. Like major epics and religious stories around the world, it has been of vital relevance because it \"tells the culture what it is\". Rama's life is more complex than the Western template for the battle between the good and the evil, where there is a clear distinction between immortal powerful gods or heroes and mortal struggling humans. In the Indian traditions, particularly Rama, the story is about a divine human, a mortal god, incorporating both into the exemplar who transcends both humans and gods.[75]\n",
      "\n",
      "Responding to evil\n",
      "\n",
      "A superior being does not render evil for evil,\n",
      "this is the maxim one should observe;\n",
      "the ornament of virtuous persons is their conduct.\n",
      "(...)\n",
      "A noble soul will ever exercise compassion\n",
      "even towards those who enjoy injuring others.\n",
      "\n",
      "â€”Ramayana 6.115, Valmiki\n",
      "(Abridged, Translator: Roderick Hindery)[76]\n",
      "As a person, Rama personifies the characteristics of an ideal person (purushottama).[54] He had within him all the desirable virtues that any individual would seek to aspire, and he fulfils all his moral obligations. Rama is considered a maryada purushottama or the best of upholders of Dharma.[77]\n",
      "\n",
      "According to Rodrick Hindery, Book 2, 6 and 7 are notable for ethical studies.[78][60] The views of Rama combine \"reason with emotions\" to create a \"thinking hearts\" approach. Second, he emphasises through what he says and what he does a union of \"self-consciousness and action\" to create an \"ethics of character\". Third, Rama's life combines the ethics with the aesthetics of living.[78] The story of Rama and people in his life raises questions such as \"is it appropriate to use evil to respond to evil?\", and then provides a spectrum of views within the framework of Indian beliefs such as on karma and dharma.[76]\n",
      "\n",
      "Rama's life and comments emphasise that one must pursue and live life fully, that all three life aims are equally important: virtue (dharma), desires (kama), and legitimate acquisition of wealth (artha). Rama also adds, such as in section 4.38 of the Ramayana, that one must also introspect and never neglect what one's proper duties, appropriate responsibilities, true interests, and legitimate pleasures are.[42]\n",
      "\n",
      "Rama is a revered Vaishanava deity, one who is worshipped privately at home or in temples. He was a part of the Bhakti movement focus, particularly because of efforts of 14th century North Indian poet-saint Ramananda who created the Ramanandi Sampradaya, a sannyasi community. This community has grown to become the largest Hindu monastic community in modern times.[168][169] This Rama-inspired movement has championed social reforms, accepting members without discriminating anyone by gender, class, caste or religion since the time of Ramananda who accepted Muslims wishing to leave Islam.[170][171] Traditional scholarship holds that his disciples included later Bhakti movement poet-saints such as Kabir, Ravidas, Bhagat Pipa and others.[171][172]\n"
     ]
    }
   ],
   "source": [
    "# Other method.\n",
    "fname='ShreeRam.txt'\n",
    "with open(fname,'r') as f:\n",
    "    content=f.read()\n",
    "    print(content)"
   ]
  },
  {
   "cell_type": "code",
   "execution_count": 13,
   "id": "c2da1c0f",
   "metadata": {},
   "outputs": [
    {
     "name": "stdout",
     "output_type": "stream",
     "text": [
      "Rama's life story is\n",
      " imbued with symboli\n",
      "sm. According to Sheldon Pollock, the life of Rama as told in the Indian texts is a masterpiece that\n",
      " offers a framework to represent, conceptualise and comprehend the world and the nature of life. Like major epics and religious stories around the world, it has been of vital relevance because it \"tel\n"
     ]
    }
   ],
   "source": [
    "# Reading certain amount of characters in the file.\n",
    "\n",
    "with open (fname,'r') as f:\n",
    "    print(f.read(20))\n",
    "    print(f.read(20))\n",
    "    print(f.read(100))\n",
    "    print(f.read(200))"
   ]
  },
  {
   "cell_type": "code",
   "execution_count": 14,
   "id": "b155f4cc",
   "metadata": {},
   "outputs": [
    {
     "name": "stdout",
     "output_type": "stream",
     "text": [
      "The first paragraph is: Rama's life story is imbued with symbolism. According to Sheldon Pollock, the life of Rama as told in the Indian texts is a masterpiece that offers a framework to represent, conceptualise and comprehend the world and the nature of life. Like major epics and religious stories around the world, it has been of vital relevance because it \"tells the culture what it is\". Rama's life is more complex than the Western template for the battle between the good and the evil, where there is a clear distinction between immortal powerful gods or heroes and mortal struggling humans. In the Indian traditions, particularly Rama, the story is about a divine human, a mortal god, incorporating both into the exemplar who transcends both humans and gods.[75]\n",
      "\n"
     ]
    }
   ],
   "source": [
    "# Reading first line in the text file.\n",
    "\n",
    "with open (fname,'r') as f:\n",
    "    print('The first paragraph is:',f.readline())"
   ]
  },
  {
   "cell_type": "code",
   "execution_count": null,
   "id": "4a057865",
   "metadata": {},
   "outputs": [],
   "source": []
  }
 ],
 "metadata": {
  "kernelspec": {
   "display_name": "Python 3 (ipykernel)",
   "language": "python",
   "name": "python3"
  },
  "language_info": {
   "codemirror_mode": {
    "name": "ipython",
    "version": 3
   },
   "file_extension": ".py",
   "mimetype": "text/x-python",
   "name": "python",
   "nbconvert_exporter": "python",
   "pygments_lexer": "ipython3",
   "version": "3.9.13"
  }
 },
 "nbformat": 4,
 "nbformat_minor": 5
}
