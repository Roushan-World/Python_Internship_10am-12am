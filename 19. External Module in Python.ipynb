{
 "cells": [
  {
   "cell_type": "markdown",
   "id": "368d8332",
   "metadata": {},
   "source": [
    "__Module in Python Basically a file which contains python defination and statements.__\n",
    "\n",
    " __Module Name__\n",
    " * __1. Sys_Module__\n",
    " * __2. Os_Module__\n",
    " * __3. Math_Module__\n",
    " * __4. Random_Module__\n",
    " * __5. Date&Time_Module__\n",
    " * __6. Json__"
   ]
  },
  {
   "cell_type": "markdown",
   "id": "c7aa094a",
   "metadata": {},
   "source": [
    "# 1. Sys_Module\n",
    "\n",
    " __Sys_Module Basecally provide functions and method of python Intepreter. So, just Basically Responsible for controlling and intraction with interpreter.__\n",
    " * __Ex:- Any Information about system and Interpreter.__"
   ]
  },
  {
   "cell_type": "code",
   "execution_count": 2,
   "id": "5666ff75",
   "metadata": {},
   "outputs": [
    {
     "name": "stdout",
     "output_type": "stream",
     "text": [
      "3.9.13 (main, Aug 25 2022, 23:51:50) [MSC v.1916 64 bit (AMD64)]\n"
     ]
    }
   ],
   "source": [
    "import sys\n",
    "print(sys.version)"
   ]
  },
  {
   "cell_type": "code",
   "execution_count": 3,
   "id": "c6412be3",
   "metadata": {},
   "outputs": [
    {
     "name": "stdout",
     "output_type": "stream",
     "text": [
      "['C:\\\\Users\\\\Admin\\\\anaconda3\\\\lib\\\\site-packages\\\\ipykernel_launcher.py', '-f', 'C:\\\\Users\\\\Admin\\\\AppData\\\\Roaming\\\\jupyter\\\\runtime\\\\kernel-72fd7dea-66df-4d9f-b5af-50ab1594e542.json']\n"
     ]
    }
   ],
   "source": [
    "print(sys.argv)"
   ]
  },
  {
   "cell_type": "markdown",
   "id": "10504bcc",
   "metadata": {},
   "source": [
    "# Os_Module\n",
    "\n",
    " __It must be pritty clear that module is used to intract to the operating system.__\n",
    " \n",
    " __Main work of Os Module is.__\n",
    " \n",
    " * __1. Create Folder.__\n",
    " * __2. Remove Folder.__\n",
    " * __3. Move Folder.__\n",
    " * __4. Something change in your working directory.__"
   ]
  },
  {
   "cell_type": "code",
   "execution_count": 5,
   "id": "7a46dc92",
   "metadata": {},
   "outputs": [
    {
     "name": "stdout",
     "output_type": "stream",
     "text": [
      "C:\\Users\\Admin\\May_Python_Internship\n"
     ]
    }
   ],
   "source": [
    "import os\n",
    "\n",
    "print(os.getcwd()) #<--------------- Current working directory."
   ]
  },
  {
   "cell_type": "code",
   "execution_count": 8,
   "id": "c5e0cd97",
   "metadata": {},
   "outputs": [
    {
     "name": "stdout",
     "output_type": "stream",
     "text": [
      "D:\\Vivek\n"
     ]
    }
   ],
   "source": [
    "# Change directory.\n",
    "\n",
    "import os\n",
    "\n",
    "os.chdir(\"D:\\\\Vivek\")  #<----------------- Directory changed C to D directory.\n",
    "\n",
    "print(os.getcwd())"
   ]
  },
  {
   "cell_type": "code",
   "execution_count": 9,
   "id": "24697bdd",
   "metadata": {},
   "outputs": [],
   "source": [
    "os.mkdir(\"D:\\\\Vivek\\\\New_directory\")"
   ]
  },
  {
   "cell_type": "code",
   "execution_count": 10,
   "id": "ff535b4c",
   "metadata": {},
   "outputs": [
    {
     "name": "stdout",
     "output_type": "stream",
     "text": [
      "D:\\Vivek\n"
     ]
    }
   ],
   "source": [
    "print(os.getcwd())"
   ]
  },
  {
   "cell_type": "code",
   "execution_count": 13,
   "id": "3d84bab9",
   "metadata": {},
   "outputs": [
    {
     "name": "stderr",
     "output_type": "stream",
     "text": [
      "The system cannot find the file specified.\n"
     ]
    }
   ],
   "source": [
    "ls    #<------------------- list of directory"
   ]
  },
  {
   "cell_type": "code",
   "execution_count": 14,
   "id": "a456c698",
   "metadata": {},
   "outputs": [
    {
     "name": "stdout",
     "output_type": "stream",
     "text": [
      " Volume in drive D is Windows\n",
      " Volume Serial Number is D68B-A907\n",
      "\n",
      " Directory of D:\\Vivek\n",
      "\n",
      "13/07/2023  09:14    <DIR>          .\n",
      "13/07/2023  09:14    <DIR>          ..\n",
      "13/07/2023  09:14    <DIR>          New_directory\n",
      "               0 File(s)              0 bytes\n",
      "               3 Dir(s)  261,167,620,096 bytes free\n"
     ]
    }
   ],
   "source": [
    "ls"
   ]
  },
  {
   "cell_type": "code",
   "execution_count": 15,
   "id": "ae245a7a",
   "metadata": {},
   "outputs": [],
   "source": [
    "# Delete or remove directory.\n",
    "\n",
    "os.rmdir('D:\\\\Vivek\\\\New_directory')"
   ]
  },
  {
   "cell_type": "code",
   "execution_count": 17,
   "id": "af9caeef",
   "metadata": {},
   "outputs": [
    {
     "data": {
      "text/plain": [
       "'D:\\\\Vivek'"
      ]
     },
     "execution_count": 17,
     "metadata": {},
     "output_type": "execute_result"
    }
   ],
   "source": [
    "os.getcwd()"
   ]
  },
  {
   "cell_type": "code",
   "execution_count": 18,
   "id": "67b44ae3",
   "metadata": {},
   "outputs": [
    {
     "name": "stdout",
     "output_type": "stream",
     "text": [
      " Volume in drive D is Windows\n",
      " Volume Serial Number is D68B-A907\n",
      "\n",
      " Directory of D:\\Vivek\n",
      "\n",
      "13/07/2023  09:21    <DIR>          .\n",
      "13/07/2023  09:21    <DIR>          ..\n",
      "               0 File(s)              0 bytes\n",
      "               2 Dir(s)  261,167,620,096 bytes free\n"
     ]
    }
   ],
   "source": [
    "ls"
   ]
  },
  {
   "cell_type": "code",
   "execution_count": 19,
   "id": "e732353e",
   "metadata": {},
   "outputs": [
    {
     "name": "stdout",
     "output_type": "stream",
     "text": [
      "Shutdown your system?(Y or N)N\n",
      "Existing the program doing nothing.\n"
     ]
    }
   ],
   "source": [
    "# Python program to shutdown your computer.\n",
    "import os\n",
    "\n",
    "choice=input('Shutdown your system?(Y or N)')\n",
    "\n",
    "if choice=='Y' or choice=='y':\n",
    "    os.system('shutdown /s')\n",
    "else:\n",
    "    print('Existing the program doing nothing.')"
   ]
  },
  {
   "cell_type": "code",
   "execution_count": 1,
   "id": "43a2aef2",
   "metadata": {},
   "outputs": [
    {
     "name": "stdout",
     "output_type": "stream",
     "text": [
      "Restart your computer? (Y or N)N\n",
      "Existing the program doing nothing.\n"
     ]
    }
   ],
   "source": [
    "# Python program to restrart your computer.\n",
    "\n",
    "import os\n",
    "\n",
    "choice=input('Restart your computer? (Y or N)')\n",
    "\n",
    "if choice=='Y' or choice =='y':\n",
    "    os.system('shutdown /r')\n",
    "    \n",
    "else:\n",
    "    print('Existing the program doing nothing.')"
   ]
  },
  {
   "cell_type": "code",
   "execution_count": 2,
   "id": "26f70b85",
   "metadata": {},
   "outputs": [
    {
     "name": "stdout",
     "output_type": "stream",
     "text": [
      "Logoff Your Computer? (Y or N)n\n",
      "Existing the program doing nothing.\n"
     ]
    }
   ],
   "source": [
    "# Python program to logoff your computer\n",
    "\n",
    "import os\n",
    "\n",
    "choice=input('Logoff Your Computer? (Y or N)')\n",
    "\n",
    "if choice=='y' or choice=='Y':\n",
    "    os.system('shutdown /l')\n",
    "    \n",
    "else:\n",
    "    print('Existing the program doing nothing.')"
   ]
  },
  {
   "cell_type": "markdown",
   "id": "82dda9dc",
   "metadata": {},
   "source": [
    "#  Random Module"
   ]
  },
  {
   "cell_type": "code",
   "execution_count": 5,
   "id": "f48abca4",
   "metadata": {},
   "outputs": [
    {
     "name": "stdout",
     "output_type": "stream",
     "text": [
      "0.4975365687586023\n"
     ]
    }
   ],
   "source": [
    "import random\n",
    "\n",
    "random.seed(50)\n",
    "print(random.random())"
   ]
  },
  {
   "cell_type": "code",
   "execution_count": 6,
   "id": "15bab1e1",
   "metadata": {},
   "outputs": [
    {
     "name": "stdout",
     "output_type": "stream",
     "text": [
      "(3, (2880026240, 2826953727, 933712239, 1968689865, 2266349261, 3234873293, 662672216, 2005552686, 998943988, 2370450812, 2348475133, 3479829841, 1980657712, 3563473220, 2355376361, 1266086409, 2342269064, 1592401799, 3045632919, 1982841812, 1400632826, 2168100894, 3422042860, 4008472682, 2118447047, 654208372, 1480930224, 3117895252, 2243345731, 4152913304, 2905873824, 3997147619, 1418906506, 2280482565, 1316496110, 2875103755, 3325562080, 2129635602, 3960938956, 4000453470, 2130350255, 1099455602, 1380918258, 3284063889, 1000025233, 661959659, 964814122, 1110841097, 3872171711, 3320929385, 4290671546, 3200465256, 3069796455, 2460970210, 1032507589, 1439692914, 1821373648, 817606842, 2735724500, 2523486092, 4278849486, 2938130220, 594742838, 324345533, 2586956427, 2691290035, 959092098, 122691403, 619433614, 1069804278, 2080998425, 950215483, 518600346, 1680170977, 4202881654, 3377002649, 1003947911, 632534970, 3636077748, 2929173519, 577836886, 2751992855, 1148130112, 1794008974, 2992173799, 1994161157, 3938148566, 2154740585, 2316258162, 1175962594, 3392892831, 3571453290, 2839401305, 1545726068, 1235055848, 897492325, 3941687544, 1279425699, 1718466008, 742570290, 662821223, 2703423995, 432871125, 2120012852, 888253861, 3378074319, 3391268818, 2919124980, 1176566863, 2644933890, 2858241880, 1362733443, 4033855015, 1028673875, 4181052056, 77405442, 791518694, 2240646657, 4019174400, 3946256982, 2458292611, 1833562964, 799627253, 244227320, 3933424349, 3356471985, 1691197193, 1036350057, 782629868, 4089087389, 1722355133, 1590559492, 3025115921, 1977264589, 2960350353, 1792900907, 3589327667, 975624817, 128303666, 3480728608, 1563710211, 3871489254, 2202494415, 148181399, 3703829817, 1058212113, 548024457, 3873324870, 3332729432, 3623840119, 4054909224, 2684846155, 4130740410, 1763319933, 3142702177, 3887008188, 3563321370, 329711255, 4225111983, 2187063209, 2330372545, 3258156464, 1907956293, 4241623028, 1891646180, 1535043495, 2769115622, 3585979647, 193476582, 174398510, 1152314339, 2697088190, 3255212951, 2072379150, 2161704972, 2902942672, 1341686972, 1922378368, 1705231467, 747678620, 1932698795, 2481132399, 4255136983, 3098538087, 74978729, 4244983727, 2371831154, 465194901, 3952436692, 2442799803, 2100016914, 830512511, 1025166903, 1314261434, 627831305, 3496207241, 3550656592, 1121508340, 3202793131, 1921456977, 1920504968, 1609317683, 4087485458, 3636042738, 8349925, 3886668536, 2672443841, 56863955, 21304987, 1063953107, 3069215025, 2819885378, 1337093760, 4065912777, 1867743462, 262794976, 3566263338, 773683321, 4158342935, 3418130779, 380541727, 672741124, 721156167, 956009045, 3211082093, 195200953, 2083657371, 1966678784, 937408633, 2696583587, 3255426614, 1998994876, 1006954882, 2964306999, 1194900108, 1688019693, 1874246862, 472252726, 522201444, 2131800119, 1994946299, 3780043646, 3250967909, 2788691533, 65847742, 2140508746, 1385446018, 1967118530, 3482933895, 575766887, 4258616819, 2064797646, 512912397, 372135777, 3321308940, 2579416375, 101585208, 3524265064, 35596884, 1919811115, 285429391, 3162562358, 3073614849, 1685731271, 459829118, 449273843, 4138854637, 4050096318, 3502444447, 1148819783, 3974937222, 1191436324, 3805746066, 3094315081, 2786511549, 3189090272, 788366142, 3066709870, 3311113582, 351303398, 3063042196, 4232729989, 3091409340, 3369435140, 3616000630, 1393398405, 1925238293, 4105954877, 4040439777, 4094758466, 2494030925, 3081197216, 497139854, 378424596, 2541010579, 1930545005, 391087443, 3387225475, 3474319822, 3050819919, 489057468, 2581780616, 3244227954, 4165314256, 67131528, 2723835043, 3681844774, 3150265988, 2540010896, 1374280777, 3716030486, 3749048582, 145409809, 2663577521, 2455371704, 3998277683, 1497302689, 2753083347, 3660009737, 2972459802, 3060046047, 1275190943, 1668493303, 2225332617, 3136823461, 1297119573, 2739530361, 3596936929, 1372019245, 3030572156, 1303911563, 4272437011, 2564449407, 3924535304, 2320347439, 4137143209, 239404391, 390241632, 2262476545, 1123184348, 3061109992, 3909935172, 2339299913, 2342393930, 1718194775, 722799313, 3787146641, 175317376, 1024634939, 3276755045, 3872999421, 2160036515, 930204049, 1443754553, 3099741348, 2424494998, 3316400142, 1631552509, 2269696901, 3628657142, 3104461819, 1002548336, 4258528913, 3313261650, 1345200797, 2072354687, 133900115, 656426504, 1697448928, 1330011002, 939784792, 3883908752, 3792784932, 3241394317, 3082215495, 3379658786, 3841913429, 3899442317, 854958182, 668864221, 899508441, 4285516535, 3837294433, 2576141829, 3504594885, 1095346524, 2671595645, 2501140374, 936682476, 3874202729, 3445221759, 897217555, 1032633412, 189101489, 3074441739, 3463611941, 3192714709, 911633850, 2519511943, 3181250509, 4043948509, 2588145533, 3897136878, 3689723200, 1016485538, 2779430795, 58901522, 1952009188, 574096222, 3274792069, 940375662, 2389768887, 1994459567, 1145588829, 152780351, 816849349, 1172951572, 1937336737, 292857304, 3412482942, 1014202220, 3809985407, 1178815633, 87996292, 2570183176, 3240464233, 435895370, 840664789, 2093503298, 2244236533, 900899219, 4146751354, 2643238865, 2811032806, 1149922250, 3018656254, 4021639367, 131809701, 1407661052, 535181627, 2935254362, 2772937462, 3886341401, 4174923017, 3985217495, 479272796, 3238554326, 1787719417, 2801095064, 2386255877, 1014226369, 3995457832, 525771833, 3270751716, 743990471, 3196958996, 3229670465, 2054603895, 718179745, 3762340428, 2669248042, 297157748, 2474504213, 3813789960, 3727615359, 1616665956, 3533143899, 3410929766, 1799535874, 662782066, 2455702707, 1656928650, 2873510595, 3841611345, 1391552382, 304979254, 2418383505, 267725333, 1054764157, 450484980, 1838235173, 2082203189, 3469365857, 242840852, 217969112, 2744786848, 704227873, 565003114, 26895495, 1502503460, 3014661642, 2262463568, 3988925441, 2175528099, 3279844507, 48658297, 474994760, 3888376840, 2137514659, 81106381, 2419040769, 259890356, 4200852298, 3985618908, 607915123, 545351764, 1063585861, 30169789, 3811688302, 1897410064, 3520359025, 65926969, 3422848169, 1506830205, 3152208912, 485275189, 169217473, 3582067850, 675055784, 428970329, 296432094, 3933725211, 52134960, 2666485814, 2613471798, 3218755567, 2568658082, 967636076, 3635374164, 3095890419, 4123827121, 2600051549, 714800954, 2852894700, 3535434839, 1503391846, 3755708071, 1170707956, 2951810627, 2481030962, 3957755307, 3886805246, 3134627, 515204917, 1728060145, 1111816414, 3847675664, 3666640768, 3808814568, 3670984002, 1144933123, 3550535260, 3867149921, 994102430, 1115016111, 1703545452, 2630480449, 2577810837, 1749694766, 1826747009, 1079832886, 146790740, 2468810378, 2046536370, 1569512406, 1508965742, 2403667764, 3267445652, 2917624378, 3777184271, 3186560010, 478416434, 1346549476, 1349573592, 2844196357, 264645931, 1464339635, 3532175555, 3357599442, 664063483, 3126775138, 104544178, 1089271839, 3232429324, 3678627913, 3610377220, 2812968901, 2909825363, 3009703991, 1377319147, 1917224590, 2583372406, 3180546554, 111862835, 3764668949, 2313315577, 2553344494, 355799097, 558411566, 1696880503, 899014878, 1770506783, 1883441087, 3037984459, 1661571293, 1568995728, 1192368227, 2620792366, 501786789, 3389625073, 1496268982, 3074158566, 2371750426, 845947160, 2754710812, 3867406513, 3770165784, 3559094501, 2209035802, 713095962, 1700625878, 1645234342, 3147339609, 3952619157, 2), None)\n"
     ]
    }
   ],
   "source": [
    "import random\n",
    "\n",
    "print(random.getstate())"
   ]
  },
  {
   "cell_type": "code",
   "execution_count": 8,
   "id": "243d646d",
   "metadata": {},
   "outputs": [
    {
     "name": "stdout",
     "output_type": "stream",
     "text": [
      "5\n"
     ]
    }
   ],
   "source": [
    "import random\n",
    "\n",
    "print(random.randrange(3,9))"
   ]
  },
  {
   "cell_type": "code",
   "execution_count": 21,
   "id": "22736c33",
   "metadata": {},
   "outputs": [
    {
     "name": "stdout",
     "output_type": "stream",
     "text": [
      "8\n"
     ]
    }
   ],
   "source": [
    "print(random.randint(3,50))"
   ]
  },
  {
   "cell_type": "code",
   "execution_count": 36,
   "id": "685deb73",
   "metadata": {},
   "outputs": [
    {
     "name": "stdout",
     "output_type": "stream",
     "text": [
      "Apple\n"
     ]
    }
   ],
   "source": [
    "import random\n",
    "\n",
    "mylist=['Apple','banana','cherry']\n",
    "\n",
    "print(random.choice(mylist))"
   ]
  },
  {
   "cell_type": "code",
   "execution_count": 38,
   "id": "ff99f30a",
   "metadata": {},
   "outputs": [
    {
     "name": "stdout",
     "output_type": "stream",
     "text": [
      "['apple', 'apple', 'banana', 'apple', 'banana', 'banana', 'banana', 'banana', 'banana', 'cherry', 'banana', 'cherry', 'banana', 'banana']\n"
     ]
    }
   ],
   "source": [
    "# Return a list with 14 item\n",
    "# The list should contain a randomly selection of the values from a specified list and there should be 10 times higher posssibility to select \"apple\" than the other two.\n",
    "\n",
    "import random\n",
    "\n",
    "mylist=['apple','banana','cherry']\n",
    "\n",
    "print(random.choices(mylist,weights=[10,10,3],k=14))"
   ]
  },
  {
   "cell_type": "code",
   "execution_count": 42,
   "id": "873b1c41",
   "metadata": {},
   "outputs": [
    {
     "name": "stdout",
     "output_type": "stream",
     "text": [
      "['cherry', 'apple']\n"
     ]
    }
   ],
   "source": [
    "import random\n",
    "\n",
    "print(random.sample(mylist,k=2))"
   ]
  },
  {
   "cell_type": "markdown",
   "id": "32eb77fa",
   "metadata": {},
   "source": [
    "# Date and time module()"
   ]
  },
  {
   "cell_type": "code",
   "execution_count": 46,
   "id": "e1269b0a",
   "metadata": {},
   "outputs": [
    {
     "name": "stdout",
     "output_type": "stream",
     "text": [
      "2023-07-18 09:21:37.219558\n"
     ]
    }
   ],
   "source": [
    "import datetime\n",
    "\n",
    "x = datetime.datetime.now()\n",
    "print(x)"
   ]
  },
  {
   "cell_type": "code",
   "execution_count": 62,
   "id": "74d96f43",
   "metadata": {},
   "outputs": [
    {
     "name": "stdout",
     "output_type": "stream",
     "text": [
      "2023\n",
      "Tuesday\n",
      "2\n"
     ]
    }
   ],
   "source": [
    "# Return the year and name of weekday.\n",
    "import datetime\n",
    "\n",
    "x = datetime.datetime.now()\n",
    "\n",
    "print(x.year)\n",
    "print(x.strftime('%A'))\n",
    "print(x.strftime('%w'))"
   ]
  },
  {
   "cell_type": "code",
   "execution_count": 58,
   "id": "a9d0e35d",
   "metadata": {},
   "outputs": [
    {
     "name": "stdout",
     "output_type": "stream",
     "text": [
      "Monday\n",
      "May\n"
     ]
    }
   ],
   "source": [
    "# Create a date object\n",
    "# The datetime() class also takes parameters for time and timezone(hour,minute,second,microsecond,tzone), but they are optional\n",
    "\n",
    "import datetime\n",
    "\n",
    "x = datetime.datetime(900,5,17)\n",
    "\n",
    "print(x.strftime('%A'))\n",
    "print(x.strftime('%B'))\n",
    "\n"
   ]
  },
  {
   "cell_type": "code",
   "execution_count": 61,
   "id": "8eb89fa4",
   "metadata": {},
   "outputs": [
    {
     "name": "stdout",
     "output_type": "stream",
     "text": [
      "Mon\n",
      "1\n"
     ]
    }
   ],
   "source": [
    "# Weekdays as a number 0-6, 0 is sunday.\n",
    "print(x.strftime('%a'))\n",
    "print(x.strftime('%w'))"
   ]
  },
  {
   "cell_type": "code",
   "execution_count": 63,
   "id": "2451114b",
   "metadata": {},
   "outputs": [
    {
     "name": "stdout",
     "output_type": "stream",
     "text": [
      "18\n"
     ]
    }
   ],
   "source": [
    "# Day of month 01-31\n",
    "\n",
    "import datetime\n",
    "\n",
    "x=datetime.datetime.now()\n",
    "\n",
    "print(x.strftime('%d'))"
   ]
  },
  {
   "cell_type": "code",
   "execution_count": 65,
   "id": "22cee488",
   "metadata": {},
   "outputs": [
    {
     "name": "stdout",
     "output_type": "stream",
     "text": [
      "Jul\n"
     ]
    }
   ],
   "source": [
    "# month name, short version\n",
    "import datetime\n",
    "\n",
    "x = datetime.datetime.now()\n",
    "\n",
    "print(x.strftime('%b'))"
   ]
  },
  {
   "cell_type": "code",
   "execution_count": 66,
   "id": "029b1639",
   "metadata": {},
   "outputs": [
    {
     "name": "stdout",
     "output_type": "stream",
     "text": [
      "07\n"
     ]
    }
   ],
   "source": [
    "# Month as a number 01-12\n",
    "\n",
    "import datetime\n",
    "\n",
    "x=datetime.datetime.now()\n",
    "\n",
    "print(x.strftime('%m'))"
   ]
  },
  {
   "cell_type": "code",
   "execution_count": 67,
   "id": "0fe8ab24",
   "metadata": {},
   "outputs": [
    {
     "name": "stdout",
     "output_type": "stream",
     "text": [
      "2023\n"
     ]
    }
   ],
   "source": [
    "# year, full version\n",
    "\n",
    "import datetime\n",
    "\n",
    "x = datetime.datetime.now()\n",
    "\n",
    "print(x.strftime('%Y'))"
   ]
  },
  {
   "cell_type": "code",
   "execution_count": null,
   "id": "47a0d345",
   "metadata": {},
   "outputs": [],
   "source": []
  }
 ],
 "metadata": {
  "kernelspec": {
   "display_name": "Python 3 (ipykernel)",
   "language": "python",
   "name": "python3"
  },
  "language_info": {
   "codemirror_mode": {
    "name": "ipython",
    "version": 3
   },
   "file_extension": ".py",
   "mimetype": "text/x-python",
   "name": "python",
   "nbconvert_exporter": "python",
   "pygments_lexer": "ipython3",
   "version": "3.9.13"
  }
 },
 "nbformat": 4,
 "nbformat_minor": 5
}
