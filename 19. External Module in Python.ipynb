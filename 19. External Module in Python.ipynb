{
 "cells": [
  {
   "cell_type": "markdown",
   "id": "368d8332",
   "metadata": {},
   "source": [
    "__Module in Python Basically a file which contains python defination and statements.__\n",
    "\n",
    " __Module Name__\n",
    " * __1. Sys_Module__\n",
    " * __2. Os_Module__\n",
    " * __3. Math_Module__\n",
    " * __4. Random_Module__\n",
    " * __5. Date&Time_Module__\n",
    " * __6. Json__"
   ]
  },
  {
   "cell_type": "markdown",
   "id": "c7aa094a",
   "metadata": {},
   "source": [
    "# 1. Sys_Module\n",
    "\n",
    " __Sys_Module Basecally provide functions and method of python Intepreter. So, just Basically Responsible for controlling and intraction with interpreter.__\n",
    " * __Ex:- Any Information about system and Interpreter.__"
   ]
  },
  {
   "cell_type": "code",
   "execution_count": 2,
   "id": "5666ff75",
   "metadata": {},
   "outputs": [
    {
     "name": "stdout",
     "output_type": "stream",
     "text": [
      "3.9.13 (main, Aug 25 2022, 23:51:50) [MSC v.1916 64 bit (AMD64)]\n"
     ]
    }
   ],
   "source": [
    "import sys\n",
    "print(sys.version)"
   ]
  },
  {
   "cell_type": "code",
   "execution_count": 3,
   "id": "c6412be3",
   "metadata": {},
   "outputs": [
    {
     "name": "stdout",
     "output_type": "stream",
     "text": [
      "['C:\\\\Users\\\\Admin\\\\anaconda3\\\\lib\\\\site-packages\\\\ipykernel_launcher.py', '-f', 'C:\\\\Users\\\\Admin\\\\AppData\\\\Roaming\\\\jupyter\\\\runtime\\\\kernel-72fd7dea-66df-4d9f-b5af-50ab1594e542.json']\n"
     ]
    }
   ],
   "source": [
    "print(sys.argv)"
   ]
  },
  {
   "cell_type": "markdown",
   "id": "10504bcc",
   "metadata": {},
   "source": [
    "# Os_Module\n",
    "\n",
    " __It must be pritty clear that module is used to intract to the operating system.__\n",
    " \n",
    " __Main work of Os Module is.__\n",
    " \n",
    " * __1. Create Folder.__\n",
    " * __2. Remove Folder.__\n",
    " * __3. Move Folder.__\n",
    " * __4. Something change in your working directory.__"
   ]
  },
  {
   "cell_type": "code",
   "execution_count": 5,
   "id": "7a46dc92",
   "metadata": {},
   "outputs": [
    {
     "name": "stdout",
     "output_type": "stream",
     "text": [
      "C:\\Users\\Admin\\May_Python_Internship\n"
     ]
    }
   ],
   "source": [
    "import os\n",
    "\n",
    "print(os.getcwd()) #<--------------- Current working directory."
   ]
  },
  {
   "cell_type": "code",
   "execution_count": 8,
   "id": "c5e0cd97",
   "metadata": {},
   "outputs": [
    {
     "name": "stdout",
     "output_type": "stream",
     "text": [
      "D:\\Vivek\n"
     ]
    }
   ],
   "source": [
    "# Change directory.\n",
    "\n",
    "import os\n",
    "\n",
    "os.chdir(\"D:\\\\Vivek\")  #<----------------- Directory changed C to D directory.\n",
    "\n",
    "print(os.getcwd())"
   ]
  },
  {
   "cell_type": "code",
   "execution_count": 9,
   "id": "24697bdd",
   "metadata": {},
   "outputs": [],
   "source": [
    "os.mkdir(\"D:\\\\Vivek\\\\New_directory\")"
   ]
  },
  {
   "cell_type": "code",
   "execution_count": 10,
   "id": "ff535b4c",
   "metadata": {},
   "outputs": [
    {
     "name": "stdout",
     "output_type": "stream",
     "text": [
      "D:\\Vivek\n"
     ]
    }
   ],
   "source": [
    "print(os.getcwd())"
   ]
  },
  {
   "cell_type": "code",
   "execution_count": 13,
   "id": "3d84bab9",
   "metadata": {},
   "outputs": [
    {
     "name": "stderr",
     "output_type": "stream",
     "text": [
      "The system cannot find the file specified.\n"
     ]
    }
   ],
   "source": [
    "ls    #<------------------- list of directory"
   ]
  },
  {
   "cell_type": "code",
   "execution_count": 14,
   "id": "a456c698",
   "metadata": {},
   "outputs": [
    {
     "name": "stdout",
     "output_type": "stream",
     "text": [
      " Volume in drive D is Windows\n",
      " Volume Serial Number is D68B-A907\n",
      "\n",
      " Directory of D:\\Vivek\n",
      "\n",
      "13/07/2023  09:14    <DIR>          .\n",
      "13/07/2023  09:14    <DIR>          ..\n",
      "13/07/2023  09:14    <DIR>          New_directory\n",
      "               0 File(s)              0 bytes\n",
      "               3 Dir(s)  261,167,620,096 bytes free\n"
     ]
    }
   ],
   "source": [
    "ls"
   ]
  },
  {
   "cell_type": "code",
   "execution_count": 15,
   "id": "ae245a7a",
   "metadata": {},
   "outputs": [],
   "source": [
    "# Delete or remove directory.\n",
    "\n",
    "os.rmdir('D:\\\\Vivek\\\\New_directory')"
   ]
  },
  {
   "cell_type": "code",
   "execution_count": 17,
   "id": "af9caeef",
   "metadata": {},
   "outputs": [
    {
     "data": {
      "text/plain": [
       "'D:\\\\Vivek'"
      ]
     },
     "execution_count": 17,
     "metadata": {},
     "output_type": "execute_result"
    }
   ],
   "source": [
    "os.getcwd()"
   ]
  },
  {
   "cell_type": "code",
   "execution_count": 18,
   "id": "67b44ae3",
   "metadata": {},
   "outputs": [
    {
     "name": "stdout",
     "output_type": "stream",
     "text": [
      " Volume in drive D is Windows\n",
      " Volume Serial Number is D68B-A907\n",
      "\n",
      " Directory of D:\\Vivek\n",
      "\n",
      "13/07/2023  09:21    <DIR>          .\n",
      "13/07/2023  09:21    <DIR>          ..\n",
      "               0 File(s)              0 bytes\n",
      "               2 Dir(s)  261,167,620,096 bytes free\n"
     ]
    }
   ],
   "source": [
    "ls"
   ]
  },
  {
   "cell_type": "code",
   "execution_count": 19,
   "id": "e732353e",
   "metadata": {},
   "outputs": [
    {
     "name": "stdout",
     "output_type": "stream",
     "text": [
      "Shutdown your system?(Y or N)N\n",
      "Existing the program doing nothing.\n"
     ]
    }
   ],
   "source": [
    "# Python program to shutdown your computer.\n",
    "import os\n",
    "\n",
    "choice=input('Shutdown your system?(Y or N)')\n",
    "\n",
    "if choice=='Y' or choice=='y':\n",
    "    os.system('shutdown /s')\n",
    "else:\n",
    "    print('Existing the program doing nothing.')"
   ]
  },
  {
   "cell_type": "code",
   "execution_count": null,
   "id": "43a2aef2",
   "metadata": {},
   "outputs": [],
   "source": []
  }
 ],
 "metadata": {
  "kernelspec": {
   "display_name": "Python 3 (ipykernel)",
   "language": "python",
   "name": "python3"
  },
  "language_info": {
   "codemirror_mode": {
    "name": "ipython",
    "version": 3
   },
   "file_extension": ".py",
   "mimetype": "text/x-python",
   "name": "python",
   "nbconvert_exporter": "python",
   "pygments_lexer": "ipython3",
   "version": "3.9.13"
  }
 },
 "nbformat": 4,
 "nbformat_minor": 5
}
