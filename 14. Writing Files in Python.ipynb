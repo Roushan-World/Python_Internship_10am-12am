{
 "cells": [
  {
   "cell_type": "markdown",
   "id": "530a1ff6",
   "metadata": {},
   "source": [
    "# 14. Writing Files in Python\n",
    "\n",
    " __To Write to a text file in Python, yoy follows these steps:__\n",
    " \n",
    " * First, open the text file for writing (appending) using __open()__ function.\n",
    " * Second, write to the text file using the __write()__ or __writelines()__ method.\n",
    " * Third, close the file using __close()__ method.\n",
    " \n",
    " __Character ---------------------> Functions.__\n",
    " \n",
    " * __r__ :------------------------> Open the file for reading only. Stats reading from beginning of file. This is default mode.\n",
    " \n",
    " * __rb__ :-----------------------> Open a file for reading only. Stats reading from beginning of the file.\n",
    " \n",
    " * __r+__ :-----------------------> Open file for reading and writing. File pointer placed at beginning of the file.\n",
    " \n",
    " * __w__ :----------------------->  Open file for writing only. File pointer placed at beginning of the file. Overwrites existing file and creates a new one if it does not exists.\n",
    " \n",
    " * __wb__ :-----------------------> Same as w but opens in binary mode.\n",
    " \n",
    " * __w+__ :-----------------------> same as w but allows to read from file.\n",
    " \n",
    " * __wb+__ :----------------------> same as wb but also allows to read from file.\n",
    " \n",
    " * __a__ :------------------------> Open a file for appending. Starts writing at the end of the file. Creates a new file if file does not exist.\n",
    " \n",
    " * __ab__ :-----------------------> Same as a but in binary format. Creates a new file if file does not exist.\n",
    " \n",
    " * __a+__ :-----------------------> same as a but also open for reading.\n",
    " \n",
    " * __ab+__ :----------------------> Same as ab but also open for reading."
   ]
  },
  {
   "cell_type": "code",
   "execution_count": 1,
   "id": "03d72367",
   "metadata": {},
   "outputs": [],
   "source": [
    "fname='vivek.txt'\n",
    "with open (fname,'w') as f:\n",
    "    f.write('My self Vivek Late\\n')\n",
    "    f.write('I belong from Pune\\n')\n",
    "    f.write('I am currently learning Python from WebAsha Technology.')\n",
    "    "
   ]
  },
  {
   "cell_type": "code",
   "execution_count": 3,
   "id": "601f67e7",
   "metadata": {},
   "outputs": [
    {
     "name": "stdout",
     "output_type": "stream",
     "text": [
      "My self Vivek Late\n",
      "I belong from Pune\n",
      "I am currently learning Python from WebAsha Technology.\n"
     ]
    }
   ],
   "source": [
    "with open(fname,'r') as f:\n",
    "    content=f.read()\n",
    "    print(content)"
   ]
  },
  {
   "cell_type": "markdown",
   "id": "b56e701c",
   "metadata": {},
   "source": [
    "# appending files."
   ]
  },
  {
   "cell_type": "code",
   "execution_count": 4,
   "id": "612ea71c",
   "metadata": {},
   "outputs": [
    {
     "name": "stdout",
     "output_type": "stream",
     "text": [
      "overwrite\n",
      "\n"
     ]
    }
   ],
   "source": [
    "# Writing and then reading the files.\n",
    "new_file='vivek.txt'\n",
    "with open(new_file,'w') as f:\n",
    "    f.write ('overwrite\\n')\n",
    "with open(new_file,'r') as f:\n",
    "    print(f.read())"
   ]
  },
  {
   "cell_type": "code",
   "execution_count": 6,
   "id": "3a8e8737",
   "metadata": {},
   "outputs": [
    {
     "name": "stdout",
     "output_type": "stream",
     "text": [
      "Enter the name of student:\n",
      "Vivek Late\n",
      "Enter the name of student:\n",
      "Vaishnav Zalke\n",
      "Enter the name of student:\n",
      "Anapurna\n",
      "Enter the name of student:\n",
      "Tata \n",
      "Enter the name of student:\n",
      "Durgesh\n",
      "Vivek Late\n",
      "\n",
      "Vaishnav Zalke\n",
      "\n",
      "Anapurna\n",
      "\n",
      "Tata \n",
      "\n",
      "Durgesh\n",
      "\n"
     ]
    }
   ],
   "source": [
    "# Writing the student names into a file.\n",
    "\n",
    "fname=open(f'student_name.txt','w')\n",
    "for i in range(5):\n",
    "    name=input('Enter the name of student:\\n')\n",
    "    fname.write(name)\n",
    "    fname.write('\\n')\n",
    "# reading the file\n",
    "fname=open(r'student_name.txt','r')\n",
    "for line in fname:\n",
    "    print(line)\n",
    "fname.close()"
   ]
  },
  {
   "cell_type": "code",
   "execution_count": null,
   "id": "f08373a3",
   "metadata": {},
   "outputs": [],
   "source": []
  }
 ],
 "metadata": {
  "kernelspec": {
   "display_name": "Python 3 (ipykernel)",
   "language": "python",
   "name": "python3"
  },
  "language_info": {
   "codemirror_mode": {
    "name": "ipython",
    "version": 3
   },
   "file_extension": ".py",
   "mimetype": "text/x-python",
   "name": "python",
   "nbconvert_exporter": "python",
   "pygments_lexer": "ipython3",
   "version": "3.9.13"
  }
 },
 "nbformat": 4,
 "nbformat_minor": 5
}
