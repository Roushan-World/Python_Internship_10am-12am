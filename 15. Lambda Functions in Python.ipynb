{
 "cells": [
  {
   "cell_type": "markdown",
   "id": "0ba3920c",
   "metadata": {},
   "source": [
    "# 15. Lambda Functions in Python\n",
    "\n",
    " * A __lambda__ function is a small anonymous function.\n",
    " \n",
    " * A __lambda__ function can take any number of arguments, but can only have one expression.\n",
    " \n",
    " * The expression evaluated and returned.\n",
    " \n",
    " * __Lambda__ functions can be used wherever function objects are required.\n",
    " \n",
    " * __Lambda__ expression (or lambda functions) are essentially blocks of code that can be assigned to variables, passed as an arguments, or returned from a function call, in languages that support high-order functions.\n",
    " \n",
    " * They have been part of programming languages for quire some time.\n",
    " \n",
    " * They have been part of programming languages for quire some time.\n",
    " \n",
    " * The main role of lambda function is better described in the scenarios when we employ them anonymously inside another functions.\n",
    " \n",
    " * n Python, the __lambda__ function can be utilized as an arguments to the high order functions as argument."
   ]
  },
  {
   "cell_type": "code",
   "execution_count": 2,
   "id": "c1af931e",
   "metadata": {},
   "outputs": [
    {
     "name": "stdout",
     "output_type": "stream",
     "text": [
      "16\n"
     ]
    }
   ],
   "source": [
    "# Define a function using 'def'\n",
    "\n",
    "def f(x):\n",
    "    return x+6\n",
    "print(f(10))"
   ]
  },
  {
   "cell_type": "code",
   "execution_count": 3,
   "id": "853b0b56",
   "metadata": {},
   "outputs": [
    {
     "data": {
      "text/plain": [
       "16"
      ]
     },
     "execution_count": 3,
     "metadata": {},
     "output_type": "execute_result"
    }
   ],
   "source": [
    "(lambda x:x+6)(10)"
   ]
  },
  {
   "cell_type": "code",
   "execution_count": 4,
   "id": "43af44cf",
   "metadata": {},
   "outputs": [
    {
     "data": {
      "text/plain": [
       "10.0"
      ]
     },
     "execution_count": 4,
     "metadata": {},
     "output_type": "execute_result"
    }
   ],
   "source": [
    "(lambda y:y/2)(20)"
   ]
  },
  {
   "cell_type": "code",
   "execution_count": 5,
   "id": "6613dbb3",
   "metadata": {},
   "outputs": [
    {
     "name": "stdout",
     "output_type": "stream",
     "text": [
      "The exponent of 2 and 4 is 16\n"
     ]
    }
   ],
   "source": [
    "# Exponent\n",
    "\n",
    "def f(x,y):\n",
    "    return x**y\n",
    "print('The exponent of {} and {} is'.format(2,4),f(2,4))"
   ]
  },
  {
   "cell_type": "code",
   "execution_count": 6,
   "id": "78840898",
   "metadata": {},
   "outputs": [
    {
     "name": "stdout",
     "output_type": "stream",
     "text": [
      "The power of 2 and 4 is:16\n"
     ]
    }
   ],
   "source": [
    "print(f'The power of 2 and 4 is:{(lambda x,y:x**y)(2,4)}')"
   ]
  },
  {
   "cell_type": "code",
   "execution_count": 3,
   "id": "36f71df9",
   "metadata": {},
   "outputs": [
    {
     "name": "stdout",
     "output_type": "stream",
     "text": [
      "The volume of a cube using def function is: 1000\n"
     ]
    }
   ],
   "source": [
    "# calculate the volume of a cube using def and lambda functions.\n",
    "\n",
    "\n",
    "def cube_volume_def(a):\n",
    "    return a*a*a\n",
    "\n",
    "print(f'The volume of a cube using def function is: {cube_volume_def(10)}')"
   ]
  },
  {
   "cell_type": "code",
   "execution_count": 2,
   "id": "6411c9aa",
   "metadata": {},
   "outputs": [
    {
     "name": "stdout",
     "output_type": "stream",
     "text": [
      "The volume of a cube using lambda function is: 1000\n"
     ]
    }
   ],
   "source": [
    "# lambda function\n",
    "\n",
    "print(f'The volume of a cube using lambda function is: {(lambda a:a*a*a )(10)}')"
   ]
  },
  {
   "cell_type": "markdown",
   "id": "a4e87ea5",
   "metadata": {},
   "source": [
    "# Multiplication of table"
   ]
  },
  {
   "cell_type": "code",
   "execution_count": 7,
   "id": "8fa2c282",
   "metadata": {},
   "outputs": [
    {
     "name": "stdout",
     "output_type": "stream",
     "text": [
      "Enter a number:19\n",
      "19 X 0 = 0\n",
      "19 X 1 = 19\n",
      "19 X 2 = 38\n",
      "19 X 3 = 57\n",
      "19 X 4 = 76\n",
      "19 X 5 = 95\n",
      "19 X 6 = 114\n",
      "19 X 7 = 133\n",
      "19 X 8 = 152\n",
      "19 X 9 = 171\n",
      "19 X 10 = 190\n"
     ]
    }
   ],
   "source": [
    "def mult_table(n):\n",
    "    return lambda x:x*n\n",
    "    \n",
    "n=int(input('Enter a number:'))\n",
    "y= mult_table(n)\n",
    "\n",
    "for i in range(11):\n",
    "    print(('%d X %d = %d'%(n,i,y(i))))"
   ]
  },
  {
   "cell_type": "markdown",
   "id": "0f089aac",
   "metadata": {},
   "source": [
    "# filter()"
   ]
  },
  {
   "cell_type": "code",
   "execution_count": 9,
   "id": "2480814f",
   "metadata": {},
   "outputs": [
    {
     "data": {
      "text/plain": [
       "[6, 28, 10, 20, 30]"
      ]
     },
     "execution_count": 9,
     "metadata": {},
     "output_type": "execute_result"
    }
   ],
   "source": [
    "# This program returns a new list when the special numbers in the list are divided by 2 and the remainder is equal to 0\n",
    "\n",
    "\n",
    "special_nums=[0.577,1.618,2.718,3.14,6,28,37,1729,10,20,30]\n",
    "\n",
    "list(filter(lambda x:(x%2==0),special_nums))"
   ]
  },
  {
   "cell_type": "markdown",
   "id": "c29b7168",
   "metadata": {},
   "source": [
    "# map()\n"
   ]
  },
  {
   "cell_type": "code",
   "execution_count": 10,
   "id": "fbc6d3f5",
   "metadata": {},
   "outputs": [
    {
     "name": "stdout",
     "output_type": "stream",
     "text": [
      "Non special numbers are: [2.885, 8.09, 13.59, 15.700000000000001, 30, 140, 185, 8645, 50, 100, 150]\n"
     ]
    }
   ],
   "source": [
    "# This program will multiplicate each element of the list with 5 and followed by power of 2.\n",
    "\n",
    "special_nums=[0.577,1.618,2.718,3.14,6,28,37,1729,10,20,30]\n",
    "print(f'Non special numbers are: {list(map(lambda x:x*5,special_nums))}')"
   ]
  },
  {
   "cell_type": "markdown",
   "id": "bde612b1",
   "metadata": {},
   "source": [
    "# lambda function with if/else statement"
   ]
  },
  {
   "cell_type": "code",
   "execution_count": 13,
   "id": "8d8c8930",
   "metadata": {},
   "outputs": [
    {
     "name": "stdout",
     "output_type": "stream",
     "text": [
      "Enter your age:\n",
      "5\n",
      "Therefore, you do not use a vote\n"
     ]
    }
   ],
   "source": [
    "age=int(input('Enter your age:\\n'))\n",
    "(lambda age:print('Therefore, your can vate.') if (age>=18) else print('Therefore, you do not use a vote'))(age)"
   ]
  },
  {
   "cell_type": "code",
   "execution_count": 16,
   "id": "0ee2dc57",
   "metadata": {},
   "outputs": [
    {
     "name": "stdout",
     "output_type": "stream",
     "text": [
      "Enter age:17\n",
      "you can watch movie in home only\n"
     ]
    }
   ],
   "source": [
    "age=int(input(\"Enter age:\"))\n",
    "(lambda age:print(\"You can watch the movie in cinemahall.\")if(age>=18) else print(\"you can watch movie in home only.\"))(age)"
   ]
  },
  {
   "cell_type": "code",
   "execution_count": 17,
   "id": "1a83d491",
   "metadata": {},
   "outputs": [
    {
     "name": "stdout",
     "output_type": "stream",
     "text": [
      "Python is a programming language.\n"
     ]
    }
   ],
   "source": [
    "text='Python is a programming language.'\n",
    "\n",
    "\n",
    "(lambda text:print(text))(text)"
   ]
  },
  {
   "cell_type": "code",
   "execution_count": 19,
   "id": "c3a1c9ed",
   "metadata": {},
   "outputs": [
    {
     "name": "stdout",
     "output_type": "stream",
     "text": [
      "[37.68]\n"
     ]
    }
   ],
   "source": [
    "list1=[]\n",
    "# Multiplication of pi number and 12 in one line using lambda function\n",
    "list1.append((lambda x:x*3.14)(12))\n",
    "# Division of pi number and 12 in one line using lambda function\n",
    "list1\n",
    "\n",
    "# Addition of pi number and 12 in one line using lambda function.\n",
    "\n",
    "\n",
    "# Substraction of pi number and 12 in one line using lambda function.\n",
    "\n",
    "\n",
    "# Remainder of pi number and 12 in one line using lambda function.\n",
    "\n",
    "\n",
    "# Floor division of pi number and 12 in one line using lambda function.\n",
    "\n",
    "# Exponent of pi number and 12 in one line using lambda function."
   ]
  },
  {
   "cell_type": "code",
   "execution_count": 1,
   "id": "385c4b70",
   "metadata": {},
   "outputs": [
    {
     "name": "stdout",
     "output_type": "stream",
     "text": [
      "[37.68, 3.821656050955414, 15.14, 8.86, 2.5799999999999996, 3.0, 2446.972635086879]\n"
     ]
    }
   ],
   "source": [
    "list1=[]\n",
    "list1.append((lambda x:x*3.14)(12)) # Multiplication of pi number and 12 in one line using lambda function\n",
    "\n",
    "list1.append((lambda x:x/3.14)(12)) #Division of pi number and 12 in one line using lambda function\n",
    "\n",
    "list1.append((lambda x:x+3.14)(12)) #Addition of pi number and 12 in one line using lambda function.\n",
    "\n",
    "list1.append((lambda x:x-3.14)(12)) # Subtraction of pi number and 12 in one line using lambda function.\n",
    "\n",
    "list1.append((lambda x:x%3.14)(12))# Remainder\n",
    "list1.append((lambda x:x//3.14)(12))# Floor division of pi number and 12 in one line using lambda function.\n",
    "\n",
    "list1.append((lambda x:x**3.14)(12))  # Exponent of pi number and 12 in  one line using lambda function.\n",
    "print(list1)"
   ]
  },
  {
   "cell_type": "code",
   "execution_count": 5,
   "id": "de600ef6",
   "metadata": {},
   "outputs": [
    {
     "name": "stdout",
     "output_type": "stream",
     "text": [
      "['Amey', 'Shardul', 'Gambhir', 'Rana', 'Kolhi', 'Dhoni', 'Delhi', 'Mayers', 'Csk']\n"
     ]
    }
   ],
   "source": [
    "# store 10 strings name in new_variable in list with lambda function.\n",
    "\n",
    "\n",
    "new_variables=[]\n",
    "\n",
    "new_variables.append((lambda x:x)('Amey'))\n",
    "new_variables.append((lambda x:x)('Shardul'))\n",
    "new_variables.append((lambda x:x)('Gambhir'))\n",
    "new_variables.append((lambda x:x)('Rana'))\n",
    "new_variables.append((lambda x:x)('Kolhi'))\n",
    "new_variables.append((lambda x:x)('Dhoni'))\n",
    "new_variables.append((lambda x:x)('Delhi'))\n",
    "new_variables.append((lambda x:x)('Mayers'))\n",
    "new_variables.append((lambda x:x)('Csk'))\n",
    "print(new_variables)\n"
   ]
  },
  {
   "cell_type": "code",
   "execution_count": 6,
   "id": "6260d1be",
   "metadata": {},
   "outputs": [],
   "source": [
    "# Write a lambda function with formula of area_Rectangle and side is entered by user(l,b)?\n",
    "# Find the area of circle with lambda function and radius is entered by the user.\n",
    "# Find the area of square with lambda function and side is entered by the user.\n",
    "# Find the perimeter of square with lambda function and side is entered by the user.\n",
    "# Find the perimeter of rectange with lambda function and side(l,b) is entered by the user."
   ]
  },
  {
   "cell_type": "code",
   "execution_count": 9,
   "id": "77450fac",
   "metadata": {},
   "outputs": [
    {
     "name": "stdout",
     "output_type": "stream",
     "text": [
      "23\n",
      "24\n"
     ]
    }
   ],
   "source": [
    "list2=[]\n",
    "#area of rectangle\n",
    "length=int(input())\n",
    "breadth=int(input())\n",
    "list2.append((lambda y,x: length * breadth)(length,breadth))"
   ]
  },
  {
   "cell_type": "code",
   "execution_count": null,
   "id": "7226a303",
   "metadata": {},
   "outputs": [],
   "source": []
  },
  {
   "cell_type": "code",
   "execution_count": 10,
   "id": "2142b0c6",
   "metadata": {},
   "outputs": [
    {
     "name": "stdout",
     "output_type": "stream",
     "text": [
      "45\n"
     ]
    }
   ],
   "source": [
    "#area of circle\n",
    "radius=float(input())\n",
    "list2.append((lambda x:3.14*radius*radius)(radius))"
   ]
  },
  {
   "cell_type": "code",
   "execution_count": null,
   "id": "f9353d9b",
   "metadata": {},
   "outputs": [],
   "source": [
    "#area of square\n",
    "side=int(input())\n",
    "list2.append((lambda x:side*side)(side))\n",
    "print(list2)"
   ]
  },
  {
   "cell_type": "code",
   "execution_count": 13,
   "id": "d9072eaa",
   "metadata": {},
   "outputs": [
    {
     "name": "stdout",
     "output_type": "stream",
     "text": [
      "Enter the length24\n",
      "Enter the breadth23\n",
      "Area of Rectangle: 552\n"
     ]
    }
   ],
   "source": [
    "l = int(input('Enter the length'))\n",
    "b = int(input('Enter the breadth'))\n",
    "area=0\n",
    "print('Area of Rectangle:',(lambda area:l*b)(area))"
   ]
  },
  {
   "cell_type": "code",
   "execution_count": 12,
   "id": "df71e556",
   "metadata": {},
   "outputs": [
    {
     "name": "stdout",
     "output_type": "stream",
     "text": [
      "Enter the length:24\n",
      "Enter the breadth:23\n"
     ]
    },
    {
     "data": {
      "text/plain": [
       "552"
      ]
     },
     "execution_count": 12,
     "metadata": {},
     "output_type": "execute_result"
    }
   ],
   "source": [
    "l = int(input('Enter the length:'))\n",
    "b = int(input('Enter the breadth:'))\n",
    "\n",
    "area=0\n",
    "(lambda area:l*b)(area)"
   ]
  },
  {
   "cell_type": "code",
   "execution_count": 14,
   "id": "5441e047",
   "metadata": {},
   "outputs": [
    {
     "name": "stdout",
     "output_type": "stream",
     "text": [
      "Enter the radius of circle:6\n",
      "The area of circle is: 113.03999999999999\n"
     ]
    }
   ],
   "source": [
    "radius=int(input('Enter the radius of circle:'))\n",
    "\n",
    "print('The area of circle is:',(lambda area:3.14*radius*radius)(area))"
   ]
  },
  {
   "cell_type": "code",
   "execution_count": 15,
   "id": "1b686d03",
   "metadata": {},
   "outputs": [
    {
     "name": "stdout",
     "output_type": "stream",
     "text": [
      "Enter the radius of circle:6\n",
      "The area of circle is: 113.09733552923255\n"
     ]
    }
   ],
   "source": [
    "import math\n",
    "from math import *\n",
    "radius=int(input('Enter the radius of circle:'))\n",
    "\n",
    "print('The area of circle is:',(lambda area:pi*radius*radius)(area))"
   ]
  },
  {
   "cell_type": "code",
   "execution_count": 20,
   "id": "5bcc17b1",
   "metadata": {},
   "outputs": [
    {
     "name": "stdout",
     "output_type": "stream",
     "text": [
      "Enter the side of square:6\n",
      "The area of square is: 36\n"
     ]
    }
   ],
   "source": [
    "side=int(input('Enter the side of square:'))\n",
    "print('The area of square is:',(lambda area:side*side)(area))"
   ]
  },
  {
   "cell_type": "code",
   "execution_count": 22,
   "id": "f6782c2c",
   "metadata": {},
   "outputs": [
    {
     "name": "stdout",
     "output_type": "stream",
     "text": [
      "Enter length of square:5\n",
      "Enter width of square:5\n",
      "The perimeter of rectangle is: 20\n"
     ]
    }
   ],
   "source": [
    "perimeter=0\n",
    "length=int(input('Enter length of square:'))\n",
    "width=int(input('Enter width of square:'))\n",
    "\n",
    "print('The perimeter of rectangle is:',(lambda perimeter:2*length+2*width)(perimeter))"
   ]
  },
  {
   "cell_type": "code",
   "execution_count": null,
   "id": "0028d909",
   "metadata": {},
   "outputs": [],
   "source": []
  }
 ],
 "metadata": {
  "kernelspec": {
   "display_name": "Python 3 (ipykernel)",
   "language": "python",
   "name": "python3"
  },
  "language_info": {
   "codemirror_mode": {
    "name": "ipython",
    "version": 3
   },
   "file_extension": ".py",
   "mimetype": "text/x-python",
   "name": "python",
   "nbconvert_exporter": "python",
   "pygments_lexer": "ipython3",
   "version": "3.9.13"
  }
 },
 "nbformat": 4,
 "nbformat_minor": 5
}
