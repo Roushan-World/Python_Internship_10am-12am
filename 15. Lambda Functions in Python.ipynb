{
 "cells": [
  {
   "cell_type": "markdown",
   "id": "0ba3920c",
   "metadata": {},
   "source": [
    "# 15. Lambda Functions in Python\n",
    "\n",
    " * A __lambda__ function is a small anonymous function.\n",
    " \n",
    " * A __lambda__ function can take any number of arguments, but can only have one expression.\n",
    " \n",
    " * The expression evaluated and returned.\n",
    " \n",
    " * __Lambda__ functions can be used wherever function objects are required.\n",
    " \n",
    " * __Lambda__ expression (or lambda functions) are essentially blocks of code that can be assigned to variables, passed as an arguments, or returned from a function call, in languages that support high-order functions.\n",
    " \n",
    " * They have been part of programming languages for quire some time.\n",
    " \n",
    " * They have been part of programming languages for quire some time.\n",
    " \n",
    " * The main role of lambda function is better described in the scenarios when we employ them anonymously inside another functions.\n",
    " \n",
    " * n Python, the __lambda__ function can be utilized as an arguments to the high order functions as argument."
   ]
  },
  {
   "cell_type": "code",
   "execution_count": 2,
   "id": "c1af931e",
   "metadata": {},
   "outputs": [
    {
     "name": "stdout",
     "output_type": "stream",
     "text": [
      "16\n"
     ]
    }
   ],
   "source": [
    "# Define a function using 'def'\n",
    "\n",
    "def f(x):\n",
    "    return x+6\n",
    "print(f(10))"
   ]
  },
  {
   "cell_type": "code",
   "execution_count": 3,
   "id": "853b0b56",
   "metadata": {},
   "outputs": [
    {
     "data": {
      "text/plain": [
       "16"
      ]
     },
     "execution_count": 3,
     "metadata": {},
     "output_type": "execute_result"
    }
   ],
   "source": [
    "(lambda x:x+6)(10)"
   ]
  },
  {
   "cell_type": "code",
   "execution_count": 4,
   "id": "43af44cf",
   "metadata": {},
   "outputs": [
    {
     "data": {
      "text/plain": [
       "10.0"
      ]
     },
     "execution_count": 4,
     "metadata": {},
     "output_type": "execute_result"
    }
   ],
   "source": [
    "(lambda y:y/2)(20)"
   ]
  },
  {
   "cell_type": "code",
   "execution_count": 5,
   "id": "6613dbb3",
   "metadata": {},
   "outputs": [
    {
     "name": "stdout",
     "output_type": "stream",
     "text": [
      "The exponent of 2 and 4 is 16\n"
     ]
    }
   ],
   "source": [
    "# Exponent\n",
    "\n",
    "def f(x,y):\n",
    "    return x**y\n",
    "print('The exponent of {} and {} is'.format(2,4),f(2,4))"
   ]
  },
  {
   "cell_type": "code",
   "execution_count": 6,
   "id": "78840898",
   "metadata": {},
   "outputs": [
    {
     "name": "stdout",
     "output_type": "stream",
     "text": [
      "The power of 2 and 4 is:16\n"
     ]
    }
   ],
   "source": [
    "print(f'The power of 2 and 4 is:{(lambda x,y:x**y)(2,4)}')"
   ]
  },
  {
   "cell_type": "code",
   "execution_count": null,
   "id": "36f71df9",
   "metadata": {},
   "outputs": [],
   "source": []
  }
 ],
 "metadata": {
  "kernelspec": {
   "display_name": "Python 3 (ipykernel)",
   "language": "python",
   "name": "python3"
  },
  "language_info": {
   "codemirror_mode": {
    "name": "ipython",
    "version": 3
   },
   "file_extension": ".py",
   "mimetype": "text/x-python",
   "name": "python",
   "nbconvert_exporter": "python",
   "pygments_lexer": "ipython3",
   "version": "3.9.13"
  }
 },
 "nbformat": 4,
 "nbformat_minor": 5
}
