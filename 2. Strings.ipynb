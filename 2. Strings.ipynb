{
 "cells": [
  {
   "cell_type": "markdown",
   "id": "510980de",
   "metadata": {},
   "source": [
    "# 2. Strings\n",
    "\n"
   ]
  },
  {
   "cell_type": "code",
   "execution_count": 1,
   "id": "b3dbb4b9",
   "metadata": {},
   "outputs": [
    {
     "data": {
      "text/plain": [
       "'Hello World'"
      ]
     },
     "execution_count": 1,
     "metadata": {},
     "output_type": "execute_result"
    }
   ],
   "source": [
    "'Hello World'"
   ]
  },
  {
   "cell_type": "code",
   "execution_count": 2,
   "id": "48b6535d",
   "metadata": {},
   "outputs": [
    {
     "data": {
      "text/plain": [
       "'3 2 5 8 9 6 '"
      ]
     },
     "execution_count": 2,
     "metadata": {},
     "output_type": "execute_result"
    }
   ],
   "source": [
    "'3 2 5 8 9 6 '"
   ]
  },
  {
   "cell_type": "code",
   "execution_count": 3,
   "id": "40c0f68b",
   "metadata": {},
   "outputs": [
    {
     "data": {
      "text/plain": [
       "'@ # $n%'"
      ]
     },
     "execution_count": 3,
     "metadata": {},
     "output_type": "execute_result"
    }
   ],
   "source": [
    "'@ # $n%'"
   ]
  },
  {
   "cell_type": "code",
   "execution_count": 4,
   "id": "d3b8f43e",
   "metadata": {},
   "outputs": [
    {
     "name": "stdout",
     "output_type": "stream",
     "text": [
      "Hello World\n"
     ]
    }
   ],
   "source": [
    "message = 'Hello World'\n",
    "print(message)"
   ]
  },
  {
   "cell_type": "markdown",
   "id": "619927d2",
   "metadata": {},
   "source": [
    "# Indexing of a string"
   ]
  },
  {
   "cell_type": "code",
   "execution_count": 9,
   "id": "a6a28e71",
   "metadata": {},
   "outputs": [
    {
     "name": "stdout",
     "output_type": "stream",
     "text": [
      "H\n",
      "e\n",
      " \n"
     ]
    }
   ],
   "source": [
    "message = 'Hello World'\n",
    "print(message[0])\n",
    "print(message[1])\n",
    "print(message[5])  # positive index"
   ]
  },
  {
   "cell_type": "code",
   "execution_count": 13,
   "id": "9f998059",
   "metadata": {},
   "outputs": [
    {
     "name": "stdout",
     "output_type": "stream",
     "text": [
      "d\n",
      "l\n",
      "r\n",
      "o\n",
      "W\n"
     ]
    }
   ],
   "source": [
    "print(message[-1])\n",
    "print(message[-2])\n",
    "print(message[-3])\n",
    "print(message[-4])\n",
    "print(message[-5])"
   ]
  },
  {
   "cell_type": "code",
   "execution_count": 14,
   "id": "1cec7134",
   "metadata": {},
   "outputs": [
    {
     "data": {
      "text/plain": [
       "10"
      ]
     },
     "execution_count": 14,
     "metadata": {},
     "output_type": "execute_result"
    }
   ],
   "source": [
    "x = 'Vivek Late'\n",
    "len(x)"
   ]
  },
  {
   "cell_type": "code",
   "execution_count": 16,
   "id": "21fbbcf9",
   "metadata": {},
   "outputs": [
    {
     "name": "stdout",
     "output_type": "stream",
     "text": [
      "V\n",
      "i\n"
     ]
    }
   ],
   "source": [
    "print(x[0])\n",
    "print(x[1])"
   ]
  },
  {
   "cell_type": "markdown",
   "id": "5376fef9",
   "metadata": {},
   "source": [
    "# Slicing of a string"
   ]
  },
  {
   "cell_type": "code",
   "execution_count": 22,
   "id": "d2fd6751",
   "metadata": {},
   "outputs": [],
   "source": [
    "x = 'Python is the programming language.'\n"
   ]
  },
  {
   "cell_type": "code",
   "execution_count": 19,
   "id": "eaed8487",
   "metadata": {},
   "outputs": [
    {
     "data": {
      "text/plain": [
       "'Python'"
      ]
     },
     "execution_count": 19,
     "metadata": {},
     "output_type": "execute_result"
    }
   ],
   "source": [
    "x[0:6]"
   ]
  },
  {
   "cell_type": "code",
   "execution_count": 20,
   "id": "60af5578",
   "metadata": {},
   "outputs": [
    {
     "data": {
      "text/plain": [
       "'is'"
      ]
     },
     "execution_count": 20,
     "metadata": {},
     "output_type": "execute_result"
    }
   ],
   "source": [
    "x[7:9]"
   ]
  },
  {
   "cell_type": "code",
   "execution_count": 21,
   "id": "763a56b7",
   "metadata": {},
   "outputs": [
    {
     "data": {
      "text/plain": [
       "'the '"
      ]
     },
     "execution_count": 21,
     "metadata": {},
     "output_type": "execute_result"
    }
   ],
   "source": [
    "x[10:14]"
   ]
  },
  {
   "cell_type": "code",
   "execution_count": 24,
   "id": "2825f205",
   "metadata": {},
   "outputs": [
    {
     "data": {
      "text/plain": [
       "'Python is the programming language.'"
      ]
     },
     "execution_count": 24,
     "metadata": {},
     "output_type": "execute_result"
    }
   ],
   "source": [
    "x[0:]"
   ]
  },
  {
   "cell_type": "code",
   "execution_count": 25,
   "id": "29a52f52",
   "metadata": {},
   "outputs": [
    {
     "data": {
      "text/plain": [
       "'Python is the programming language.'"
      ]
     },
     "execution_count": 25,
     "metadata": {},
     "output_type": "execute_result"
    }
   ],
   "source": [
    "x[:]"
   ]
  },
  {
   "cell_type": "code",
   "execution_count": 33,
   "id": "541cc0cb",
   "metadata": {},
   "outputs": [
    {
     "data": {
      "text/plain": [
       "'123456789'"
      ]
     },
     "execution_count": 33,
     "metadata": {},
     "output_type": "execute_result"
    }
   ],
   "source": [
    "y = '123456789'\n",
    "y[:]"
   ]
  },
  {
   "cell_type": "code",
   "execution_count": 31,
   "id": "2d92083c",
   "metadata": {},
   "outputs": [
    {
     "name": "stdout",
     "output_type": "stream",
     "text": [
      "5\n"
     ]
    }
   ],
   "source": [
    "print(y[4])"
   ]
  },
  {
   "cell_type": "code",
   "execution_count": 34,
   "id": "5955c2d4",
   "metadata": {},
   "outputs": [
    {
     "data": {
      "text/plain": [
       "'123456789'"
      ]
     },
     "execution_count": 34,
     "metadata": {},
     "output_type": "execute_result"
    }
   ],
   "source": [
    "y"
   ]
  },
  {
   "cell_type": "code",
   "execution_count": 40,
   "id": "2a413f4c",
   "metadata": {},
   "outputs": [
    {
     "name": "stdout",
     "output_type": "stream",
     "text": [
      "13579\n"
     ]
    }
   ],
   "source": [
    "print(y[::2])"
   ]
  },
  {
   "cell_type": "code",
   "execution_count": 42,
   "id": "5b49e785",
   "metadata": {},
   "outputs": [
    {
     "data": {
      "text/plain": [
       "'Vvk'"
      ]
     },
     "execution_count": 42,
     "metadata": {},
     "output_type": "execute_result"
    }
   ],
   "source": [
    "z = 'Vivek'\n",
    "z[::2]"
   ]
  },
  {
   "cell_type": "markdown",
   "id": "1948b35a",
   "metadata": {},
   "source": [
    "# Concatenate of string"
   ]
  },
  {
   "cell_type": "code",
   "execution_count": 46,
   "id": "42aefb72",
   "metadata": {},
   "outputs": [
    {
     "name": "stdout",
     "output_type": "stream",
     "text": [
      "Hello World How many people are living on the earth?\n"
     ]
    }
   ],
   "source": [
    "message = 'Hello World'\n",
    "question =' How many people are living on the earth?'\n",
    "\n",
    "statement = message+question\n",
    "print(statement)"
   ]
  },
  {
   "cell_type": "markdown",
   "id": "898c5864",
   "metadata": {},
   "source": [
    "# Escape sequence"
   ]
  },
  {
   "cell_type": "code",
   "execution_count": 47,
   "id": "ef6b07ea",
   "metadata": {},
   "outputs": [
    {
     "data": {
      "text/plain": [
       "'@#'"
      ]
     },
     "execution_count": 47,
     "metadata": {},
     "output_type": "execute_result"
    }
   ],
   "source": [
    "'@#'"
   ]
  },
  {
   "cell_type": "code",
   "execution_count": 51,
   "id": "a6498b96",
   "metadata": {},
   "outputs": [
    {
     "name": "stdout",
     "output_type": "stream",
     "text": [
      "\\\\\n"
     ]
    }
   ],
   "source": [
    "print('\\\\\\\\')"
   ]
  },
  {
   "cell_type": "code",
   "execution_count": 55,
   "id": "17cc60b0",
   "metadata": {},
   "outputs": [
    {
     "name": "stdout",
     "output_type": "stream",
     "text": [
      "Hello World\n",
      "How many people are living on the earth?\n"
     ]
    }
   ],
   "source": [
    "print('Hello World\\nHow many people are living on the earth?') #\\n ---> new line"
   ]
  },
  {
   "cell_type": "code",
   "execution_count": 56,
   "id": "484e25b7",
   "metadata": {},
   "outputs": [
    {
     "name": "stdout",
     "output_type": "stream",
     "text": [
      "Hello World\tHow many people are living on the earth?\n"
     ]
    }
   ],
   "source": [
    "print('Hello World\\tHow many people are living on the earth?')  #\\-----> tab"
   ]
  },
  {
   "cell_type": "markdown",
   "id": "ef3ab519",
   "metadata": {},
   "source": [
    "# String opration"
   ]
  },
  {
   "cell_type": "code",
   "execution_count": 61,
   "id": "980907da",
   "metadata": {},
   "outputs": [
    {
     "name": "stdout",
     "output_type": "stream",
     "text": [
      "Before uppercase: hello python\n",
      "After Changing: HELLO PYTHON\n",
      "After Changing: hello python\n",
      "After Changing: Hello Python\n"
     ]
    }
   ],
   "source": [
    "message = 'hello python'\n",
    "\n",
    "print('Before uppercase:',message)\n",
    "\n",
    "x_upper=message.upper()\n",
    "print('After Changing:',x_upper)\n",
    "\n",
    "\n",
    "y_lower=message.lower()\n",
    "print('After Changing:',y_lower)\n",
    "\n",
    "message_title= message.title()\n",
    "print('After Changing:',message_title)"
   ]
  },
  {
   "cell_type": "code",
   "execution_count": null,
   "id": "90dc3c5e",
   "metadata": {},
   "outputs": [],
   "source": []
  }
 ],
 "metadata": {
  "kernelspec": {
   "display_name": "Python 3 (ipykernel)",
   "language": "python",
   "name": "python3"
  },
  "language_info": {
   "codemirror_mode": {
    "name": "ipython",
    "version": 3
   },
   "file_extension": ".py",
   "mimetype": "text/x-python",
   "name": "python",
   "nbconvert_exporter": "python",
   "pygments_lexer": "ipython3",
   "version": "3.9.13"
  }
 },
 "nbformat": 4,
 "nbformat_minor": 5
}
