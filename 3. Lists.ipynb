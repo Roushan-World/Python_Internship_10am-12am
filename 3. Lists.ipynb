{
 "cells": [
  {
   "cell_type": "markdown",
   "id": "96dc70ef",
   "metadata": {},
   "source": [
    "# 3. Lists\n",
    "\n",
    "\n",
    " * Lists are ordered.\n",
    " * Lists can contain any arbitrary objects.\n",
    " * Lists can be nested to arbitrary depth.\n",
    " * Lists are mutable.\n",
    " * Lists are dynamic."
   ]
  },
  {
   "cell_type": "markdown",
   "id": "88526d49",
   "metadata": {},
   "source": [
    "# Indexing"
   ]
  },
  {
   "cell_type": "code",
   "execution_count": 3,
   "id": "2c0cebf2",
   "metadata": {},
   "outputs": [
    {
     "data": {
      "text/plain": [
       "['Python', 25, 2023, True, False, 2.718]"
      ]
     },
     "execution_count": 3,
     "metadata": {},
     "output_type": "execute_result"
    }
   ],
   "source": [
    "# Creating a list.\n",
    "\n",
    "nlis = ['Python',25,2023,True,False,2.718]\n",
    "nlis"
   ]
  },
  {
   "cell_type": "code",
   "execution_count": 10,
   "id": "432cb7c8",
   "metadata": {},
   "outputs": [
    {
     "name": "stdout",
     "output_type": "stream",
     "text": [
      "Positive and negative indexing of the first element:\n",
      " -Positive index: Python \n",
      " -Negative Index: Python\n",
      "Positive and negative indexing of the first element:\n",
      " -Positive index: 25 \n",
      " -Negative Index: 25\n",
      "Positive and negative indexing of the first element:\n",
      " -Positive index: 2023 \n",
      " -Negative Index: 2023\n",
      "Positive and negative indexing of the first element:\n",
      " -Positive index: True \n",
      " -Negative Index: True\n",
      "Positive and negative indexing of the first element:\n",
      " -Positive index: False \n",
      " -Negative Index: False\n",
      "Positive and negative indexing of the first element:\n",
      " -Positive index: 2.718 \n",
      " -Negative Index: 2.718\n"
     ]
    }
   ],
   "source": [
    "print('Positive and negative indexing of the first element:\\n -Positive index:', nlis[0],'\\n -Negative Index:',nlis[-6])\n",
    "print('Positive and negative indexing of the first element:\\n -Positive index:', nlis[1],'\\n -Negative Index:',nlis[-5])\n",
    "print('Positive and negative indexing of the first element:\\n -Positive index:', nlis[2],'\\n -Negative Index:',nlis[-4])\n",
    "print('Positive and negative indexing of the first element:\\n -Positive index:', nlis[3],'\\n -Negative Index:',nlis[-3])\n",
    "print('Positive and negative indexing of the first element:\\n -Positive index:', nlis[4],'\\n -Negative Index:',nlis[-2])\n",
    "print('Positive and negative indexing of the first element:\\n -Positive index:', nlis[5],'\\n -Negative Index:',nlis[-1])"
   ]
  },
  {
   "cell_type": "markdown",
   "id": "b9f4ee3c",
   "metadata": {},
   "source": [
    "# What can content a list?\n",
    " * Strings\n",
    " * Float\n",
    " * Integer\n",
    " * Boolean\n",
    " * Nested List\n",
    " * Nested Tuple\n",
    " * Other data structure."
   ]
  },
  {
   "cell_type": "code",
   "execution_count": 11,
   "id": "bf5dcb5e",
   "metadata": {},
   "outputs": [
    {
     "name": "stdout",
     "output_type": "stream",
     "text": [
      "['Python', 3.14, 2023, True, False, ['hello', 'python', 3.14], ('Hey', 'world')]\n"
     ]
    }
   ],
   "source": [
    "nlis = ['Python',3.14,2023,True,False,['hello','python',3.14],('Hey','world')]\n",
    "print(nlis)"
   ]
  },
  {
   "cell_type": "code",
   "execution_count": 13,
   "id": "ff65ae44",
   "metadata": {},
   "outputs": [
    {
     "name": "stdout",
     "output_type": "stream",
     "text": [
      "Python Python\n"
     ]
    }
   ],
   "source": [
    "print(nlis[0],nlis[-7])"
   ]
  },
  {
   "cell_type": "code",
   "execution_count": 14,
   "id": "ce931f31",
   "metadata": {},
   "outputs": [
    {
     "name": "stdout",
     "output_type": "stream",
     "text": [
      "positive list= vivek 32 45 74 true 76.45\n",
      "negative list= vivek 32 45 74 true 76.45\n"
     ]
    }
   ],
   "source": [
    "a = 'vivek', 32, 45, 74, 'true', 76.45\n",
    "print('positive list=',a[0], a[1], a[2], a[3], a[4], a[5])\n",
    "print('negative list=',a[-6],a[-5], a[-4], a[-3], a[-2], a[-1])"
   ]
  },
  {
   "cell_type": "markdown",
   "id": "128f168f",
   "metadata": {},
   "source": [
    "# List operations"
   ]
  },
  {
   "cell_type": "code",
   "execution_count": 15,
   "id": "8be35034",
   "metadata": {},
   "outputs": [
    {
     "data": {
      "text/plain": [
       "['Python',\n",
       " 3.14,\n",
       " 2023,\n",
       " True,\n",
       " False,\n",
       " ['hello', 'python', 3.14],\n",
       " ('Hey', 'world')]"
      ]
     },
     "execution_count": 15,
     "metadata": {},
     "output_type": "execute_result"
    }
   ],
   "source": [
    "# take a list\n",
    "\n",
    "nlis1 =  ['Python',3.14,2023,True,False,['hello','python',3.14],('Hey','world')]\n",
    "nlis1"
   ]
  },
  {
   "cell_type": "code",
   "execution_count": 16,
   "id": "35d2f6cd",
   "metadata": {},
   "outputs": [
    {
     "name": "stdout",
     "output_type": "stream",
     "text": [
      "7\n"
     ]
    }
   ],
   "source": [
    "# lenth of the list\n",
    "\n",
    "print(len(nlis1))"
   ]
  },
  {
   "cell_type": "code",
   "execution_count": 23,
   "id": "c7facb67",
   "metadata": {},
   "outputs": [
    {
     "name": "stdout",
     "output_type": "stream",
     "text": [
      "hello\n",
      "python\n",
      "3.14\n"
     ]
    }
   ],
   "source": [
    "print(nlis1[5][0])\n",
    "print(nlis1[5][1])\n",
    "print(nlis1[5][2])"
   ]
  },
  {
   "cell_type": "code",
   "execution_count": 26,
   "id": "8ae4a04b",
   "metadata": {},
   "outputs": [
    {
     "name": "stdout",
     "output_type": "stream",
     "text": [
      "Hey\n",
      "world\n"
     ]
    }
   ],
   "source": [
    "print(nlis1[6][0])\n",
    "print(nlis1[6][1])"
   ]
  },
  {
   "cell_type": "code",
   "execution_count": 29,
   "id": "a3e30b16",
   "metadata": {},
   "outputs": [
    {
     "name": "stdout",
     "output_type": "stream",
     "text": [
      "[True, False]\n"
     ]
    }
   ],
   "source": [
    "# slicing\n",
    "\n",
    "print(nlis1[3:5])"
   ]
  },
  {
   "cell_type": "markdown",
   "id": "4b00afd8",
   "metadata": {},
   "source": [
    "#  Extending the list\n",
    "\n",
    " * we use the extend() function to add a new element to the list.\n",
    " * With this function, We add more than one element to the list."
   ]
  },
  {
   "cell_type": "code",
   "execution_count": 31,
   "id": "0546cccc",
   "metadata": {},
   "outputs": [
    {
     "data": {
      "text/plain": [
       "['Python',\n",
       " 3.14,\n",
       " 2023,\n",
       " True,\n",
       " False,\n",
       " ['hello', 'python', 3.14],\n",
       " ('Hey', 'world')]"
      ]
     },
     "execution_count": 31,
     "metadata": {},
     "output_type": "execute_result"
    }
   ],
   "source": [
    "# Take a list\n",
    "x= ['Python', 3.14, 2023, True, False, ['hello', 'python', 3.14], ('Hey', 'world')]\n",
    "x"
   ]
  },
  {
   "cell_type": "code",
   "execution_count": 34,
   "id": "ddc268b8",
   "metadata": {},
   "outputs": [
    {
     "name": "stdout",
     "output_type": "stream",
     "text": [
      "['Python', 3.14, 2023, True, False, ['hello', 'python', 3.14], ('Hey', 'world'), 'Lalit', 'Vivek', 'Lalit', 'Vivek', 18, 22]\n"
     ]
    }
   ],
   "source": [
    "x.extend(['Lalit','Vivek',18,22])\n",
    "print(x)"
   ]
  },
  {
   "cell_type": "markdown",
   "id": "f6f60a28",
   "metadata": {},
   "source": [
    "# append() method\n",
    "\n",
    " * As different from the extend() mehtod, with the append() method, we add only one element to the list.\n",
    " * You can see the difference by comparing the above and below codes."
   ]
  },
  {
   "cell_type": "code",
   "execution_count": 35,
   "id": "dfc63eae",
   "metadata": {},
   "outputs": [
    {
     "data": {
      "text/plain": [
       "['Python',\n",
       " 3.14,\n",
       " 2023,\n",
       " True,\n",
       " False,\n",
       " ['hello', 'python', 3.14],\n",
       " ('Hey', 'world'),\n",
       " 'Lalit',\n",
       " 'Vivek',\n",
       " 'Lalit',\n",
       " 'Vivek',\n",
       " 18,\n",
       " 22]"
      ]
     },
     "execution_count": 35,
     "metadata": {},
     "output_type": "execute_result"
    }
   ],
   "source": [
    "x"
   ]
  },
  {
   "cell_type": "code",
   "execution_count": 40,
   "id": "b3ac0487",
   "metadata": {},
   "outputs": [
    {
     "name": "stdout",
     "output_type": "stream",
     "text": [
      "['Python', 3.14, 2023, True, False, ['hello', 'python', 3.14], ('Hey', 'world'), 'Lalit', 'Vivek', 'Lalit', 'Vivek', 18, 22, ['Hello world'], ['Hello world'], ['Hello world']]\n"
     ]
    },
    {
     "data": {
      "text/plain": [
       "['Python',\n",
       " 3.14,\n",
       " 2023,\n",
       " True,\n",
       " False,\n",
       " ['hello', 'python', 3.14],\n",
       " ('Hey', 'world'),\n",
       " 'Lalit',\n",
       " 'Vivek',\n",
       " 'Lalit',\n",
       " 'Vivek',\n",
       " 18,\n",
       " 22,\n",
       " ['Hello world'],\n",
       " ['Hello world'],\n",
       " ['Hello world'],\n",
       " ['Hello world']]"
      ]
     },
     "execution_count": 40,
     "metadata": {},
     "output_type": "execute_result"
    }
   ],
   "source": [
    "print(x)\n",
    "x.append(['Hello world'])\n",
    "x"
   ]
  },
  {
   "cell_type": "markdown",
   "id": "14d413bf",
   "metadata": {},
   "source": [
    "# len(), append(), count(), insert(), max(), min(), sum() function"
   ]
  },
  {
   "cell_type": "code",
   "execution_count": 57,
   "id": "e5088167",
   "metadata": {},
   "outputs": [
    {
     "name": "stdout",
     "output_type": "stream",
     "text": [
      "7\n",
      "[1, 2, 3, 4, 5, 6, 7, 4]\n",
      "2\n",
      "1\n",
      "[1, 2, 10, 3, 4, 5, 6, 7, 4]\n",
      "10\n",
      "1\n",
      "42\n"
     ]
    }
   ],
   "source": [
    "lis = [1,2,3,4,5,6,7]\n",
    "print(len(lis))\n",
    "lis.append(4)\n",
    "print(lis)\n",
    "print(lis.count(4))  # how many 4 are on the list 'lis'\n",
    "print(lis.index(2))  # What is the index of the number 2 in the list 'lis'?\n",
    "lis.insert(2,10) # Add 'vivek' to the index '2'\n",
    "print(lis)\n",
    "print(max(lis))  # What is the maximum number in the list?\n",
    "print(min(lis)) # What is the minimum number in the list?\n",
    "print(sum(lis))"
   ]
  },
  {
   "cell_type": "markdown",
   "id": "f422b2ac",
   "metadata": {},
   "source": [
    "# Changing the element of a list since it is mutable."
   ]
  },
  {
   "cell_type": "code",
   "execution_count": 2,
   "id": "02da5388",
   "metadata": {},
   "outputs": [
    {
     "name": "stdout",
     "output_type": "stream",
     "text": [
      "Before changing: ['Python', 3.14, 2023, [1, 2, 3, 4, 5, 6, 7, 8, 9], ('Hello', 'Python', 3.14, 2023)]\n",
      "After Changing: ['Vivek', 3.14, 2023, [1, 2, 3, 4, 5, 6, 7, 8, 9], ('Hello', 'Python', 3.14, 2023)]\n"
     ]
    }
   ],
   "source": [
    "nlis = ['Python',3.14,2023,[1,2,3,4,5,6,7,8,9],('Hello','Python',3.14,2023)]\n",
    "print('Before changing:',nlis)\n",
    "\n",
    "nlis[0]='Vivek'\n",
    "print('After Changing:',nlis)"
   ]
  },
  {
   "cell_type": "markdown",
   "id": "1e9538bf",
   "metadata": {},
   "source": [
    "# Deleting the from the list using del() function"
   ]
  },
  {
   "cell_type": "code",
   "execution_count": 5,
   "id": "a46b656b",
   "metadata": {},
   "outputs": [
    {
     "name": "stdout",
     "output_type": "stream",
     "text": [
      "Before Changing: [3.14, 2023, [1, 2, 3, 4, 5, 6, 7, 8, 9], ('Hello', 'Python', 3.14, 2023)]\n",
      "After Changing: [2023, [1, 2, 3, 4, 5, 6, 7, 8, 9], ('Hello', 'Python', 3.14, 2023)]\n",
      "After Changing: [2023, [1, 2, 3, 4, 5, 6, 7, 8, 9]]\n"
     ]
    }
   ],
   "source": [
    "print('Before Changing:',nlis)\n",
    "del(nlis[0])\n",
    "print('After Changing:',nlis)\n",
    "del(nlis[-1])\n",
    "print('After Changing:',nlis)"
   ]
  },
  {
   "cell_type": "code",
   "execution_count": 6,
   "id": "2edd943f",
   "metadata": {},
   "outputs": [
    {
     "ename": "NameError",
     "evalue": "name 'nlis' is not defined",
     "output_type": "error",
     "traceback": [
      "\u001b[1;31m---------------------------------------------------------------------------\u001b[0m",
      "\u001b[1;31mNameError\u001b[0m                                 Traceback (most recent call last)",
      "\u001b[1;32m~\\AppData\\Local\\Temp\\ipykernel_15240\\631500580.py\u001b[0m in \u001b[0;36m<module>\u001b[1;34m\u001b[0m\n\u001b[0;32m      1\u001b[0m \u001b[1;32mdel\u001b[0m\u001b[1;33m(\u001b[0m\u001b[0mnlis\u001b[0m\u001b[1;33m)\u001b[0m\u001b[1;33m\u001b[0m\u001b[1;33m\u001b[0m\u001b[0m\n\u001b[1;32m----> 2\u001b[1;33m \u001b[0mprint\u001b[0m\u001b[1;33m(\u001b[0m\u001b[0mnlis\u001b[0m\u001b[1;33m)\u001b[0m\u001b[1;33m\u001b[0m\u001b[1;33m\u001b[0m\u001b[0m\n\u001b[0m",
      "\u001b[1;31mNameError\u001b[0m: name 'nlis' is not defined"
     ]
    }
   ],
   "source": [
    "del(nlis)\n",
    "print(nlis)"
   ]
  },
  {
   "cell_type": "markdown",
   "id": "04c09bef",
   "metadata": {},
   "source": [
    "# Conversion of a string into a list using split() function"
   ]
  },
  {
   "cell_type": "code",
   "execution_count": 7,
   "id": "c019bf60",
   "metadata": {},
   "outputs": [
    {
     "data": {
      "text/plain": [
       "' Python is programming language'"
      ]
     },
     "execution_count": 7,
     "metadata": {},
     "output_type": "execute_result"
    }
   ],
   "source": [
    "' Python is programming language'"
   ]
  },
  {
   "cell_type": "code",
   "execution_count": 8,
   "id": "378e9ae1",
   "metadata": {},
   "outputs": [
    {
     "data": {
      "text/plain": [
       "['Python', 'is', 'a', 'programming', 'language.']"
      ]
     },
     "execution_count": 8,
     "metadata": {},
     "output_type": "execute_result"
    }
   ],
   "source": [
    "message = 'Python is a programming language.'\n",
    "message.split()"
   ]
  },
  {
   "cell_type": "markdown",
   "id": "f44a59b8",
   "metadata": {},
   "source": [
    "# Copy the list"
   ]
  },
  {
   "cell_type": "code",
   "execution_count": 14,
   "id": "7600c408",
   "metadata": {},
   "outputs": [
    {
     "name": "stdout",
     "output_type": "stream",
     "text": [
      "nlis [3.14, 2023, [1, 2, 3, 4, 5, 6, 7, 8, 9], ('Hello', 'Python', 3.14, 2023)]\n",
      "copy_list [3.14, 2023, [1, 2, 3, 4, 5, 6, 7, 8, 9], ('Hello', 'Python', 3.14, 2023)]\n"
     ]
    }
   ],
   "source": [
    "# Deep copy\n",
    "nlis = [3.14, 2023, [1, 2, 3, 4, 5, 6, 7, 8, 9], ('Hello', 'Python', 3.14, 2023)]\n",
    "copy_list = nlis\n",
    "print('nlis',nlis)\n",
    "print('copy_list',copy_list)\n",
    "\n"
   ]
  },
  {
   "cell_type": "code",
   "execution_count": 15,
   "id": "e789f113",
   "metadata": {},
   "outputs": [
    {
     "name": "stdout",
     "output_type": "stream",
     "text": [
      "nlis ['Vivek', 2023, [1, 2, 3, 4, 5, 6, 7, 8, 9], ('Hello', 'Python', 3.14, 2023)]\n",
      "copy_list ['Vivek', 2023, [1, 2, 3, 4, 5, 6, 7, 8, 9], ('Hello', 'Python', 3.14, 2023)]\n"
     ]
    }
   ],
   "source": [
    "nlis[0]='Vivek'\n",
    "print('nlis',nlis)\n",
    "print('copy_list',copy_list)"
   ]
  },
  {
   "cell_type": "code",
   "execution_count": 17,
   "id": "e627f0ba",
   "metadata": {},
   "outputs": [
    {
     "name": "stdout",
     "output_type": "stream",
     "text": [
      "Original_List ['Vivek', 2023, [1, 2, 3, 4, 5, 6, 7, 8, 9], ('Hello', 'Python', 3.14, 2023)]\n",
      "copy_list ['Vivek', 2023, [1, 2, 3, 4, 5, 6, 7, 8, 9], ('Hello', 'Python', 3.14, 2023)]\n"
     ]
    }
   ],
   "source": [
    "# 2. Swallow Copy\n",
    "\n",
    "original_list = ['Vivek', 2023, [1, 2, 3, 4, 5, 6, 7, 8, 9], ('Hello', 'Python', 3.14, 2023)]\n",
    "copy_list = original_list.copy()\n",
    "print('Original_List',original_list)\n",
    "print('copy_list',copy_list)"
   ]
  },
  {
   "cell_type": "code",
   "execution_count": 20,
   "id": "9b13d562",
   "metadata": {},
   "outputs": [
    {
     "name": "stdout",
     "output_type": "stream",
     "text": [
      "Original_list ['Hello World', 2023, [1, 2, 3, 4, 5, 6, 7, 8, 9], ('Hello', 'Python', 3.14, 2023)]\n",
      "copy_list ['Vivek', 2023, [1, 2, 3, 4, 5, 6, 7, 8, 9], ('Hello', 'Python', 3.14, 2023)]\n"
     ]
    }
   ],
   "source": [
    "original_list[0]='Hello World'\n",
    "print('Original_list',original_list)\n",
    "print('copy_list',copy_list)"
   ]
  },
  {
   "cell_type": "markdown",
   "id": "53b9c518",
   "metadata": {},
   "source": [
    "#  As different from the list, I also find the signigicant the following information.\n",
    "\n",
    "\n",
    " * __input() function__\n",
    "     \n",
    "     * __input()__ function in Python provides a user of a program supply inputs to the program at runtime. "
   ]
  },
  {
   "cell_type": "code",
   "execution_count": 23,
   "id": "c03addcd",
   "metadata": {},
   "outputs": [
    {
     "name": "stdout",
     "output_type": "stream",
     "text": [
      "Enter your nameVivek\n",
      "Your name is Vivek\n",
      "<class 'str'>\n"
     ]
    }
   ],
   "source": [
    "text = input('Enter your name')\n",
    "print('Your name is',text)\n",
    "print(type(text))"
   ]
  },
  {
   "cell_type": "code",
   "execution_count": 26,
   "id": "66ed1325",
   "metadata": {},
   "outputs": [
    {
     "name": "stdout",
     "output_type": "stream",
     "text": [
      "Enter your age:123\n",
      "Your age is: 123\n",
      "<class 'int'>\n"
     ]
    }
   ],
   "source": [
    "text1 = int(input('Enter your age:'))\n",
    "print('Your age is:',text1)\n",
    "print(type(text1))"
   ]
  },
  {
   "cell_type": "code",
   "execution_count": 27,
   "id": "5c8c078d",
   "metadata": {},
   "outputs": [
    {
     "data": {
      "text/plain": [
       "'8+7'"
      ]
     },
     "execution_count": 27,
     "metadata": {},
     "output_type": "execute_result"
    }
   ],
   "source": [
    "'8+7'"
   ]
  },
  {
   "cell_type": "markdown",
   "id": "74618aee",
   "metadata": {},
   "source": [
    "# eval() funtions.\n",
    "\n",
    " * This function servers the aim of converting a string to an integer or a float."
   ]
  },
  {
   "cell_type": "code",
   "execution_count": 29,
   "id": "59e03dae",
   "metadata": {},
   "outputs": [
    {
     "name": "stdout",
     "output_type": "stream",
     "text": [
      "<class 'str'>\n",
      "15\n",
      "<class 'int'>\n"
     ]
    }
   ],
   "source": [
    "expression = '8+7'\n",
    "print(type(expression))\n",
    "total = eval(expression)\n",
    "print(total)\n",
    "print(type(total))"
   ]
  },
  {
   "cell_type": "markdown",
   "id": "2d951bac",
   "metadata": {},
   "source": [
    "# format() function\n",
    "\n",
    " * This function helps to format the output printed on the screen with good look and attractive."
   ]
  },
  {
   "cell_type": "code",
   "execution_count": 35,
   "id": "b6caea87",
   "metadata": {},
   "outputs": [
    {
     "name": "stdout",
     "output_type": "stream",
     "text": [
      "Enter first number45\n",
      "Enter Second number36\n",
      "Sum of 45.0 and  36.0 is 81.0\n"
     ]
    }
   ],
   "source": [
    "a = float(input('Enter first number'))\n",
    "b = float(input('Enter Second number'))\n",
    "d = a + b\n",
    "print('Sum of {} and  {} is {}'.format(a,b,d))\n",
    "\n"
   ]
  },
  {
   "cell_type": "code",
   "execution_count": 34,
   "id": "a3c0329b",
   "metadata": {},
   "outputs": [
    {
     "name": "stdout",
     "output_type": "stream",
     "text": [
      "Sum of 45.0 and  12.0 is 57.0\n"
     ]
    }
   ],
   "source": [
    "print('Sum of {} and  {} is {}'.format(a,b,d))"
   ]
  },
  {
   "cell_type": "markdown",
   "id": "4716d67d",
   "metadata": {},
   "source": [
    "#  Coparison operators\n",
    "\n",
    " * The operators such as <,>,<=,>=,==,!= compare the certain two operands and return True or False."
   ]
  },
  {
   "cell_type": "code",
   "execution_count": 42,
   "id": "21c0539a",
   "metadata": {},
   "outputs": [
    {
     "name": "stdout",
     "output_type": "stream",
     "text": [
      "a>b is: True\n",
      "a<b is: False\n",
      "a<=b is: False\n",
      "a>=b is: True\n",
      "a==b is: False\n",
      "a!=b is: True\n"
     ]
    }
   ],
   "source": [
    "a = 3.14\n",
    "b = 1.618\n",
    "print('a>b is:',a>b)\n",
    "print('a<b is:',a<b)\n",
    "print('a<=b is:',a<=b)\n",
    "print('a>=b is:',a>=b)\n",
    "print('a==b is:',a==b)\n",
    "print('a!=b is:',a!=b)"
   ]
  },
  {
   "cell_type": "markdown",
   "id": "07e63910",
   "metadata": {},
   "source": [
    "# Assignment operators\n",
    "\n",
    " * The operators including =,+=,-=,=,/=,//=,*=,&= are to evaluate a value to a variable."
   ]
  },
  {
   "cell_type": "code",
   "execution_count": 43,
   "id": "9fd9d52e",
   "metadata": {},
   "outputs": [
    {
     "name": "stdout",
     "output_type": "stream",
     "text": [
      "8.14\n"
     ]
    }
   ],
   "source": [
    "x = 3.14\n",
    "x+=5\n",
    "print(x)"
   ]
  },
  {
   "cell_type": "code",
   "execution_count": 44,
   "id": "e1778b6f",
   "metadata": {},
   "outputs": [
    {
     "name": "stdout",
     "output_type": "stream",
     "text": [
      "6.140000000000001\n"
     ]
    }
   ],
   "source": [
    "x -= 2\n",
    "print(x)"
   ]
  },
  {
   "cell_type": "code",
   "execution_count": 45,
   "id": "6ed083ff",
   "metadata": {},
   "outputs": [
    {
     "name": "stdout",
     "output_type": "stream",
     "text": [
      "30.700000000000003\n"
     ]
    }
   ],
   "source": [
    "x *= 5\n",
    "print(x)"
   ]
  },
  {
   "cell_type": "code",
   "execution_count": 46,
   "id": "fb1682e6",
   "metadata": {},
   "outputs": [
    {
     "name": "stdout",
     "output_type": "stream",
     "text": [
      "6.140000000000001\n"
     ]
    }
   ],
   "source": [
    "x/=5\n",
    "print(x)"
   ]
  },
  {
   "cell_type": "code",
   "execution_count": 47,
   "id": "db542a6b",
   "metadata": {},
   "outputs": [
    {
     "name": "stdout",
     "output_type": "stream",
     "text": [
      "3.14\n"
     ]
    }
   ],
   "source": [
    "x = 3.14\n",
    "x %= 5\n",
    "print(x)"
   ]
  },
  {
   "cell_type": "markdown",
   "id": "bf51a628",
   "metadata": {},
   "source": []
  }
 ],
 "metadata": {
  "kernelspec": {
   "display_name": "Python 3 (ipykernel)",
   "language": "python",
   "name": "python3"
  },
  "language_info": {
   "codemirror_mode": {
    "name": "ipython",
    "version": 3
   },
   "file_extension": ".py",
   "mimetype": "text/x-python",
   "name": "python",
   "nbconvert_exporter": "python",
   "pygments_lexer": "ipython3",
   "version": "3.9.13"
  }
 },
 "nbformat": 4,
 "nbformat_minor": 5
}
