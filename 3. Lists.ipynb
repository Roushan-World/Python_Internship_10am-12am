{
 "cells": [
  {
   "cell_type": "markdown",
   "id": "96dc70ef",
   "metadata": {},
   "source": [
    "# 3. Lists\n",
    "\n",
    "\n",
    " * Lists are ordered.\n",
    " * Lists can contain any arbitrary objects.\n",
    " * Lists can be nested to arbitrary depth.\n",
    " * Lists are mutable.\n",
    " * Lists are dynamic."
   ]
  },
  {
   "cell_type": "markdown",
   "id": "88526d49",
   "metadata": {},
   "source": [
    "# Indexing"
   ]
  },
  {
   "cell_type": "code",
   "execution_count": 3,
   "id": "2c0cebf2",
   "metadata": {},
   "outputs": [
    {
     "data": {
      "text/plain": [
       "['Python', 25, 2023, True, False, 2.718]"
      ]
     },
     "execution_count": 3,
     "metadata": {},
     "output_type": "execute_result"
    }
   ],
   "source": [
    "# Creating a list.\n",
    "\n",
    "nlis = ['Python',25,2023,True,False,2.718]\n",
    "nlis"
   ]
  },
  {
   "cell_type": "code",
   "execution_count": 10,
   "id": "432cb7c8",
   "metadata": {},
   "outputs": [
    {
     "name": "stdout",
     "output_type": "stream",
     "text": [
      "Positive and negative indexing of the first element:\n",
      " -Positive index: Python \n",
      " -Negative Index: Python\n",
      "Positive and negative indexing of the first element:\n",
      " -Positive index: 25 \n",
      " -Negative Index: 25\n",
      "Positive and negative indexing of the first element:\n",
      " -Positive index: 2023 \n",
      " -Negative Index: 2023\n",
      "Positive and negative indexing of the first element:\n",
      " -Positive index: True \n",
      " -Negative Index: True\n",
      "Positive and negative indexing of the first element:\n",
      " -Positive index: False \n",
      " -Negative Index: False\n",
      "Positive and negative indexing of the first element:\n",
      " -Positive index: 2.718 \n",
      " -Negative Index: 2.718\n"
     ]
    }
   ],
   "source": [
    "print('Positive and negative indexing of the first element:\\n -Positive index:', nlis[0],'\\n -Negative Index:',nlis[-6])\n",
    "print('Positive and negative indexing of the first element:\\n -Positive index:', nlis[1],'\\n -Negative Index:',nlis[-5])\n",
    "print('Positive and negative indexing of the first element:\\n -Positive index:', nlis[2],'\\n -Negative Index:',nlis[-4])\n",
    "print('Positive and negative indexing of the first element:\\n -Positive index:', nlis[3],'\\n -Negative Index:',nlis[-3])\n",
    "print('Positive and negative indexing of the first element:\\n -Positive index:', nlis[4],'\\n -Negative Index:',nlis[-2])\n",
    "print('Positive and negative indexing of the first element:\\n -Positive index:', nlis[5],'\\n -Negative Index:',nlis[-1])"
   ]
  },
  {
   "cell_type": "markdown",
   "id": "b9f4ee3c",
   "metadata": {},
   "source": [
    "# What can content a list?\n",
    " * Strings\n",
    " * Float\n",
    " * Integer\n",
    " * Boolean\n",
    " * Nested List\n",
    " * Nested Tuple\n",
    " * Other data structure."
   ]
  },
  {
   "cell_type": "code",
   "execution_count": 11,
   "id": "bf5dcb5e",
   "metadata": {},
   "outputs": [
    {
     "name": "stdout",
     "output_type": "stream",
     "text": [
      "['Python', 3.14, 2023, True, False, ['hello', 'python', 3.14], ('Hey', 'world')]\n"
     ]
    }
   ],
   "source": [
    "nlis = ['Python',3.14,2023,True,False,['hello','python',3.14],('Hey','world')]\n",
    "print(nlis)"
   ]
  },
  {
   "cell_type": "code",
   "execution_count": 13,
   "id": "ff65ae44",
   "metadata": {},
   "outputs": [
    {
     "name": "stdout",
     "output_type": "stream",
     "text": [
      "Python Python\n"
     ]
    }
   ],
   "source": [
    "print(nlis[0],nlis[-7])"
   ]
  },
  {
   "cell_type": "code",
   "execution_count": 14,
   "id": "ce931f31",
   "metadata": {},
   "outputs": [
    {
     "name": "stdout",
     "output_type": "stream",
     "text": [
      "positive list= vivek 32 45 74 true 76.45\n",
      "negative list= vivek 32 45 74 true 76.45\n"
     ]
    }
   ],
   "source": [
    "a = 'vivek', 32, 45, 74, 'true', 76.45\n",
    "print('positive list=',a[0], a[1], a[2], a[3], a[4], a[5])\n",
    "print('negative list=',a[-6],a[-5], a[-4], a[-3], a[-2], a[-1])"
   ]
  },
  {
   "cell_type": "markdown",
   "id": "128f168f",
   "metadata": {},
   "source": [
    "# List operations"
   ]
  },
  {
   "cell_type": "code",
   "execution_count": 15,
   "id": "8be35034",
   "metadata": {},
   "outputs": [
    {
     "data": {
      "text/plain": [
       "['Python',\n",
       " 3.14,\n",
       " 2023,\n",
       " True,\n",
       " False,\n",
       " ['hello', 'python', 3.14],\n",
       " ('Hey', 'world')]"
      ]
     },
     "execution_count": 15,
     "metadata": {},
     "output_type": "execute_result"
    }
   ],
   "source": [
    "# take a list\n",
    "\n",
    "nlis1 =  ['Python',3.14,2023,True,False,['hello','python',3.14],('Hey','world')]\n",
    "nlis1"
   ]
  },
  {
   "cell_type": "code",
   "execution_count": 16,
   "id": "35d2f6cd",
   "metadata": {},
   "outputs": [
    {
     "name": "stdout",
     "output_type": "stream",
     "text": [
      "7\n"
     ]
    }
   ],
   "source": [
    "# lenth of the list\n",
    "\n",
    "print(len(nlis1))"
   ]
  },
  {
   "cell_type": "code",
   "execution_count": 23,
   "id": "c7facb67",
   "metadata": {},
   "outputs": [
    {
     "name": "stdout",
     "output_type": "stream",
     "text": [
      "hello\n",
      "python\n",
      "3.14\n"
     ]
    }
   ],
   "source": [
    "print(nlis1[5][0])\n",
    "print(nlis1[5][1])\n",
    "print(nlis1[5][2])"
   ]
  },
  {
   "cell_type": "code",
   "execution_count": 26,
   "id": "8ae4a04b",
   "metadata": {},
   "outputs": [
    {
     "name": "stdout",
     "output_type": "stream",
     "text": [
      "Hey\n",
      "world\n"
     ]
    }
   ],
   "source": [
    "print(nlis1[6][0])\n",
    "print(nlis1[6][1])"
   ]
  },
  {
   "cell_type": "code",
   "execution_count": 29,
   "id": "a3e30b16",
   "metadata": {},
   "outputs": [
    {
     "name": "stdout",
     "output_type": "stream",
     "text": [
      "[True, False]\n"
     ]
    }
   ],
   "source": [
    "# slicing\n",
    "\n",
    "print(nlis1[3:5])"
   ]
  },
  {
   "cell_type": "markdown",
   "id": "4b00afd8",
   "metadata": {},
   "source": [
    "#  Extending the list\n",
    "\n",
    " * we use the extend() function to add a new element to the list.\n",
    " * With this function, We add more than one element to the list."
   ]
  },
  {
   "cell_type": "code",
   "execution_count": 31,
   "id": "0546cccc",
   "metadata": {},
   "outputs": [
    {
     "data": {
      "text/plain": [
       "['Python',\n",
       " 3.14,\n",
       " 2023,\n",
       " True,\n",
       " False,\n",
       " ['hello', 'python', 3.14],\n",
       " ('Hey', 'world')]"
      ]
     },
     "execution_count": 31,
     "metadata": {},
     "output_type": "execute_result"
    }
   ],
   "source": [
    "# Take a list\n",
    "x= ['Python', 3.14, 2023, True, False, ['hello', 'python', 3.14], ('Hey', 'world')]\n",
    "x"
   ]
  },
  {
   "cell_type": "code",
   "execution_count": 34,
   "id": "ddc268b8",
   "metadata": {},
   "outputs": [
    {
     "name": "stdout",
     "output_type": "stream",
     "text": [
      "['Python', 3.14, 2023, True, False, ['hello', 'python', 3.14], ('Hey', 'world'), 'Lalit', 'Vivek', 'Lalit', 'Vivek', 18, 22]\n"
     ]
    }
   ],
   "source": [
    "x.extend(['Lalit','Vivek',18,22])\n",
    "print(x)"
   ]
  },
  {
   "cell_type": "markdown",
   "id": "f6f60a28",
   "metadata": {},
   "source": [
    "# append() method\n",
    "\n",
    " * As different from the extend() mehtod, with the append() method, we add only one element to the list.\n",
    " * You can see the difference by comparing the above and below codes."
   ]
  },
  {
   "cell_type": "code",
   "execution_count": 35,
   "id": "dfc63eae",
   "metadata": {},
   "outputs": [
    {
     "data": {
      "text/plain": [
       "['Python',\n",
       " 3.14,\n",
       " 2023,\n",
       " True,\n",
       " False,\n",
       " ['hello', 'python', 3.14],\n",
       " ('Hey', 'world'),\n",
       " 'Lalit',\n",
       " 'Vivek',\n",
       " 'Lalit',\n",
       " 'Vivek',\n",
       " 18,\n",
       " 22]"
      ]
     },
     "execution_count": 35,
     "metadata": {},
     "output_type": "execute_result"
    }
   ],
   "source": [
    "x"
   ]
  },
  {
   "cell_type": "code",
   "execution_count": 40,
   "id": "b3ac0487",
   "metadata": {},
   "outputs": [
    {
     "name": "stdout",
     "output_type": "stream",
     "text": [
      "['Python', 3.14, 2023, True, False, ['hello', 'python', 3.14], ('Hey', 'world'), 'Lalit', 'Vivek', 'Lalit', 'Vivek', 18, 22, ['Hello world'], ['Hello world'], ['Hello world']]\n"
     ]
    },
    {
     "data": {
      "text/plain": [
       "['Python',\n",
       " 3.14,\n",
       " 2023,\n",
       " True,\n",
       " False,\n",
       " ['hello', 'python', 3.14],\n",
       " ('Hey', 'world'),\n",
       " 'Lalit',\n",
       " 'Vivek',\n",
       " 'Lalit',\n",
       " 'Vivek',\n",
       " 18,\n",
       " 22,\n",
       " ['Hello world'],\n",
       " ['Hello world'],\n",
       " ['Hello world'],\n",
       " ['Hello world']]"
      ]
     },
     "execution_count": 40,
     "metadata": {},
     "output_type": "execute_result"
    }
   ],
   "source": [
    "print(x)\n",
    "x.append(['Hello world'])\n",
    "x"
   ]
  },
  {
   "cell_type": "markdown",
   "id": "14d413bf",
   "metadata": {},
   "source": [
    "# len(), append(), count(), insert(), max(), min(), sum() function"
   ]
  },
  {
   "cell_type": "code",
   "execution_count": 57,
   "id": "e5088167",
   "metadata": {},
   "outputs": [
    {
     "name": "stdout",
     "output_type": "stream",
     "text": [
      "7\n",
      "[1, 2, 3, 4, 5, 6, 7, 4]\n",
      "2\n",
      "1\n",
      "[1, 2, 10, 3, 4, 5, 6, 7, 4]\n",
      "10\n",
      "1\n",
      "42\n"
     ]
    }
   ],
   "source": [
    "lis = [1,2,3,4,5,6,7]\n",
    "print(len(lis))\n",
    "lis.append(4)\n",
    "print(lis)\n",
    "print(lis.count(4))  # how many 4 are on the list 'lis'\n",
    "print(lis.index(2))  # What is the index of the number 2 in the list 'lis'?\n",
    "lis.insert(2,10) # Add 'vivek' to the index '2'\n",
    "print(lis)\n",
    "print(max(lis))  # What is the maximum number in the list?\n",
    "print(min(lis)) # What is the minimum number in the list?\n",
    "print(sum(lis))"
   ]
  },
  {
   "cell_type": "code",
   "execution_count": null,
   "id": "5742452f",
   "metadata": {},
   "outputs": [],
   "source": []
  },
  {
   "cell_type": "code",
   "execution_count": null,
   "id": "02da5388",
   "metadata": {},
   "outputs": [],
   "source": []
  }
 ],
 "metadata": {
  "kernelspec": {
   "display_name": "Python 3 (ipykernel)",
   "language": "python",
   "name": "python3"
  },
  "language_info": {
   "codemirror_mode": {
    "name": "ipython",
    "version": 3
   },
   "file_extension": ".py",
   "mimetype": "text/x-python",
   "name": "python",
   "nbconvert_exporter": "python",
   "pygments_lexer": "ipython3",
   "version": "3.9.13"
  }
 },
 "nbformat": 4,
 "nbformat_minor": 5
}
