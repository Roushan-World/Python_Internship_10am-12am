{
 "cells": [
  {
   "cell_type": "markdown",
   "id": "adfaa2fc",
   "metadata": {},
   "source": [
    "# 4. Tuples in Python\n",
    "\n",
    "\n",
    " * __Tuples are immutable lists and cannot be changed in any way once it is created.__\n",
    " \n",
    "  * __Tuples__ are defined in the same way as lists.\n",
    "  * They are enclosed within parenthesis and not within square braces.\n",
    "  * __Tuples__ are ordered, indexed collections of data.\n",
    "  * Similar to string indices, the first value in the tuple will have the index [0] the second value [1].\n",
    "  * Negative indices are counted from the end of the __tuple__, just like lists.\n",
    "  * __Tuples__ also has the same structure where commas separate the values.\n",
    "  * __Tuples__ can store duplicate values.\n",
    "  * __Tuples__ allow you to store several data items including string, integer, float in one variable.\n",
    " \n",
    " "
   ]
  },
  {
   "cell_type": "code",
   "execution_count": 1,
   "id": "772066dc",
   "metadata": {},
   "outputs": [
    {
     "data": {
      "text/plain": [
       "[]"
      ]
     },
     "execution_count": 1,
     "metadata": {},
     "output_type": "execute_result"
    }
   ],
   "source": [
    "[]   # list"
   ]
  },
  {
   "cell_type": "code",
   "execution_count": 5,
   "id": "3ff65890",
   "metadata": {},
   "outputs": [
    {
     "data": {
      "text/plain": [
       "()"
      ]
     },
     "execution_count": 5,
     "metadata": {},
     "output_type": "execute_result"
    }
   ],
   "source": [
    "()   # tuple"
   ]
  },
  {
   "cell_type": "code",
   "execution_count": 19,
   "id": "cda849a9",
   "metadata": {},
   "outputs": [
    {
     "name": "stdout",
     "output_type": "stream",
     "text": [
      "('Hello', 'Python', 3.14, 2023, True, False, [1, 2, 3], {1, 2, 3}, {'a': 23, 'b': 40}, (0, 1))\n",
      "<class 'tuple'>\n"
     ]
    }
   ],
   "source": [
    "# Take a tuple\n",
    "\n",
    "\n",
    "tuple_1=('Hello','Python',3.14,2023,True,False,[1,2,3],{1,2,3},{'a':23,'b':40},(0,1))\n",
    "print(tuple_1)\n",
    "print(type(tuple_1))"
   ]
  },
  {
   "cell_type": "code",
   "execution_count": 20,
   "id": "606c1483",
   "metadata": {},
   "outputs": [
    {
     "data": {
      "text/plain": [
       "10"
      ]
     },
     "execution_count": 20,
     "metadata": {},
     "output_type": "execute_result"
    }
   ],
   "source": [
    "len(tuple_1)"
   ]
  },
  {
   "cell_type": "code",
   "execution_count": 21,
   "id": "25b16d4c",
   "metadata": {},
   "outputs": [
    {
     "name": "stdout",
     "output_type": "stream",
     "text": [
      "Hello\n",
      "{'a': 23, 'b': 40}\n",
      "(0, 1)\n"
     ]
    }
   ],
   "source": [
    "print(tuple_1[0])\n",
    "print(tuple_1[8])\n",
    "print(tuple_1[-1])"
   ]
  },
  {
   "cell_type": "code",
   "execution_count": 24,
   "id": "2e460774",
   "metadata": {},
   "outputs": [
    {
     "ename": "TypeError",
     "evalue": "'tuple' object does not support item assignment",
     "output_type": "error",
     "traceback": [
      "\u001b[1;31m---------------------------------------------------------------------------\u001b[0m",
      "\u001b[1;31mTypeError\u001b[0m                                 Traceback (most recent call last)",
      "\u001b[1;32m~\\AppData\\Local\\Temp\\ipykernel_14504\\80162501.py\u001b[0m in \u001b[0;36m<module>\u001b[1;34m\u001b[0m\n\u001b[1;32m----> 1\u001b[1;33m \u001b[0mtuple_1\u001b[0m\u001b[1;33m[\u001b[0m\u001b[1;36m0\u001b[0m\u001b[1;33m]\u001b[0m\u001b[1;33m=\u001b[0m\u001b[1;34m'Vivek'\u001b[0m\u001b[1;33m\u001b[0m\u001b[1;33m\u001b[0m\u001b[0m\n\u001b[0m\u001b[0;32m      2\u001b[0m \u001b[0mprint\u001b[0m\u001b[1;33m(\u001b[0m\u001b[0mtuple_1\u001b[0m\u001b[1;33m)\u001b[0m\u001b[1;33m\u001b[0m\u001b[1;33m\u001b[0m\u001b[0m\n",
      "\u001b[1;31mTypeError\u001b[0m: 'tuple' object does not support item assignment"
     ]
    }
   ],
   "source": [
    "tuple_1[0]='Vivek'\n",
    "print(tuple_1)"
   ]
  },
  {
   "cell_type": "markdown",
   "id": "22dd6f53",
   "metadata": {},
   "source": [
    "# Count() method\n",
    "\n",
    "\n",
    " * This method returns the number of time an item occurs in a tuple."
   ]
  },
  {
   "cell_type": "code",
   "execution_count": 2,
   "id": "58351de2",
   "metadata": {},
   "outputs": [
    {
     "name": "stdout",
     "output_type": "stream",
     "text": [
      "6\n",
      "3\n"
     ]
    }
   ],
   "source": [
    "tup_5=(1,1,2,2,3,3,4,4,4,5,5,6,6,7,7,7,7,7,7)\n",
    "print(tup_5.count(7))\n",
    "print(tup_5.count(4))\n"
   ]
  },
  {
   "cell_type": "markdown",
   "id": "e13a8a78",
   "metadata": {},
   "source": []
  }
 ],
 "metadata": {
  "kernelspec": {
   "display_name": "Python 3 (ipykernel)",
   "language": "python",
   "name": "python3"
  },
  "language_info": {
   "codemirror_mode": {
    "name": "ipython",
    "version": 3
   },
   "file_extension": ".py",
   "mimetype": "text/x-python",
   "name": "python",
   "nbconvert_exporter": "python",
   "pygments_lexer": "ipython3",
   "version": "3.9.13"
  }
 },
 "nbformat": 4,
 "nbformat_minor": 5
}
